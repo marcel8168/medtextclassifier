{
 "cells": [
  {
   "cell_type": "code",
   "execution_count": null,
   "metadata": {},
   "outputs": [],
   "source": [
    "import pandas as pd\n",
    "\n",
    "local_json_file_path = \"pmc_datasets/\"\n",
    "\n",
    "try:\n",
    "    patients_summaries = pd.read_json(local_json_file_path + \"PMC-Patients.json\")\n",
    "    print(\"PMC-Patients.json loaded.\")\n",
    "except Exception as e:\n",
    "    print(f\"An error occurred: {e}\")"
   ]
  },
  {
   "cell_type": "code",
   "execution_count": null,
   "metadata": {},
   "outputs": [],
   "source": [
    "try:\n",
    "    par_dataset = pd.read_json(local_json_file_path + \"/PAR/PAR_corpus.jsonl\", lines=True)\n",
    "    print(\"PAR_corpus.jsonl loaded.\")\n",
    "except Exception as e:\n",
    "    print(f\"An error occurred: {e}\")"
   ]
  },
  {
   "cell_type": "code",
   "execution_count": null,
   "metadata": {},
   "outputs": [],
   "source": [
    "try:\n",
    "    ppr_dataset = pd.read_json(local_json_file_path + \"/PPR/PPR_corpus.jsonl\", lines=True)\n",
    "    print(\"PPR_corpus.jsonl loaded.\")\n",
    "except Exception as e:\n",
    "    print(f\"An error occurred: {e}\")"
   ]
  },
  {
   "cell_type": "code",
   "execution_count": null,
   "metadata": {},
   "outputs": [],
   "source": [
    "patients_summaries_samples = patients_summaries.sample(n=100, random_state=42)\n",
    "ppr_dataset_samples = ppr_dataset.sample(n=100, random_state=42)\n",
    "par_dataset_samples = par_dataset.sample(n=100, random_state=42)\n"
   ]
  },
  {
   "cell_type": "code",
   "execution_count": null,
   "metadata": {},
   "outputs": [],
   "source": [
    "patients_summaries_samples.to_json(\"patients_summaries_samples\", orient=\"records\", lines=True, index=False)\n",
    "ppr_dataset_samples.to_json(\"ppr_dataset_samples\", orient=\"records\", lines=True, index=False)\n",
    "par_dataset_samples.to_json(\"par_dataset_samples\", orient=\"records\", lines=True, index=False)"
   ]
  }
 ],
 "metadata": {
  "kernelspec": {
   "display_name": "Python 3",
   "language": "python",
   "name": "python3"
  },
  "language_info": {
   "codemirror_mode": {
    "name": "ipython",
    "version": 3
   },
   "file_extension": ".py",
   "mimetype": "text/x-python",
   "name": "python",
   "nbconvert_exporter": "python",
   "pygments_lexer": "ipython3",
   "version": "3.11.6"
  }
 },
 "nbformat": 4,
 "nbformat_minor": 2
}
