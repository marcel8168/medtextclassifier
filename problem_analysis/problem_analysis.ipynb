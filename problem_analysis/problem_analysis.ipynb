{
 "cells": [
  {
   "cell_type": "markdown",
   "metadata": {},
   "source": [
    "# Analysis of the PMC-Patients Dataset\n",
    "Link to paper: https://arxiv.org/abs/2202.13876"
   ]
  },
  {
   "cell_type": "code",
   "execution_count": 5,
   "metadata": {},
   "outputs": [
    {
     "name": "stdout",
     "output_type": "stream",
     "text": [
      "PMC-Patients.json loaded.\n"
     ]
    }
   ],
   "source": [
    "import pandas as pd\n",
    "\n",
    "local_json_file_path = \"pmc_datasets/\"\n",
    "\n",
    "try:\n",
    "    patients_summaries = pd.read_json(local_json_file_path + \"PMC-Patients.json\")\n",
    "    print(\"PMC-Patients.json loaded.\")\n",
    "except Exception as e:\n",
    "    print(f\"An error occurred: {e}\")"
   ]
  },
  {
   "cell_type": "markdown",
   "metadata": {},
   "source": [
    "### Compute the average length of all titles:"
   ]
  },
  {
   "cell_type": "code",
   "execution_count": 14,
   "metadata": {},
   "outputs": [
    {
     "name": "stdout",
     "output_type": "stream",
     "text": [
      "Average length of titles: 96.13624172324198\n"
     ]
    }
   ],
   "source": [
    "title_list = patients_summaries.title.to_list()\n",
    "total_len = 0\n",
    "for title in title_list:\n",
    "    total_len += len(title)\n",
    "\n",
    "avg_len = total_len/len(title_list)\n",
    "print(f\"Average length of titles: {avg_len}\")"
   ]
  },
  {
   "cell_type": "markdown",
   "metadata": {},
   "source": [
    "### Compute the average length of all patient summaries:"
   ]
  },
  {
   "cell_type": "code",
   "execution_count": 15,
   "metadata": {},
   "outputs": [
    {
     "name": "stdout",
     "output_type": "stream",
     "text": [
      "Average length of patient summaries: 2762.0226959780643\n"
     ]
    }
   ],
   "source": [
    "summary_list = patients_summaries.patient.to_list()\n",
    "total_len = 0\n",
    "for summary in summary_list:\n",
    "    total_len += len(summary)\n",
    "\n",
    "avg_len = total_len/len(summary_list)\n",
    "print(f\"Average length of patient summaries: {avg_len}\")"
   ]
  },
  {
   "cell_type": "markdown",
   "metadata": {},
   "source": [
    "### Generate random subsets for analysing the veterinary content:"
   ]
  },
  {
   "cell_type": "code",
   "execution_count": null,
   "metadata": {},
   "outputs": [],
   "source": [
    "try:\n",
    "    par_dataset = pd.read_json(local_json_file_path + \"/PAR/PAR_corpus.jsonl\", lines=True)\n",
    "    print(\"PAR_corpus.jsonl loaded.\")\n",
    "except Exception as e:\n",
    "    print(f\"An error occurred: {e}\")"
   ]
  },
  {
   "cell_type": "code",
   "execution_count": null,
   "metadata": {},
   "outputs": [],
   "source": [
    "try:\n",
    "    ppr_dataset = pd.read_json(local_json_file_path + \"/PPR/PPR_corpus.jsonl\", lines=True)\n",
    "    print(\"PPR_corpus.jsonl loaded.\")\n",
    "except Exception as e:\n",
    "    print(f\"An error occurred: {e}\")"
   ]
  },
  {
   "cell_type": "code",
   "execution_count": null,
   "metadata": {},
   "outputs": [],
   "source": [
    "patients_summaries_samples = patients_summaries.sample(n=100, random_state=42)\n",
    "ppr_dataset_samples = ppr_dataset.sample(n=100, random_state=42)\n",
    "par_dataset_samples = par_dataset.sample(n=100, random_state=42)\n"
   ]
  },
  {
   "cell_type": "code",
   "execution_count": null,
   "metadata": {},
   "outputs": [],
   "source": [
    "patients_summaries_samples.to_json(\"patients_summaries_samples\", orient=\"records\", lines=True, index=False)\n",
    "ppr_dataset_samples.to_json(\"ppr_dataset_samples\", orient=\"records\", lines=True, index=False)\n",
    "par_dataset_samples.to_json(\"par_dataset_samples\", orient=\"records\", lines=True, index=False)"
   ]
  }
 ],
 "metadata": {
  "kernelspec": {
   "display_name": "Python 3",
   "language": "python",
   "name": "python3"
  },
  "language_info": {
   "codemirror_mode": {
    "name": "ipython",
    "version": 3
   },
   "file_extension": ".py",
   "mimetype": "text/x-python",
   "name": "python",
   "nbconvert_exporter": "python",
   "pygments_lexer": "ipython3",
   "version": "3.11.6"
  }
 },
 "nbformat": 4,
 "nbformat_minor": 2
}
