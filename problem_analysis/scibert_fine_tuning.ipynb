{
 "cells": [
  {
   "cell_type": "markdown",
   "id": "50fb5584",
   "metadata": {},
   "source": [
    "# Fine-Tune a SciBERT Model\n",
    "### Load queried data"
   ]
  },
  {
   "cell_type": "code",
   "execution_count": 1,
   "id": "ef8a4e6f",
   "metadata": {
    "execution": {
     "iopub.execute_input": "2024-01-08T10:01:27.754349Z",
     "iopub.status.busy": "2024-01-08T10:01:27.753983Z",
     "iopub.status.idle": "2024-01-08T10:01:33.093565Z",
     "shell.execute_reply": "2024-01-08T10:01:33.092587Z"
    },
    "papermill": {
     "duration": 5.356692,
     "end_time": "2024-01-08T10:01:33.095864",
     "exception": false,
     "start_time": "2024-01-08T10:01:27.739172",
     "status": "completed"
    },
    "tags": []
   },
   "outputs": [
    {
     "name": "stderr",
     "output_type": "stream",
     "text": [
      "c:\\Users\\albbl\\Documents\\Studium\\11_Semester\\medtextclassification_repo\\.venv\\Lib\\site-packages\\tqdm\\auto.py:21: TqdmWarning: IProgress not found. Please update jupyter and ipywidgets. See https://ipywidgets.readthedocs.io/en/stable/user_install.html\n",
      "  from .autonotebook import tqdm as notebook_tqdm\n"
     ]
    }
   ],
   "source": [
    "import pandas as pd\n",
    "import torch\n",
    "import numpy as np\n",
    "from transformers import AutoModel, AutoTokenizer\n",
    "from torch.utils.data import Dataset, DataLoader\n",
    "from tqdm import tqdm\n",
    "import matplotlib.pyplot as plt\n",
    "import os"
   ]
  },
  {
   "cell_type": "code",
   "execution_count": 2,
   "id": "a5fab4a9",
   "metadata": {
    "execution": {
     "iopub.execute_input": "2024-01-08T10:01:33.125366Z",
     "iopub.status.busy": "2024-01-08T10:01:33.124901Z",
     "iopub.status.idle": "2024-01-08T10:01:34.228341Z",
     "shell.execute_reply": "2024-01-08T10:01:34.227503Z"
    },
    "papermill": {
     "duration": 1.120803,
     "end_time": "2024-01-08T10:01:34.230768",
     "exception": false,
     "start_time": "2024-01-08T10:01:33.109965",
     "status": "completed"
    },
    "tags": []
   },
   "outputs": [],
   "source": [
    "MAX_LEN = 512\n",
    "TRAIN_BATCH_SIZE = 4\n",
    "VAL_BATCH_SIZE = 4\n",
    "TEST_BATCH_SIZE = 4\n",
    "EPOCHS = 3\n",
    "LEARNING_RATE = 1e-5\n",
    "RANDOM_SEED = 42\n",
    "MODEL_NAME = \"allenai/scibert_scivocab_uncased\"\n",
    "LABELS_MAP = {\n",
    "    \"human_medicine\":[1, 0],\n",
    "    \"veterinary_medicine\":[0, 1]\n",
    "    }\n",
    "tokenizer = AutoTokenizer.from_pretrained(MODEL_NAME)"
   ]
  },
  {
   "cell_type": "code",
   "execution_count": null,
   "id": "e3581d9f",
   "metadata": {
    "execution": {
     "iopub.execute_input": "2024-01-08T10:01:34.262619Z",
     "iopub.status.busy": "2024-01-08T10:01:34.262282Z",
     "iopub.status.idle": "2024-01-08T10:01:40.117657Z",
     "shell.execute_reply": "2024-01-08T10:01:40.116657Z"
    },
    "papermill": {
     "duration": 5.873199,
     "end_time": "2024-01-08T10:01:40.120072",
     "exception": false,
     "start_time": "2024-01-08T10:01:34.246873",
     "status": "completed"
    },
    "tags": []
   },
   "outputs": [],
   "source": [
    "import itertools\n",
    "from xml.etree.ElementTree import ElementTree\n",
    "import pandas as pd\n",
    "\n",
    "\n",
    "# Extract data from XML and create a DataFrame\n",
    "xml_files = [[\"NEJM_data.xml\", \"BMJ_data.xml\"], [\"animals_data.xml\", \"caserepvetmed_data.xml\", \"jvetmedsci_data.xml\", \"frontvetsci_data.xml\", \"jamanimhospassoc_data.xml\", \"jsmallanimpract_data.xml\", \"openvetj_data.xml\", \"vetmedsci_data.xml\", \"vetsci_data.xml\"]]\n",
    "data_path = \"../data-querying/results/\"\n",
    "\n",
    "data_sets = [[], []]\n",
    "record_sets = []\n",
    "\n",
    "tree = ElementTree()\n",
    "\n",
    "for i, med_field in enumerate(xml_files):\n",
    "    med_field_lists = []\n",
    "    for xml in med_field:\n",
    "        temp = tree.parse(data_path + xml)\n",
    "        med_field_lists.append(temp.findall('.//Rec'))\n",
    "    record_sets.append(list(itertools.chain(*med_field_lists)))\n",
    "\n",
    "progress_bar = tqdm(range(sum(len(x) for x in record_sets)))\n",
    "\n",
    "for i, med_field in enumerate(LABELS_MAP):\n",
    "    print(f\"Processing medical field: {med_field}\")\n",
    "    labels = LABELS_MAP[med_field]\n",
    "    for rec in record_sets[i]:\n",
    "        try: \n",
    "            common = rec.find('.//Common')\n",
    "            pmid = common.find('PMID').text\n",
    "            text_types = [elem.text for elem in common.findall('Type')]\n",
    "            title = common.find('Title').text\n",
    "            abstract = common.find('Abstract').text\n",
    "            mesh_term_list = rec.find('.//MeshTermList')\n",
    "            mesh_terms = [term.text for term in mesh_term_list.findall('MeshTerm')]\n",
    "        except Exception as e:\n",
    "            print(f\"An error occurred: {e}\")\n",
    "            print(f\"Error occured for PMID: {pmid}\")\n",
    "\n",
    "        data_sets[i].append({'pmid': pmid, \"text_types\": text_types, 'title': title,\n",
    "                    'abstract': abstract, 'meshtermlist': mesh_terms, 'labels': labels})\n",
    "        progress_bar.update(1)\n",
    "\n",
    "hum_df = pd.DataFrame(data_sets[0])\n",
    "vet_df = pd.DataFrame(data_sets[1])"
   ]
  },
  {
   "cell_type": "code",
   "execution_count": null,
   "id": "c5e8711f",
   "metadata": {
    "execution": {
     "iopub.execute_input": "2024-01-08T10:01:40.152985Z",
     "iopub.status.busy": "2024-01-08T10:01:40.152653Z",
     "iopub.status.idle": "2024-01-08T10:02:42.625927Z",
     "shell.execute_reply": "2024-01-08T10:02:42.624962Z"
    },
    "papermill": {
     "duration": 62.492134,
     "end_time": "2024-01-08T10:02:42.628021",
     "exception": false,
     "start_time": "2024-01-08T10:01:40.135887",
     "status": "completed"
    },
    "tags": []
   },
   "outputs": [],
   "source": [
    "hum_df.describe()"
   ]
  },
  {
   "cell_type": "code",
   "execution_count": null,
   "id": "ccbec381",
   "metadata": {
    "execution": {
     "iopub.execute_input": "2024-01-08T10:02:42.660651Z",
     "iopub.status.busy": "2024-01-08T10:02:42.660322Z",
     "iopub.status.idle": "2024-01-08T10:02:55.134638Z",
     "shell.execute_reply": "2024-01-08T10:02:55.133665Z"
    },
    "papermill": {
     "duration": 12.493345,
     "end_time": "2024-01-08T10:02:55.137133",
     "exception": false,
     "start_time": "2024-01-08T10:02:42.643788",
     "status": "completed"
    },
    "tags": []
   },
   "outputs": [],
   "source": [
    "vet_df.describe()"
   ]
  },
  {
   "cell_type": "code",
   "execution_count": null,
   "id": "532c24d6",
   "metadata": {
    "execution": {
     "iopub.execute_input": "2024-01-08T10:02:55.173758Z",
     "iopub.status.busy": "2024-01-08T10:02:55.173439Z",
     "iopub.status.idle": "2024-01-08T10:02:56.223644Z",
     "shell.execute_reply": "2024-01-08T10:02:56.222725Z"
    },
    "papermill": {
     "duration": 1.070565,
     "end_time": "2024-01-08T10:02:56.226904",
     "exception": false,
     "start_time": "2024-01-08T10:02:55.156339",
     "status": "completed"
    },
    "tags": []
   },
   "outputs": [],
   "source": [
    "hum_exploded_df = hum_df.explode(\"text_types\")\n",
    "vet_exploded_df = vet_df.explode(\"text_types\")\n",
    "\n",
    "hum_text_type_counts = hum_exploded_df['text_types'].value_counts()\n",
    "vet_text_type_counts = vet_exploded_df['text_types'].value_counts()\n",
    "\n",
    "hum_test_type_counts_aligned, vet_test_type_counts_aligned = hum_text_type_counts.align(vet_text_type_counts, join='outer')\n",
    "test_type_counts_aligned = pd.concat([hum_test_type_counts_aligned.sort_values(ascending=False), \n",
    "                                      vet_test_type_counts_aligned.sort_values(ascending=False)], \n",
    "                                     keys=['human', 'veterinary'], \n",
    "                                     axis=1)\n",
    "\n",
    "test_type_counts_aligned.plot(kind='bar', position=0, width=0.4, figsize=(20, 4))\n",
    "\n",
    "plt.title('Frequency of text types')\n",
    "plt.xlabel('Text type')\n",
    "plt.ylabel('Frequency')\n",
    "plt.legend()\n",
    "plt.show()"
   ]
  },
  {
   "cell_type": "code",
   "execution_count": 3,
   "id": "a27efd3b",
   "metadata": {
    "execution": {
     "iopub.execute_input": "2024-01-08T10:02:56.265235Z",
     "iopub.status.busy": "2024-01-08T10:02:56.264911Z",
     "iopub.status.idle": "2024-01-08T10:02:56.325679Z",
     "shell.execute_reply": "2024-01-08T10:02:56.324706Z"
    },
    "papermill": {
     "duration": 0.082134,
     "end_time": "2024-01-08T10:02:56.327644",
     "exception": false,
     "start_time": "2024-01-08T10:02:56.245510",
     "status": "completed"
    },
    "tags": []
   },
   "outputs": [
    {
     "data": {
      "text/plain": [
       "'cuda'"
      ]
     },
     "execution_count": 3,
     "metadata": {},
     "output_type": "execute_result"
    }
   ],
   "source": [
    "from torch import cuda\n",
    "device = 'cuda' if cuda.is_available() else 'cpu'\n",
    "device"
   ]
  },
  {
   "cell_type": "code",
   "execution_count": null,
   "id": "7f9a50e6",
   "metadata": {
    "execution": {
     "iopub.execute_input": "2024-01-08T10:02:56.365708Z",
     "iopub.status.busy": "2024-01-08T10:02:56.365353Z",
     "iopub.status.idle": "2024-01-08T10:02:56.374912Z",
     "shell.execute_reply": "2024-01-08T10:02:56.374032Z"
    },
    "papermill": {
     "duration": 0.030921,
     "end_time": "2024-01-08T10:02:56.376900",
     "exception": false,
     "start_time": "2024-01-08T10:02:56.345979",
     "status": "completed"
    },
    "tags": []
   },
   "outputs": [],
   "source": [
    "class Dataset(torch.utils.data.Dataset):\n",
    "\n",
    "    def __init__(self, texts, labels, tokenizer, max_len):\n",
    "        self.texts = texts\n",
    "        self.labels = labels\n",
    "        self.tokenizer = tokenizer\n",
    "        self.max_len = max_len\n",
    "\n",
    "    def __len__(self):\n",
    "        return len(self.texts)\n",
    "\n",
    "    def __getitem__(self, idx):\n",
    "        if torch.is_tensor(idx):\n",
    "            idx = idx.tolist()\n",
    "            \n",
    "        text = str(self.texts[idx])\n",
    "        labels = self.labels[idx]\n",
    "\n",
    "        encodings = self.tokenizer.encode_plus(\n",
    "            text,\n",
    "            add_special_tokens=True,\n",
    "            max_length=self.max_len,\n",
    "            truncation=True,\n",
    "            pad_to_max_length=True,\n",
    "            return_token_type_ids=True,\n",
    "            return_attention_mask=True,\n",
    "            return_tensors=\"pt\"\n",
    "        )\n",
    "        \n",
    "        ids = encodings['input_ids'].flatten()\n",
    "        mask = encodings['attention_mask'].flatten()\n",
    "        token_type_ids = encodings[\"token_type_ids\"].flatten()\n",
    "\n",
    "\n",
    "        return {\n",
    "            'text': text,\n",
    "            'input_ids': ids.to(device),\n",
    "            'attention_mask': mask.to(device),\n",
    "            'token_type_ids': token_type_ids.to(device),\n",
    "            'labels': torch.tensor(labels, dtype=torch.long).to(device)\n",
    "        }"
   ]
  },
  {
   "cell_type": "code",
   "execution_count": null,
   "id": "beacfa6a",
   "metadata": {
    "execution": {
     "iopub.execute_input": "2024-01-08T10:02:56.414913Z",
     "iopub.status.busy": "2024-01-08T10:02:56.414146Z",
     "iopub.status.idle": "2024-01-08T10:02:56.509158Z",
     "shell.execute_reply": "2024-01-08T10:02:56.508368Z"
    },
    "papermill": {
     "duration": 0.116505,
     "end_time": "2024-01-08T10:02:56.511540",
     "exception": false,
     "start_time": "2024-01-08T10:02:56.395035",
     "status": "completed"
    },
    "tags": []
   },
   "outputs": [],
   "source": [
    "max_num = vet_text_type_counts[\"Case Reports\"]\n",
    "\n",
    "vet_case_rep = vet_df[vet_df['text_types'].apply(lambda x: \"Case Reports\" in x)].sample(max_num, random_state=42).reset_index(drop=True, inplace=False)\n",
    "vet_jour_art = vet_df[vet_df['text_types'].apply(lambda x: \"Journal Article\" in x)].sample(max_num, random_state=42).reset_index(drop=True, inplace=False)\n",
    "\n",
    "hum_case_rep = hum_df[hum_df['text_types'].apply(lambda x: \"Case Reports\" in x)].sample(max_num, random_state=42).reset_index(drop=True, inplace=False)\n",
    "hum_jour_art = hum_df[hum_df['text_types'].apply(lambda x: \"Journal Article\" in x)].sample(max_num, random_state=42).reset_index(drop=True, inplace=False)"
   ]
  },
  {
   "cell_type": "code",
   "execution_count": null,
   "id": "db9b50ba",
   "metadata": {
    "execution": {
     "iopub.execute_input": "2024-01-08T10:02:56.549822Z",
     "iopub.status.busy": "2024-01-08T10:02:56.548990Z",
     "iopub.status.idle": "2024-01-08T10:02:56.574704Z",
     "shell.execute_reply": "2024-01-08T10:02:56.573850Z"
    },
    "papermill": {
     "duration": 0.046825,
     "end_time": "2024-01-08T10:02:56.576691",
     "exception": false,
     "start_time": "2024-01-08T10:02:56.529866",
     "status": "completed"
    },
    "tags": []
   },
   "outputs": [],
   "source": [
    "pd.concat([hum_case_rep, hum_jour_art], axis=0)"
   ]
  },
  {
   "cell_type": "code",
   "execution_count": null,
   "id": "86aea7da",
   "metadata": {
    "execution": {
     "iopub.execute_input": "2024-01-08T10:02:56.661811Z",
     "iopub.status.busy": "2024-01-08T10:02:56.660948Z",
     "iopub.status.idle": "2024-01-08T10:02:57.581277Z",
     "shell.execute_reply": "2024-01-08T10:02:57.580290Z"
    },
    "papermill": {
     "duration": 0.942301,
     "end_time": "2024-01-08T10:02:57.583330",
     "exception": false,
     "start_time": "2024-01-08T10:02:56.641029",
     "status": "completed"
    },
    "tags": []
   },
   "outputs": [],
   "source": [
    "from sklearn.model_selection import train_test_split\n",
    "\n",
    "\n",
    "hum_train_set, hum_test_set = train_test_split(\n",
    "  pd.concat([hum_case_rep, hum_jour_art], axis=0),\n",
    "  test_size=0.1,\n",
    "  random_state=RANDOM_SEED\n",
    ")\n",
    "\n",
    "hum_train_set, hum_val_set = train_test_split(\n",
    "  hum_train_set,\n",
    "  test_size=0.2,\n",
    "  random_state=RANDOM_SEED\n",
    ")\n",
    "\n",
    "vet_train_set, vet_test_set = train_test_split(\n",
    "  pd.concat([vet_case_rep, vet_jour_art], axis=0),\n",
    "  test_size=0.1,\n",
    "  random_state=RANDOM_SEED\n",
    ")\n",
    "\n",
    "vet_train_set, vet_val_set = train_test_split(\n",
    "  vet_train_set,\n",
    "  test_size=0.2,\n",
    "  random_state=RANDOM_SEED\n",
    ")\n",
    "\n",
    "train_set = pd.concat([hum_train_set, vet_train_set]).sample(frac=1).reset_index(drop=True, inplace=False)\n",
    "val_set = pd.concat([hum_val_set, vet_val_set]).sample(frac=1).reset_index(drop=True, inplace=False)\n",
    "test_set = pd.concat([hum_test_set, vet_test_set]).sample(frac=1).reset_index(drop=True, inplace=False)\n",
    "\n",
    "print(\"TRAIN Dataset: {}\".format(train_set.shape))\n",
    "print(\"VAL Dataset: {}\".format(val_set.shape))\n",
    "print(\"TEST Dataset: {}\".format(test_set.shape))"
   ]
  },
  {
   "cell_type": "code",
   "execution_count": null,
   "id": "05b4b2b4",
   "metadata": {
    "execution": {
     "iopub.execute_input": "2024-01-08T10:02:57.622819Z",
     "iopub.status.busy": "2024-01-08T10:02:57.622482Z",
     "iopub.status.idle": "2024-01-08T10:02:57.631628Z",
     "shell.execute_reply": "2024-01-08T10:02:57.630587Z"
    },
    "papermill": {
     "duration": 0.031143,
     "end_time": "2024-01-08T10:02:57.633546",
     "exception": false,
     "start_time": "2024-01-08T10:02:57.602403",
     "status": "completed"
    },
    "tags": []
   },
   "outputs": [],
   "source": [
    "test_set.labels.describe()"
   ]
  },
  {
   "cell_type": "code",
   "execution_count": null,
   "id": "c6608da4",
   "metadata": {
    "execution": {
     "iopub.execute_input": "2024-01-08T10:02:57.672451Z",
     "iopub.status.busy": "2024-01-08T10:02:57.672026Z",
     "iopub.status.idle": "2024-01-08T10:02:57.889193Z",
     "shell.execute_reply": "2024-01-08T10:02:57.888287Z"
    },
    "papermill": {
     "duration": 0.239014,
     "end_time": "2024-01-08T10:02:57.891321",
     "exception": false,
     "start_time": "2024-01-08T10:02:57.652307",
     "status": "completed"
    },
    "tags": []
   },
   "outputs": [],
   "source": [
    "ds = Dataset(train_set.abstract, train_set.labels, tokenizer, MAX_LEN)\n",
    "ds.__getitem__(0)"
   ]
  },
  {
   "cell_type": "code",
   "execution_count": null,
   "id": "ae1d57ac",
   "metadata": {
    "execution": {
     "iopub.execute_input": "2024-01-08T10:02:57.932525Z",
     "iopub.status.busy": "2024-01-08T10:02:57.931699Z",
     "iopub.status.idle": "2024-01-08T10:02:57.937172Z",
     "shell.execute_reply": "2024-01-08T10:02:57.936305Z"
    },
    "papermill": {
     "duration": 0.028078,
     "end_time": "2024-01-08T10:02:57.939097",
     "exception": false,
     "start_time": "2024-01-08T10:02:57.911019",
     "status": "completed"
    },
    "tags": []
   },
   "outputs": [],
   "source": [
    "def get_dataloader(texts, targets, tokenizer, batch_size, max_len, num_workers=0):\n",
    "    dataset = Dataset(texts.to_numpy(), targets, tokenizer, max_len)\n",
    "    params = {\n",
    "        \"batch_size\":batch_size,\n",
    "        \"num_workers\":num_workers\n",
    "    }\n",
    "    dataloader = DataLoader(dataset, **params)\n",
    "    \n",
    "    return dataloader"
   ]
  },
  {
   "cell_type": "code",
   "execution_count": null,
   "id": "b9cddbac",
   "metadata": {
    "execution": {
     "iopub.execute_input": "2024-01-08T10:02:57.978857Z",
     "iopub.status.busy": "2024-01-08T10:02:57.978543Z",
     "iopub.status.idle": "2024-01-08T10:02:58.275145Z",
     "shell.execute_reply": "2024-01-08T10:02:58.274304Z"
    },
    "papermill": {
     "duration": 0.319196,
     "end_time": "2024-01-08T10:02:58.277518",
     "exception": false,
     "start_time": "2024-01-08T10:02:57.958322",
     "status": "completed"
    },
    "tags": []
   },
   "outputs": [],
   "source": [
    "train_set[\"title_abstract\"] = train_set[[\"title\", \"abstract\"]].apply(lambda row: ' '.join(row.values.astype(str)), axis=1)\n",
    "val_set[\"title_abstract\"] = val_set[[\"title\", \"abstract\"]].apply(lambda row: ' '.join(row.values.astype(str)), axis=1)\n",
    "test_set[\"title_abstract\"] = test_set[[\"title\", \"abstract\"]].apply(lambda row: ' '.join(row.values.astype(str)), axis=1)"
   ]
  },
  {
   "cell_type": "code",
   "execution_count": null,
   "id": "cf2d1452",
   "metadata": {
    "execution": {
     "iopub.execute_input": "2024-01-08T10:02:58.318912Z",
     "iopub.status.busy": "2024-01-08T10:02:58.318136Z",
     "iopub.status.idle": "2024-01-08T10:02:58.324216Z",
     "shell.execute_reply": "2024-01-08T10:02:58.323305Z"
    },
    "papermill": {
     "duration": 0.028695,
     "end_time": "2024-01-08T10:02:58.326077",
     "exception": false,
     "start_time": "2024-01-08T10:02:58.297382",
     "status": "completed"
    },
    "tags": []
   },
   "outputs": [],
   "source": [
    "train_dataloader = get_dataloader(train_set.title_abstract, train_set.labels, tokenizer, TRAIN_BATCH_SIZE, MAX_LEN)\n",
    "val_dataloader = get_dataloader(val_set.title_abstract, val_set.labels, tokenizer, VAL_BATCH_SIZE, MAX_LEN)\n",
    "test_dataloader = get_dataloader(test_set.title_abstract, test_set.labels, tokenizer, TEST_BATCH_SIZE, MAX_LEN)"
   ]
  },
  {
   "cell_type": "code",
   "execution_count": null,
   "id": "7bfc5685",
   "metadata": {
    "execution": {
     "iopub.execute_input": "2024-01-08T10:02:58.366072Z",
     "iopub.status.busy": "2024-01-08T10:02:58.365409Z",
     "iopub.status.idle": "2024-01-08T10:02:58.401604Z",
     "shell.execute_reply": "2024-01-08T10:02:58.400583Z"
    },
    "papermill": {
     "duration": 0.058267,
     "end_time": "2024-01-08T10:02:58.403489",
     "exception": false,
     "start_time": "2024-01-08T10:02:58.345222",
     "status": "completed"
    },
    "tags": []
   },
   "outputs": [],
   "source": [
    "data = next(iter(val_dataloader))\n",
    "data.keys()"
   ]
  },
  {
   "cell_type": "code",
   "execution_count": null,
   "id": "dbb0cf6d",
   "metadata": {
    "execution": {
     "iopub.execute_input": "2024-01-08T10:02:58.444200Z",
     "iopub.status.busy": "2024-01-08T10:02:58.443883Z",
     "iopub.status.idle": "2024-01-08T10:02:58.449175Z",
     "shell.execute_reply": "2024-01-08T10:02:58.448113Z"
    },
    "papermill": {
     "duration": 0.027722,
     "end_time": "2024-01-08T10:02:58.451151",
     "exception": false,
     "start_time": "2024-01-08T10:02:58.423429",
     "status": "completed"
    },
    "tags": []
   },
   "outputs": [],
   "source": [
    "print(data['input_ids'].shape)\n",
    "print(data['attention_mask'].shape)\n",
    "print(data['labels'].shape)"
   ]
  },
  {
   "cell_type": "code",
   "execution_count": null,
   "id": "5a6e61cd",
   "metadata": {
    "execution": {
     "iopub.execute_input": "2024-01-08T10:02:58.492029Z",
     "iopub.status.busy": "2024-01-08T10:02:58.491428Z",
     "iopub.status.idle": "2024-01-08T10:02:58.506971Z",
     "shell.execute_reply": "2024-01-08T10:02:58.506157Z"
    },
    "papermill": {
     "duration": 0.038022,
     "end_time": "2024-01-08T10:02:58.508759",
     "exception": false,
     "start_time": "2024-01-08T10:02:58.470737",
     "status": "completed"
    },
    "tags": []
   },
   "outputs": [],
   "source": [
    "data[\"input_ids\"]"
   ]
  },
  {
   "cell_type": "code",
   "execution_count": null,
   "id": "56efac57",
   "metadata": {
    "execution": {
     "iopub.execute_input": "2024-01-08T10:02:58.549604Z",
     "iopub.status.busy": "2024-01-08T10:02:58.548935Z",
     "iopub.status.idle": "2024-01-08T10:02:58.555789Z",
     "shell.execute_reply": "2024-01-08T10:02:58.554996Z"
    },
    "papermill": {
     "duration": 0.029293,
     "end_time": "2024-01-08T10:02:58.557604",
     "exception": false,
     "start_time": "2024-01-08T10:02:58.528311",
     "status": "completed"
    },
    "tags": []
   },
   "outputs": [],
   "source": [
    "data[\"attention_mask\"]"
   ]
  },
  {
   "cell_type": "code",
   "execution_count": null,
   "id": "820a01b6",
   "metadata": {
    "execution": {
     "iopub.execute_input": "2024-01-08T10:02:58.599356Z",
     "iopub.status.busy": "2024-01-08T10:02:58.598553Z",
     "iopub.status.idle": "2024-01-08T10:02:58.606082Z",
     "shell.execute_reply": "2024-01-08T10:02:58.605198Z"
    },
    "papermill": {
     "duration": 0.030524,
     "end_time": "2024-01-08T10:02:58.608042",
     "exception": false,
     "start_time": "2024-01-08T10:02:58.577518",
     "status": "completed"
    },
    "tags": []
   },
   "outputs": [],
   "source": [
    "data[\"token_type_ids\"]"
   ]
  },
  {
   "cell_type": "code",
   "execution_count": null,
   "id": "1766caf3",
   "metadata": {
    "execution": {
     "iopub.execute_input": "2024-01-08T10:02:58.649470Z",
     "iopub.status.busy": "2024-01-08T10:02:58.648825Z",
     "iopub.status.idle": "2024-01-08T10:03:03.509913Z",
     "shell.execute_reply": "2024-01-08T10:03:03.508980Z"
    },
    "papermill": {
     "duration": 4.884033,
     "end_time": "2024-01-08T10:03:03.512088",
     "exception": false,
     "start_time": "2024-01-08T10:02:58.628055",
     "status": "completed"
    },
    "tags": []
   },
   "outputs": [],
   "source": [
    "model = AutoModel.from_pretrained(MODEL_NAME)\n",
    "model.to(device)\n",
    "model(data[\"input_ids\"], data[\"attention_mask\"], data[\"token_type_ids\"])"
   ]
  },
  {
   "cell_type": "code",
   "execution_count": 3,
   "id": "b5315606",
   "metadata": {
    "execution": {
     "iopub.execute_input": "2024-01-08T10:03:03.554644Z",
     "iopub.status.busy": "2024-01-08T10:03:03.554143Z",
     "iopub.status.idle": "2024-01-08T10:03:03.561179Z",
     "shell.execute_reply": "2024-01-08T10:03:03.560296Z"
    },
    "papermill": {
     "duration": 0.030516,
     "end_time": "2024-01-08T10:03:03.563206",
     "exception": false,
     "start_time": "2024-01-08T10:03:03.532690",
     "status": "completed"
    },
    "tags": []
   },
   "outputs": [],
   "source": [
    "from transformers import BertConfig\n",
    "\n",
    "\n",
    "class SciBertClassifier(torch.nn.Module):\n",
    "\n",
    "    def __init__(self, dropout=0.5):\n",
    "\n",
    "        super(SciBertClassifier, self).__init__()\n",
    "        self.scibert = AutoModel.from_pretrained(MODEL_NAME, num_labels=2)\n",
    "        self.dropout = torch.nn.Dropout(dropout)\n",
    "        self.linear = torch.nn.Linear(self.scibert.config.hidden_size, 2)\n",
    "\n",
    "    def forward(self, input_ids, attention_mask=None, token_type_ids=None):\n",
    "\n",
    "        scibert_output = self.scibert(input_ids=input_ids, attention_mask=attention_mask, token_type_ids = token_type_ids)\n",
    "        dropout_output = self.dropout(scibert_output.pooler_output)\n",
    "        output = self.linear(dropout_output)\n",
    "\n",
    "        return output\n"
   ]
  },
  {
   "cell_type": "code",
   "execution_count": 5,
   "id": "3d1d8837",
   "metadata": {
    "execution": {
     "iopub.execute_input": "2024-01-08T10:03:03.605576Z",
     "iopub.status.busy": "2024-01-08T10:03:03.605219Z",
     "iopub.status.idle": "2024-01-08T10:03:05.116585Z",
     "shell.execute_reply": "2024-01-08T10:03:05.115746Z"
    },
    "papermill": {
     "duration": 1.535436,
     "end_time": "2024-01-08T10:03:05.118907",
     "exception": false,
     "start_time": "2024-01-08T10:03:03.583471",
     "status": "completed"
    },
    "tags": []
   },
   "outputs": [],
   "source": [
    "model = SciBertClassifier()\n",
    "model = model.to(device)"
   ]
  },
  {
   "cell_type": "code",
   "execution_count": null,
   "id": "d21e11f1",
   "metadata": {
    "execution": {
     "iopub.execute_input": "2024-01-08T10:03:05.162071Z",
     "iopub.status.busy": "2024-01-08T10:03:05.161292Z",
     "iopub.status.idle": "2024-01-08T10:03:06.931178Z",
     "shell.execute_reply": "2024-01-08T10:03:06.930309Z"
    },
    "papermill": {
     "duration": 1.793711,
     "end_time": "2024-01-08T10:03:06.933366",
     "exception": false,
     "start_time": "2024-01-08T10:03:05.139655",
     "status": "completed"
    },
    "tags": []
   },
   "outputs": [],
   "source": [
    "bert_model = AutoModel.from_pretrained(\"allenai/scibert_scivocab_uncased\", num_labels=2)\n",
    "bert_tokenizer = AutoTokenizer.from_pretrained(\"allenai/scibert_scivocab_uncased\")\n",
    "\n",
    "encodings = tokenizer([\"This is a sentence\", \"This is another sentence\"], return_tensors=\"pt\")\n",
    "encodings"
   ]
  },
  {
   "cell_type": "code",
   "execution_count": null,
   "id": "8b9cfb70",
   "metadata": {
    "execution": {
     "iopub.execute_input": "2024-01-08T10:03:06.975971Z",
     "iopub.status.busy": "2024-01-08T10:03:06.975640Z",
     "iopub.status.idle": "2024-01-08T10:03:07.059396Z",
     "shell.execute_reply": "2024-01-08T10:03:07.058454Z"
    },
    "papermill": {
     "duration": 0.107174,
     "end_time": "2024-01-08T10:03:07.061338",
     "exception": false,
     "start_time": "2024-01-08T10:03:06.954164",
     "status": "completed"
    },
    "tags": []
   },
   "outputs": [],
   "source": [
    "torch.nn.functional.softmax(model(data[\"input_ids\"], data[\"attention_mask\"], data[\"token_type_ids\"]), dim=1)"
   ]
  },
  {
   "cell_type": "code",
   "execution_count": null,
   "id": "88b4d896",
   "metadata": {
    "execution": {
     "iopub.execute_input": "2024-01-08T10:03:07.104308Z",
     "iopub.status.busy": "2024-01-08T10:03:07.103595Z",
     "iopub.status.idle": "2024-01-08T10:03:07.108160Z",
     "shell.execute_reply": "2024-01-08T10:03:07.107286Z"
    },
    "papermill": {
     "duration": 0.027887,
     "end_time": "2024-01-08T10:03:07.110059",
     "exception": false,
     "start_time": "2024-01-08T10:03:07.082172",
     "status": "completed"
    },
    "tags": []
   },
   "outputs": [],
   "source": [
    "def loss_fn(outputs, targets):\n",
    "    return torch.nn.BCEWithLogitsLoss()(outputs, targets)"
   ]
  },
  {
   "cell_type": "code",
   "execution_count": null,
   "id": "762b5fae",
   "metadata": {
    "execution": {
     "iopub.execute_input": "2024-01-08T10:03:07.152849Z",
     "iopub.status.busy": "2024-01-08T10:03:07.152492Z",
     "iopub.status.idle": "2024-01-08T10:03:07.233924Z",
     "shell.execute_reply": "2024-01-08T10:03:07.232802Z"
    },
    "papermill": {
     "duration": 0.105377,
     "end_time": "2024-01-08T10:03:07.236013",
     "exception": false,
     "start_time": "2024-01-08T10:03:07.130636",
     "status": "completed"
    },
    "tags": []
   },
   "outputs": [],
   "source": [
    "output = model(data[\"input_ids\"], data[\"attention_mask\"], data[\"token_type_ids\"])\n",
    "#loss_fn(output, data[\"labels\"])\n",
    "print(output)\n",
    "#print(data[\"labels\"])"
   ]
  },
  {
   "cell_type": "code",
   "execution_count": null,
   "id": "7046dfa9",
   "metadata": {
    "execution": {
     "iopub.execute_input": "2024-01-08T10:03:07.279002Z",
     "iopub.status.busy": "2024-01-08T10:03:07.278347Z",
     "iopub.status.idle": "2024-01-08T10:03:07.284807Z",
     "shell.execute_reply": "2024-01-08T10:03:07.283961Z"
    },
    "papermill": {
     "duration": 0.029922,
     "end_time": "2024-01-08T10:03:07.286732",
     "exception": false,
     "start_time": "2024-01-08T10:03:07.256810",
     "status": "completed"
    },
    "tags": []
   },
   "outputs": [],
   "source": [
    "from transformers import get_linear_schedule_with_warmup\n",
    "\n",
    "optimizer = torch.optim.Adam(model.parameters(), lr=LEARNING_RATE)\n",
    "total_steps = len(train_dataloader) * EPOCHS\n",
    "scheduler = get_linear_schedule_with_warmup(\n",
    "  optimizer,\n",
    "  num_warmup_steps=0,\n",
    "  num_training_steps=total_steps\n",
    ")"
   ]
  },
  {
   "cell_type": "code",
   "execution_count": null,
   "id": "478d99e4",
   "metadata": {
    "execution": {
     "iopub.execute_input": "2024-01-08T10:03:07.329700Z",
     "iopub.status.busy": "2024-01-08T10:03:07.329089Z",
     "iopub.status.idle": "2024-01-08T10:03:07.336976Z",
     "shell.execute_reply": "2024-01-08T10:03:07.336080Z"
    },
    "papermill": {
     "duration": 0.031555,
     "end_time": "2024-01-08T10:03:07.338849",
     "exception": false,
     "start_time": "2024-01-08T10:03:07.307294",
     "status": "completed"
    },
    "tags": []
   },
   "outputs": [],
   "source": [
    "def eval_model(model, dataloader, loss_fn, device):\n",
    "    model = model.eval()\n",
    "    \n",
    "    loss = 0.0\n",
    "    correct_predictions = 0.0\n",
    "    \n",
    "    with torch.no_grad():\n",
    "        for data in dataloader:\n",
    "            input_ids = data[\"input_ids\"].to(device, dtype = torch.long)\n",
    "            attention_mask = data[\"attention_mask\"].to(device, dtype = torch.long)\n",
    "            token_type_ids = data[\"token_type_ids\"].to(device, dtype = torch.long)\n",
    "            labels = data[\"labels\"].to(device, dtype = torch.float)\n",
    "            \n",
    "            outputs = model(input_ids, attention_mask, token_type_ids)\n",
    "            loss += loss_fn(outputs, labels).item()\n",
    "            \n",
    "            preds = torch.argmax(outputs, dim=1)\n",
    "            correct_predictions += torch.sum(preds == torch.argmax(labels, dim=1)).item()\n",
    "            \n",
    "            \n",
    "    num_data = len(dataloader) * VAL_BATCH_SIZE\n",
    "    return correct_predictions / num_data, loss / num_data"
   ]
  },
  {
   "cell_type": "code",
   "execution_count": null,
   "id": "4485cb31",
   "metadata": {
    "execution": {
     "iopub.execute_input": "2024-01-08T10:03:07.381529Z",
     "iopub.status.busy": "2024-01-08T10:03:07.381168Z",
     "iopub.status.idle": "2024-01-08T10:03:07.393133Z",
     "shell.execute_reply": "2024-01-08T10:03:07.392283Z"
    },
    "papermill": {
     "duration": 0.035578,
     "end_time": "2024-01-08T10:03:07.394987",
     "exception": false,
     "start_time": "2024-01-08T10:03:07.359409",
     "status": "completed"
    },
    "tags": []
   },
   "outputs": [],
   "source": [
    "def train_model(model, train_dataloader, val_dataloader, loss_fn, optimizer, device, scheduler, epochs):\n",
    "    progress_bar = tqdm(range(len(train_dataloader) * epochs))\n",
    "    model = model.train()\n",
    "    history = []\n",
    "    best_acc = 0\n",
    "    \n",
    "    for epoch_num in range(epochs):\n",
    "        print(\"_\" * 30)\n",
    "        print(f'Epoch {epoch_num} started.')\n",
    "        \n",
    "        total_loss = 0\n",
    "        correct_predictions = 0.0\n",
    "        \n",
    "        for data in train_dataloader:\n",
    "            input_ids = data['input_ids'].to(device, dtype = torch.long)\n",
    "            attention_mask = data['attention_mask'].to(device, dtype = torch.long)\n",
    "            token_type_ids = data['token_type_ids'].to(device, dtype = torch.long)\n",
    "            labels = data['labels'].to(device, dtype = torch.float)\n",
    "\n",
    "            outputs = model(input_ids, attention_mask, token_type_ids)\n",
    "            preds = torch.argmax(outputs, dim=1)\n",
    "            #print(correct_predictions)\n",
    "            #print(outputs)\n",
    "            #print(preds)\n",
    "            correct_predictions += torch.sum(preds == torch.argmax(labels, dim=1)).item()\n",
    "            #print(labels)\n",
    "            #print(torch.argmax(labels, dim=1))\n",
    "            #print(correct_predictions)\n",
    "            \n",
    "            loss = loss_fn(outputs, labels)\n",
    "            total_loss += loss.item()\n",
    "            \n",
    "            \n",
    "            loss.backward()\n",
    "            # to avoid exploding gradients\n",
    "            torch.nn.utils.clip_grad_norm_(model.parameters(), max_norm=1.0)\n",
    "            optimizer.step()\n",
    "            scheduler.step()\n",
    "            optimizer.zero_grad()\n",
    "                        \n",
    "            progress_bar.update(1)\n",
    "        \n",
    "        num_data = len(train_dataloader) * TRAIN_BATCH_SIZE\n",
    "        train_acc = correct_predictions / num_data\n",
    "        train_loss = total_loss / num_data\n",
    "        print(f'Epoch: {epoch_num}, Train Accuracy {train_acc}, Loss:  {train_loss}')\n",
    "\n",
    "        val_acc, val_loss = eval_model(model, val_dataloader, loss_fn, device)\n",
    "        print(f'Epoch: {epoch_num}, Validation Accuracy {val_acc}, Loss:  {val_loss}')\n",
    "        \n",
    "        history.append({\"train_acc\": train_acc, \"train_loss\": train_loss, \"val_acc\": val_acc, \"val_loss\": val_loss})\n",
    "        \n",
    "        if val_acc > best_acc:\n",
    "            torch.save(model.state_dict(), 'best_model.bin')\n",
    "            best_acc = val_acc\n",
    "            \n",
    "    return history"
   ]
  },
  {
   "cell_type": "code",
   "execution_count": 5,
   "id": "009cdcf0",
   "metadata": {
    "execution": {
     "iopub.execute_input": "2024-01-08T10:03:07.437646Z",
     "iopub.status.busy": "2024-01-08T10:03:07.437322Z",
     "iopub.status.idle": "2024-01-08T10:40:33.381132Z",
     "shell.execute_reply": "2024-01-08T10:40:33.380189Z"
    },
    "papermill": {
     "duration": 2248.217276,
     "end_time": "2024-01-08T10:40:35.632972",
     "exception": false,
     "start_time": "2024-01-08T10:03:07.415696",
     "status": "completed"
    },
    "tags": []
   },
   "outputs": [
    {
     "name": "stdout",
     "output_type": "stream",
     "text": [
      "best_model.bin loaded.\n"
     ]
    }
   ],
   "source": [
    "train = True\n",
    "\n",
    "work_dir = \"./\"\n",
    "model_filename = \"best_model.bin\"\n",
    "filenames = os.listdir(work_dir)\n",
    "\n",
    "if model_filename in filenames and not train:\n",
    "    model = SciBertClassifier()\n",
    "    model.load_state_dict(torch.load(work_dir + model_filename, map_location=torch.device('cpu')))\n",
    "    model.to(device)\n",
    "    print(f\"{model_filename} loaded.\")\n",
    "else:\n",
    "    print(\"No saved model found or forced to train.\")\n",
    "\n",
    "    torch.cuda.empty_cache()\n",
    "    history = train_model(model, train_dataloader, val_dataloader, loss_fn, optimizer, device, scheduler, EPOCHS)"
   ]
  },
  {
   "cell_type": "code",
   "execution_count": null,
   "id": "e0f57048",
   "metadata": {
    "execution": {
     "iopub.execute_input": "2024-01-08T10:40:39.968991Z",
     "iopub.status.busy": "2024-01-08T10:40:39.968076Z",
     "iopub.status.idle": "2024-01-08T10:40:40.299379Z",
     "shell.execute_reply": "2024-01-08T10:40:40.298442Z"
    },
    "papermill": {
     "duration": 2.507605,
     "end_time": "2024-01-08T10:40:40.301412",
     "exception": false,
     "start_time": "2024-01-08T10:40:37.793807",
     "status": "completed"
    },
    "tags": []
   },
   "outputs": [],
   "source": [
    "history = pd.DataFrame(history)\n",
    "\n",
    "plt.plot(history['train_acc'], label='train accuracy')\n",
    "plt.plot(history['val_acc'], label='validation accuracy')\n",
    "plt.title('Training history')\n",
    "plt.ylabel('Accuracy')\n",
    "plt.xlabel('Epoch')\n",
    "plt.legend()\n",
    "plt.ylim([0.9, 1])"
   ]
  },
  {
   "cell_type": "code",
   "execution_count": 108,
   "id": "51b2e410",
   "metadata": {
    "execution": {
     "iopub.execute_input": "2024-01-08T10:40:44.674408Z",
     "iopub.status.busy": "2024-01-08T10:40:44.673584Z",
     "iopub.status.idle": "2024-01-08T10:40:44.682042Z",
     "shell.execute_reply": "2024-01-08T10:40:44.680950Z"
    },
    "papermill": {
     "duration": 2.10159,
     "end_time": "2024-01-08T10:40:44.684050",
     "exception": false,
     "start_time": "2024-01-08T10:40:42.582460",
     "status": "completed"
    },
    "tags": []
   },
   "outputs": [],
   "source": [
    "def predict(model, texts, tokenizer, max_len=512):\n",
    "    progress_bar = tqdm(range(len(texts)))\n",
    "    \n",
    "    predictions = []\n",
    "    \n",
    "    for data in texts:\n",
    "        text = str(data)\n",
    "\n",
    "        inputs = tokenizer.encode_plus(\n",
    "            text,\n",
    "            None,\n",
    "            add_special_tokens=True,\n",
    "            max_length=max_len,\n",
    "            pad_to_max_length=True,\n",
    "            return_token_type_ids=True\n",
    "        )\n",
    "        ids = torch.tensor(inputs['input_ids'], dtype=torch.long).unsqueeze(0).to(device)\n",
    "        mask = torch.tensor(inputs['attention_mask'], dtype=torch.long).unsqueeze(0).to(device)\n",
    "        token_type_ids = torch.tensor(inputs[\"token_type_ids\"], dtype=torch.long).unsqueeze(0).to(device)\n",
    "\n",
    "        with torch.no_grad():\n",
    "            output = model(ids, mask, token_type_ids)\n",
    "        \n",
    "        probabilities = torch.sigmoid(output.squeeze())\n",
    "        predictions.append(probabilities)\n",
    "        \n",
    "        progress_bar.update(1)\n",
    "\n",
    "    return predictions"
   ]
  },
  {
   "cell_type": "code",
   "execution_count": null,
   "id": "3ea3810c",
   "metadata": {
    "execution": {
     "iopub.execute_input": "2024-01-08T10:40:49.037939Z",
     "iopub.status.busy": "2024-01-08T10:40:49.037040Z",
     "iopub.status.idle": "2024-01-08T10:41:20.096582Z",
     "shell.execute_reply": "2024-01-08T10:41:20.095613Z"
    },
    "papermill": {
     "duration": 35.566405,
     "end_time": "2024-01-08T10:41:22.429140",
     "exception": false,
     "start_time": "2024-01-08T10:40:46.862735",
     "status": "completed"
    },
    "tags": []
   },
   "outputs": [],
   "source": [
    "acc, loss = eval_model(model, test_dataloader, loss_fn, device)\n",
    "print(f\"TEST dataset - Accuracy: {acc}, Loss: {loss}\")"
   ]
  },
  {
   "cell_type": "code",
   "execution_count": null,
   "id": "4d26bb7d",
   "metadata": {
    "collapsed": true,
    "execution": {
     "iopub.execute_input": "2024-01-08T10:41:26.718306Z",
     "iopub.status.busy": "2024-01-08T10:41:26.717394Z",
     "iopub.status.idle": "2024-01-08T10:42:00.879772Z",
     "shell.execute_reply": "2024-01-08T10:42:00.878790Z"
    },
    "jupyter": {
     "outputs_hidden": true
    },
    "papermill": {
     "duration": 36.280696,
     "end_time": "2024-01-08T10:42:00.881762",
     "exception": false,
     "start_time": "2024-01-08T10:41:24.601066",
     "status": "completed"
    },
    "tags": []
   },
   "outputs": [],
   "source": [
    "from sklearn.metrics import confusion_matrix, classification_report\n",
    "\n",
    "test_preds = predict(model, test_set.abstract, tokenizer)\n",
    "test_labels = [labels.index(max(labels)) for labels in test_set.labels]\n",
    "preds_labels = [torch.argmax(pred).item() for pred in test_preds]\n",
    "\n",
    "classes = [\"human\", \"veterinary\"]\n",
    "\n",
    "report = classification_report(test_labels, preds_labels, target_names=classes)\n",
    "print(report)"
   ]
  },
  {
   "cell_type": "code",
   "execution_count": null,
   "id": "16d7d214",
   "metadata": {
    "execution": {
     "iopub.execute_input": "2024-01-08T10:42:05.403151Z",
     "iopub.status.busy": "2024-01-08T10:42:05.402506Z",
     "iopub.status.idle": "2024-01-08T10:42:05.680583Z",
     "shell.execute_reply": "2024-01-08T10:42:05.679676Z"
    },
    "papermill": {
     "duration": 2.462417,
     "end_time": "2024-01-08T10:42:05.682629",
     "exception": false,
     "start_time": "2024-01-08T10:42:03.220212",
     "status": "completed"
    },
    "tags": []
   },
   "outputs": [],
   "source": [
    "from sklearn.metrics import ConfusionMatrixDisplay\n",
    "\n",
    "test_classes = [\"human\" if label == 0 else \"veterinary\" for label in test_labels]\n",
    "preds_classes = [\"human\" if label == 0 else \"veterinary\" for label in preds_labels]\n",
    "disp = ConfusionMatrixDisplay.from_predictions(test_classes, preds_classes, labels=classes, normalize=\"true\", cmap=plt.cm.Blues)\n",
    "disp.ax_.set_title(\"Confusion matrix (normalized)\")\n",
    "plt.show()"
   ]
  },
  {
   "cell_type": "code",
   "execution_count": 66,
   "id": "d8af301f",
   "metadata": {
    "execution": {
     "iopub.execute_input": "2024-01-08T10:42:10.307754Z",
     "iopub.status.busy": "2024-01-08T10:42:10.307421Z",
     "iopub.status.idle": "2024-01-08T10:42:12.241288Z",
     "shell.execute_reply": "2024-01-08T10:42:12.240305Z"
    },
    "papermill": {
     "duration": 4.299885,
     "end_time": "2024-01-08T10:42:12.243273",
     "exception": false,
     "start_time": "2024-01-08T10:42:07.943388",
     "status": "completed"
    },
    "tags": []
   },
   "outputs": [
    {
     "name": "stdout",
     "output_type": "stream",
     "text": [
      "['analysis_pmc_patients.ipynb', 'best_model.bin', 'fine_tuned_scibert', 'pmc_datasets', 'pmc_patients_predictions', 'scibert_fine_tuning.ipynb', '__pycache__']\n",
      "best_model.bin loaded.\n"
     ]
    }
   ],
   "source": [
    "work_dir = \"./\"\n",
    "model_filename = \"best_model.bin\"\n",
    "filenames = os.listdir(work_dir)\n",
    "print(filenames)\n",
    "if model_filename in filenames:\n",
    "    model = SciBertClassifier()\n",
    "    model.load_state_dict(torch.load(work_dir + model_filename))\n",
    "    model.to(device)\n",
    "    print(f\"{model_filename} loaded.\")\n",
    "else:\n",
    "    print(\"No saved model found.\")"
   ]
  },
  {
   "cell_type": "code",
   "execution_count": 10,
   "id": "6d17d134",
   "metadata": {
    "execution": {
     "iopub.execute_input": "2024-01-08T10:42:16.764715Z",
     "iopub.status.busy": "2024-01-08T10:42:16.764346Z",
     "iopub.status.idle": "2024-01-08T10:42:16.797411Z",
     "shell.execute_reply": "2024-01-08T10:42:16.796536Z"
    },
    "papermill": {
     "duration": 2.352852,
     "end_time": "2024-01-08T10:42:16.799392",
     "exception": false,
     "start_time": "2024-01-08T10:42:14.446540",
     "status": "completed"
    },
    "tags": []
   },
   "outputs": [
    {
     "name": "stderr",
     "output_type": "stream",
     "text": [
      "  0%|          | 0/1 [00:00<?, ?it/s]Truncation was not explicitly activated but `max_length` is provided a specific value, please use `truncation=True` to explicitly truncate examples to max length. Defaulting to 'longest_first' truncation strategy. If you encode pairs of sequences (GLUE-style) with the tokenizer you can select this strategy more precisely by providing a specific strategy to `truncation`.\n",
      "c:\\Users\\albbl\\Documents\\Studium\\11_Semester\\medtextclassification_repo\\.venv\\Lib\\site-packages\\transformers\\tokenization_utils_base.py:2614: FutureWarning: The `pad_to_max_length` argument is deprecated and will be removed in a future version, use `padding=True` or `padding='longest'` to pad to the longest sequence in the batch, or use `padding='max_length'` to pad to a max length. In this case, you can give a specific length with `max_length` (e.g. `max_length=45`) or leave max_length to None to pad to the maximal input size of the model (e.g. 512 for Bert).\n",
      "  warnings.warn(\n",
      "100%|██████████| 1/1 [00:05<00:00,  5.09s/it]\n"
     ]
    },
    {
     "data": {
      "text/plain": [
       "[tensor([9.9982e-01, 1.4536e-04], device='cuda:0')]"
      ]
     },
     "execution_count": 10,
     "metadata": {},
     "output_type": "execute_result"
    }
   ],
   "source": [
    "text = [\"Effects of vitamin B12 and folate deficiency on brain development in children. Folate deficiency in the periconceptional period contributes to neural tube defects; deficits in vitamin B12 (cobalamin) have negative consequences on the developing brain during infancy; and deficits of both vitamins are associated with a greater risk of depression during adulthood.\"]\n",
    "\n",
    "predict(model, text, tokenizer)"
   ]
  },
  {
   "cell_type": "markdown",
   "id": "9099d9af",
   "metadata": {
    "papermill": {
     "duration": 2.358276,
     "end_time": "2024-01-08T10:42:21.335167",
     "exception": false,
     "start_time": "2024-01-08T10:42:18.976891",
     "status": "completed"
    },
    "tags": []
   },
   "source": [
    "**Analysis of PMC Patients Dataset**"
   ]
  },
  {
   "cell_type": "code",
   "execution_count": null,
   "id": "ee86338b",
   "metadata": {
    "execution": {
     "iopub.execute_input": "2024-01-08T10:42:25.927194Z",
     "iopub.status.busy": "2024-01-08T10:42:25.926290Z",
     "iopub.status.idle": "2024-01-08T10:43:40.237941Z",
     "shell.execute_reply": "2024-01-08T10:43:40.236915Z"
    },
    "papermill": {
     "duration": 76.668333,
     "end_time": "2024-01-08T10:43:40.240295",
     "exception": false,
     "start_time": "2024-01-08T10:42:23.571962",
     "status": "completed"
    },
    "tags": []
   },
   "outputs": [],
   "source": [
    "dir = \"pmc_datasets/\"\n",
    "file_pmc_summaries = \"PMC-Patients.json\"\n",
    "file_pmc_ppr = \"PPR/PPR_corpus.jsonl\"\n",
    "file_pmc_par = \"PAR/PAR_corpus.jsonl\"\n",
    "\n",
    "patients_summaries = pd.read_json(data_path + dir + file_pmc_summaries)\n",
    "print(\"PMC Patients summaries loaded.\")\n",
    "par = pd.read_json(data_path + dir + file_pmc_par, lines = True)\n",
    "print(\"PMC Patients PAR loaded.\")\n",
    "ppr = pd.read_json(data_path + dir + file_pmc_ppr, lines = True)\n",
    "print(\"PMC Patients PPR loaded.\")"
   ]
  },
  {
   "cell_type": "code",
   "execution_count": null,
   "id": "8af2e19a",
   "metadata": {
    "execution": {
     "iopub.execute_input": "2024-01-08T10:43:44.821126Z",
     "iopub.status.busy": "2024-01-08T10:43:44.820235Z",
     "iopub.status.idle": "2024-01-08T10:43:44.835913Z",
     "shell.execute_reply": "2024-01-08T10:43:44.835026Z"
    },
    "papermill": {
     "duration": 2.210821,
     "end_time": "2024-01-08T10:43:44.838162",
     "exception": false,
     "start_time": "2024-01-08T10:43:42.627341",
     "status": "completed"
    },
    "tags": []
   },
   "outputs": [],
   "source": [
    "patients_summaries.head()"
   ]
  },
  {
   "cell_type": "code",
   "execution_count": null,
   "id": "07c5c63a",
   "metadata": {
    "execution": {
     "iopub.execute_input": "2024-01-08T10:43:49.365121Z",
     "iopub.status.busy": "2024-01-08T10:43:49.364453Z",
     "iopub.status.idle": "2024-01-08T10:43:49.374235Z",
     "shell.execute_reply": "2024-01-08T10:43:49.373409Z"
    },
    "papermill": {
     "duration": 2.202614,
     "end_time": "2024-01-08T10:43:49.376469",
     "exception": false,
     "start_time": "2024-01-08T10:43:47.173855",
     "status": "completed"
    },
    "tags": []
   },
   "outputs": [],
   "source": [
    "par.head()"
   ]
  },
  {
   "cell_type": "code",
   "execution_count": null,
   "id": "0fc9a843",
   "metadata": {
    "execution": {
     "iopub.execute_input": "2024-01-08T10:43:53.938607Z",
     "iopub.status.busy": "2024-01-08T10:43:53.938229Z",
     "iopub.status.idle": "2024-01-08T10:43:53.947794Z",
     "shell.execute_reply": "2024-01-08T10:43:53.946972Z"
    },
    "papermill": {
     "duration": 2.198144,
     "end_time": "2024-01-08T10:43:53.949788",
     "exception": false,
     "start_time": "2024-01-08T10:43:51.751644",
     "status": "completed"
    },
    "tags": []
   },
   "outputs": [],
   "source": [
    "ppr.head()"
   ]
  },
  {
   "cell_type": "code",
   "execution_count": null,
   "id": "317bbb23",
   "metadata": {
    "collapsed": true,
    "execution": {
     "iopub.execute_input": "2024-01-08T10:43:58.540396Z",
     "iopub.status.busy": "2024-01-08T10:43:58.540017Z",
     "iopub.status.idle": "2024-01-08T10:47:21.320621Z",
     "shell.execute_reply": "2024-01-08T10:47:21.319460Z"
    },
    "jupyter": {
     "outputs_hidden": true
    },
    "papermill": {
     "duration": 205.030291,
     "end_time": "2024-01-08T10:47:21.323072",
     "exception": false,
     "start_time": "2024-01-08T10:43:56.292781",
     "status": "completed"
    },
    "tags": []
   },
   "outputs": [],
   "source": [
    "summary_texts = patients_summaries.patient.sample(n=10000, random_state=42)\n",
    "summary_texts.reset_index(drop=True, inplace=True)\n",
    "summary_predictions = predict(model, summary_texts, tokenizer)"
   ]
  },
  {
   "cell_type": "code",
   "execution_count": null,
   "id": "ada05bfa",
   "metadata": {
    "collapsed": true,
    "execution": {
     "iopub.execute_input": "2024-01-08T10:47:26.836833Z",
     "iopub.status.busy": "2024-01-08T10:47:26.836486Z",
     "iopub.status.idle": "2024-01-08T10:50:50.240183Z",
     "shell.execute_reply": "2024-01-08T10:50:50.239126Z"
    },
    "jupyter": {
     "outputs_hidden": true
    },
    "papermill": {
     "duration": 206.155176,
     "end_time": "2024-01-08T10:50:50.242267",
     "exception": false,
     "start_time": "2024-01-08T10:47:24.087091",
     "status": "completed"
    },
    "tags": []
   },
   "outputs": [],
   "source": [
    "par_texts = par.text.sample(n=10000, random_state=42)\n",
    "par_texts.reset_index(drop=True, inplace=True)\n",
    "par_predictions = predict(model, par_texts, tokenizer)"
   ]
  },
  {
   "cell_type": "code",
   "execution_count": null,
   "id": "53f08b68",
   "metadata": {
    "collapsed": true,
    "execution": {
     "iopub.execute_input": "2024-01-08T10:50:56.634639Z",
     "iopub.status.busy": "2024-01-08T10:50:56.633760Z",
     "iopub.status.idle": "2024-01-08T10:54:19.553355Z",
     "shell.execute_reply": "2024-01-08T10:54:19.552283Z"
    },
    "jupyter": {
     "outputs_hidden": true
    },
    "papermill": {
     "duration": 206.107322,
     "end_time": "2024-01-08T10:54:19.555208",
     "exception": false,
     "start_time": "2024-01-08T10:50:53.447886",
     "status": "completed"
    },
    "tags": []
   },
   "outputs": [],
   "source": [
    "ppr_texts = ppr.text.sample(n=10000, random_state=42)\n",
    "ppr_texts.reset_index(drop=True, inplace=True)\n",
    "ppr_predictions = predict(model, ppr_texts, tokenizer)"
   ]
  },
  {
   "cell_type": "code",
   "execution_count": null,
   "id": "49100699",
   "metadata": {
    "execution": {
     "iopub.execute_input": "2024-01-08T10:54:27.080737Z",
     "iopub.status.busy": "2024-01-08T10:54:27.079738Z",
     "iopub.status.idle": "2024-01-08T10:54:27.087929Z",
     "shell.execute_reply": "2024-01-08T10:54:27.086997Z"
    },
    "papermill": {
     "duration": 3.672559,
     "end_time": "2024-01-08T10:54:27.089885",
     "exception": false,
     "start_time": "2024-01-08T10:54:23.417326",
     "status": "completed"
    },
    "tags": []
   },
   "outputs": [],
   "source": [
    "def save_vet_predictions_as_json(predictions, texts, filename):\n",
    "    label_preds = [torch.argmax(tensor) for tensor in predictions]\n",
    "    label_preds = torch.stack(label_preds)\n",
    "    vet_preds = (label_preds == 1).nonzero(as_tuple=True)[0].numpy(force=True)\n",
    "    vet_preds\n",
    "    vet_texts = texts.iloc[texts.index.isin(vet_preds)]\n",
    "    probs = pd.Series(torch.stack([torch.max(tensor) for tensor in predictions]).numpy(force=True), name=\"probability\")\n",
    "    probs = probs.iloc[probs.index.isin(vet_preds)]\n",
    "    vet_df = pd.concat([vet_texts, probs], axis=1)\n",
    "\n",
    "    with open(filename, 'w') as f:\n",
    "        f.write(vet_df.to_json(orient=\"records\")[1:-1].replace('},{', '} {'))\n",
    "        \n",
    "    print(f\"Predictions have been saved to {filename}.\")\n",
    "    \n",
    "    return vet_df"
   ]
  },
  {
   "cell_type": "code",
   "execution_count": null,
   "id": "734fd24e",
   "metadata": {
    "execution": {
     "iopub.execute_input": "2024-01-08T10:54:34.795149Z",
     "iopub.status.busy": "2024-01-08T10:54:34.794328Z",
     "iopub.status.idle": "2024-01-08T10:54:35.047841Z",
     "shell.execute_reply": "2024-01-08T10:54:35.046880Z"
    },
    "papermill": {
     "duration": 4.149799,
     "end_time": "2024-01-08T10:54:35.049873",
     "exception": false,
     "start_time": "2024-01-08T10:54:30.900074",
     "status": "completed"
    },
    "tags": []
   },
   "outputs": [],
   "source": [
    "vet_summaries = save_vet_predictions_as_json(summary_predictions, summary_texts, \"pmc_patients_predictions/summaries_vet.json\")\n",
    "vet_summaries"
   ]
  },
  {
   "cell_type": "code",
   "execution_count": null,
   "id": "ed2216c1",
   "metadata": {
    "execution": {
     "iopub.execute_input": "2024-01-08T10:54:42.695390Z",
     "iopub.status.busy": "2024-01-08T10:54:42.694592Z",
     "iopub.status.idle": "2024-01-08T10:54:42.945004Z",
     "shell.execute_reply": "2024-01-08T10:54:42.944058Z"
    },
    "papermill": {
     "duration": 4.012781,
     "end_time": "2024-01-08T10:54:42.946920",
     "exception": false,
     "start_time": "2024-01-08T10:54:38.934139",
     "status": "completed"
    },
    "tags": []
   },
   "outputs": [],
   "source": [
    "vet_par = save_vet_predictions_as_json(par_predictions, par_texts, \"pmc_patients_predictions/par_vet.json\")\n",
    "vet_par"
   ]
  },
  {
   "cell_type": "code",
   "execution_count": null,
   "id": "67d635a0",
   "metadata": {
    "execution": {
     "iopub.execute_input": "2024-01-08T10:54:50.346343Z",
     "iopub.status.busy": "2024-01-08T10:54:50.345635Z",
     "iopub.status.idle": "2024-01-08T10:54:50.596374Z",
     "shell.execute_reply": "2024-01-08T10:54:50.595288Z"
    },
    "papermill": {
     "duration": 3.954623,
     "end_time": "2024-01-08T10:54:50.598380",
     "exception": false,
     "start_time": "2024-01-08T10:54:46.643757",
     "status": "completed"
    },
    "tags": []
   },
   "outputs": [],
   "source": [
    "vet_ppr = save_vet_predictions_as_json(ppr_predictions, par_texts, \"pmc_patients_predictions/ppr_vet.json\")\n",
    "vet_ppr"
   ]
  },
  {
   "cell_type": "markdown",
   "id": "4d72e989",
   "metadata": {},
   "source": [
    "Interpretability"
   ]
  },
  {
   "cell_type": "code",
   "execution_count": 116,
   "id": "28bcdb22",
   "metadata": {},
   "outputs": [],
   "source": [
    "from captum.attr import TokenReferenceBase, LayerIntegratedGradients\n",
    "from captum.attr import visualization as viz\n",
    "\n",
    "def interpret_text(model_for_pred, model_for_embeddings, text, tokenizer, true_class):\n",
    "\n",
    "    tokenized_input = tokenizer.encode_plus(\n",
    "                                    text,\n",
    "                                    None,\n",
    "                                    add_special_tokens=True,\n",
    "                                    max_length=MAX_LEN,\n",
    "                                    padding='max_length',\n",
    "                                    truncation=True,\n",
    "                                    return_token_type_ids=False,\n",
    "                                    return_attention_mask=True,\n",
    "                                    return_tensors=\"pt\"\n",
    "                                    )\n",
    "    \n",
    "    input_ids = tokenized_input[\"input_ids\"]\n",
    "    attention_mask = tokenized_input[\"attention_mask\"]\n",
    "    token_list = tokenizer.convert_ids_to_tokens(input_ids[0])\n",
    "\n",
    "    baseline_ids = TokenReferenceBase(reference_token_idx=tokenizer.pad_token_id).generate_reference(\n",
    "                                                                                        sequence_length=len(input_ids[0]), \n",
    "                                                                                        device=\"cpu\"\n",
    "                                                                                        ).unsqueeze(0)\n",
    "    baseline_ids[0] = tokenizer.cls_token_id \n",
    "    baseline_ids[-1] = tokenizer.sep_token_id\n",
    "\n",
    "    lig = LayerIntegratedGradients(\n",
    "                lambda *inputs, **kwargs: model_for_pred(*inputs, **kwargs)[0],\n",
    "                model_for_embeddings.embeddings\n",
    "                )\n",
    "    attributions, delta = lig.attribute(inputs=input_ids,\n",
    "                                    baselines=baseline_ids,\n",
    "                                    additional_forward_args=(attention_mask, ),\n",
    "                                    return_convergence_delta=True,\n",
    "                                    internal_batch_size=1\n",
    "                                    )\n",
    "    \n",
    "    attributions_sum = attributions.sum(dim=-1).squeeze(0) \n",
    "    attributions_sum /= torch.norm(attributions_sum)\n",
    "\n",
    "    pred = predict(model_for_pred, text, tokenizer)[0]\n",
    "    print(pred)\n",
    "    score_vis = viz.VisualizationDataRecord(\n",
    "                        word_attributions = attributions_sum,\n",
    "                        pred_prob = torch.max(pred),\n",
    "                        pred_class = torch.argmax(pred).numpy(),\n",
    "                        true_class = true_class,\n",
    "                        attr_class = text,\n",
    "                        attr_score = attributions_sum.sum(),       \n",
    "                        raw_input_ids = token_list,\n",
    "                        convergence_score = delta)\n",
    "\n",
    "    viz.visualize_text([score_vis])"
   ]
  },
  {
   "cell_type": "code",
   "execution_count": 117,
   "id": "23599ae4",
   "metadata": {},
   "outputs": [],
   "source": [
    "text = \"A dog was bitten by another dog which had rabies.\"\n",
    "true_class = 1\n",
    "device = \"cpu\"\n",
    "interpret_text(model, model.scibert, text, tokenizer, true_class)"
   ]
  }
 ],
 "metadata": {
  "kaggle": {
   "accelerator": "gpu",
   "dataSources": [
    {
     "datasetId": 4141319,
     "sourceId": 7168342,
     "sourceType": "datasetVersion"
    },
    {
     "datasetId": 4108002,
     "sourceId": 7201785,
     "sourceType": "datasetVersion"
    },
    {
     "datasetId": 4108000,
     "sourceId": 7201802,
     "sourceType": "datasetVersion"
    },
    {
     "datasetId": 4265835,
     "sourceId": 7346299,
     "sourceType": "datasetVersion"
    },
    {
     "datasetId": 4265837,
     "sourceId": 7346301,
     "sourceType": "datasetVersion"
    },
    {
     "datasetId": 4265839,
     "sourceId": 7346304,
     "sourceType": "datasetVersion"
    },
    {
     "datasetId": 4265840,
     "sourceId": 7346305,
     "sourceType": "datasetVersion"
    },
    {
     "datasetId": 4265843,
     "sourceId": 7346308,
     "sourceType": "datasetVersion"
    },
    {
     "datasetId": 4265844,
     "sourceId": 7346310,
     "sourceType": "datasetVersion"
    },
    {
     "datasetId": 4265845,
     "sourceId": 7346311,
     "sourceType": "datasetVersion"
    },
    {
     "datasetId": 4265848,
     "sourceId": 7346314,
     "sourceType": "datasetVersion"
    },
    {
     "datasetId": 4273577,
     "sourceId": 7357775,
     "sourceType": "datasetVersion"
    }
   ],
   "dockerImageVersionId": 30587,
   "isGpuEnabled": true,
   "isInternetEnabled": true,
   "language": "python",
   "sourceType": "notebook"
  },
  "kernelspec": {
   "display_name": "Python 3",
   "language": "python",
   "name": "python3"
  },
  "language_info": {
   "codemirror_mode": {
    "name": "ipython",
    "version": 3
   },
   "file_extension": ".py",
   "mimetype": "text/x-python",
   "name": "python",
   "nbconvert_exporter": "python",
   "pygments_lexer": "ipython3",
   "version": "3.11.6"
  },
  "papermill": {
   "default_parameters": {},
   "duration": 3213.841059,
   "end_time": "2024-01-08T10:54:57.430617",
   "environment_variables": {},
   "exception": null,
   "input_path": "__notebook__.ipynb",
   "output_path": "__notebook__.ipynb",
   "parameters": {},
   "start_time": "2024-01-08T10:01:23.589558",
   "version": "2.4.0"
  },
  "widgets": {
   "application/vnd.jupyter.widget-state+json": {
    "state": {
     "0ac53d4653394cd299d6b9c123602153": {
      "model_module": "@jupyter-widgets/controls",
      "model_module_version": "1.5.0",
      "model_name": "DescriptionStyleModel",
      "state": {
       "_model_module": "@jupyter-widgets/controls",
       "_model_module_version": "1.5.0",
       "_model_name": "DescriptionStyleModel",
       "_view_count": null,
       "_view_module": "@jupyter-widgets/base",
       "_view_module_version": "1.2.0",
       "_view_name": "StyleView",
       "description_width": ""
      }
     },
     "0f545259302e49229a8413d3906ff0e0": {
      "model_module": "@jupyter-widgets/base",
      "model_module_version": "1.2.0",
      "model_name": "LayoutModel",
      "state": {
       "_model_module": "@jupyter-widgets/base",
       "_model_module_version": "1.2.0",
       "_model_name": "LayoutModel",
       "_view_count": null,
       "_view_module": "@jupyter-widgets/base",
       "_view_module_version": "1.2.0",
       "_view_name": "LayoutView",
       "align_content": null,
       "align_items": null,
       "align_self": null,
       "border": null,
       "bottom": null,
       "display": null,
       "flex": null,
       "flex_flow": null,
       "grid_area": null,
       "grid_auto_columns": null,
       "grid_auto_flow": null,
       "grid_auto_rows": null,
       "grid_column": null,
       "grid_gap": null,
       "grid_row": null,
       "grid_template_areas": null,
       "grid_template_columns": null,
       "grid_template_rows": null,
       "height": null,
       "justify_content": null,
       "justify_items": null,
       "left": null,
       "margin": null,
       "max_height": null,
       "max_width": null,
       "min_height": null,
       "min_width": null,
       "object_fit": null,
       "object_position": null,
       "order": null,
       "overflow": null,
       "overflow_x": null,
       "overflow_y": null,
       "padding": null,
       "right": null,
       "top": null,
       "visibility": null,
       "width": null
      }
     },
     "16a1e22546724a88afea63597c059bfc": {
      "model_module": "@jupyter-widgets/controls",
      "model_module_version": "1.5.0",
      "model_name": "FloatProgressModel",
      "state": {
       "_dom_classes": [],
       "_model_module": "@jupyter-widgets/controls",
       "_model_module_version": "1.5.0",
       "_model_name": "FloatProgressModel",
       "_view_count": null,
       "_view_module": "@jupyter-widgets/controls",
       "_view_module_version": "1.5.0",
       "_view_name": "ProgressView",
       "bar_style": "success",
       "description": "",
       "description_tooltip": null,
       "layout": "IPY_MODEL_9b8d877e43d14b0d8a9dded72d8cf059",
       "max": 227845,
       "min": 0,
       "orientation": "horizontal",
       "style": "IPY_MODEL_bb9be0f5b57b4c3289ab0d54d10d55db",
       "value": 227845
      }
     },
     "1f8b00d5916847f9bc4eb08a377237b9": {
      "model_module": "@jupyter-widgets/controls",
      "model_module_version": "1.5.0",
      "model_name": "HTMLModel",
      "state": {
       "_dom_classes": [],
       "_model_module": "@jupyter-widgets/controls",
       "_model_module_version": "1.5.0",
       "_model_name": "HTMLModel",
       "_view_count": null,
       "_view_module": "@jupyter-widgets/controls",
       "_view_module_version": "1.5.0",
       "_view_name": "HTMLView",
       "description": "",
       "description_tooltip": null,
       "layout": "IPY_MODEL_bcde103d08e34909898cba7c3fa63619",
       "placeholder": "​",
       "style": "IPY_MODEL_eba5816dbec841a3886e11cc93a4b4c1",
       "value": "Downloading vocab.txt: 100%"
      }
     },
     "2017785da10e42ff930bc1a7edf41114": {
      "model_module": "@jupyter-widgets/controls",
      "model_module_version": "1.5.0",
      "model_name": "DescriptionStyleModel",
      "state": {
       "_model_module": "@jupyter-widgets/controls",
       "_model_module_version": "1.5.0",
       "_model_name": "DescriptionStyleModel",
       "_view_count": null,
       "_view_module": "@jupyter-widgets/base",
       "_view_module_version": "1.2.0",
       "_view_name": "StyleView",
       "description_width": ""
      }
     },
     "20e12835b89f4e71bfa2cd69e275e524": {
      "model_module": "@jupyter-widgets/controls",
      "model_module_version": "1.5.0",
      "model_name": "HTMLModel",
      "state": {
       "_dom_classes": [],
       "_model_module": "@jupyter-widgets/controls",
       "_model_module_version": "1.5.0",
       "_model_name": "HTMLModel",
       "_view_count": null,
       "_view_module": "@jupyter-widgets/controls",
       "_view_module_version": "1.5.0",
       "_view_name": "HTMLView",
       "description": "",
       "description_tooltip": null,
       "layout": "IPY_MODEL_36f0ae0cf1f44a5c86bda839ef7490a1",
       "placeholder": "​",
       "style": "IPY_MODEL_8e9797864ae9419abcc6a815d2b220bc",
       "value": "Downloading config.json: 100%"
      }
     },
     "2e25ac2e9a2046718792e8e006967c11": {
      "model_module": "@jupyter-widgets/controls",
      "model_module_version": "1.5.0",
      "model_name": "ProgressStyleModel",
      "state": {
       "_model_module": "@jupyter-widgets/controls",
       "_model_module_version": "1.5.0",
       "_model_name": "ProgressStyleModel",
       "_view_count": null,
       "_view_module": "@jupyter-widgets/base",
       "_view_module_version": "1.2.0",
       "_view_name": "StyleView",
       "bar_color": null,
       "description_width": ""
      }
     },
     "308809058b084ebf8f4a3303d7a9a95c": {
      "model_module": "@jupyter-widgets/controls",
      "model_module_version": "1.5.0",
      "model_name": "DescriptionStyleModel",
      "state": {
       "_model_module": "@jupyter-widgets/controls",
       "_model_module_version": "1.5.0",
       "_model_name": "DescriptionStyleModel",
       "_view_count": null,
       "_view_module": "@jupyter-widgets/base",
       "_view_module_version": "1.2.0",
       "_view_name": "StyleView",
       "description_width": ""
      }
     },
     "36dddcbafa12480580f597aed1c40558": {
      "model_module": "@jupyter-widgets/controls",
      "model_module_version": "1.5.0",
      "model_name": "HBoxModel",
      "state": {
       "_dom_classes": [],
       "_model_module": "@jupyter-widgets/controls",
       "_model_module_version": "1.5.0",
       "_model_name": "HBoxModel",
       "_view_count": null,
       "_view_module": "@jupyter-widgets/controls",
       "_view_module_version": "1.5.0",
       "_view_name": "HBoxView",
       "box_style": "",
       "children": [
        "IPY_MODEL_20e12835b89f4e71bfa2cd69e275e524",
        "IPY_MODEL_671b95db66644bfcb6d83e0050c52dd6",
        "IPY_MODEL_58f840b776624f36a9544082662b4086"
       ],
       "layout": "IPY_MODEL_e0455b1bc1e647f9a2cf52e78fc7edbe"
      }
     },
     "36f0ae0cf1f44a5c86bda839ef7490a1": {
      "model_module": "@jupyter-widgets/base",
      "model_module_version": "1.2.0",
      "model_name": "LayoutModel",
      "state": {
       "_model_module": "@jupyter-widgets/base",
       "_model_module_version": "1.2.0",
       "_model_name": "LayoutModel",
       "_view_count": null,
       "_view_module": "@jupyter-widgets/base",
       "_view_module_version": "1.2.0",
       "_view_name": "LayoutView",
       "align_content": null,
       "align_items": null,
       "align_self": null,
       "border": null,
       "bottom": null,
       "display": null,
       "flex": null,
       "flex_flow": null,
       "grid_area": null,
       "grid_auto_columns": null,
       "grid_auto_flow": null,
       "grid_auto_rows": null,
       "grid_column": null,
       "grid_gap": null,
       "grid_row": null,
       "grid_template_areas": null,
       "grid_template_columns": null,
       "grid_template_rows": null,
       "height": null,
       "justify_content": null,
       "justify_items": null,
       "left": null,
       "margin": null,
       "max_height": null,
       "max_width": null,
       "min_height": null,
       "min_width": null,
       "object_fit": null,
       "object_position": null,
       "order": null,
       "overflow": null,
       "overflow_x": null,
       "overflow_y": null,
       "padding": null,
       "right": null,
       "top": null,
       "visibility": null,
       "width": null
      }
     },
     "55e71908529c429182fbf9ce620af941": {
      "model_module": "@jupyter-widgets/controls",
      "model_module_version": "1.5.0",
      "model_name": "HBoxModel",
      "state": {
       "_dom_classes": [],
       "_model_module": "@jupyter-widgets/controls",
       "_model_module_version": "1.5.0",
       "_model_name": "HBoxModel",
       "_view_count": null,
       "_view_module": "@jupyter-widgets/controls",
       "_view_module_version": "1.5.0",
       "_view_name": "HBoxView",
       "box_style": "",
       "children": [
        "IPY_MODEL_1f8b00d5916847f9bc4eb08a377237b9",
        "IPY_MODEL_16a1e22546724a88afea63597c059bfc",
        "IPY_MODEL_95202798c1a94e949d404e081a53868f"
       ],
       "layout": "IPY_MODEL_e1c9586cca2c49b1aa0eaa3cc3326d32"
      }
     },
     "58f840b776624f36a9544082662b4086": {
      "model_module": "@jupyter-widgets/controls",
      "model_module_version": "1.5.0",
      "model_name": "HTMLModel",
      "state": {
       "_dom_classes": [],
       "_model_module": "@jupyter-widgets/controls",
       "_model_module_version": "1.5.0",
       "_model_name": "HTMLModel",
       "_view_count": null,
       "_view_module": "@jupyter-widgets/controls",
       "_view_module_version": "1.5.0",
       "_view_name": "HTMLView",
       "description": "",
       "description_tooltip": null,
       "layout": "IPY_MODEL_0f545259302e49229a8413d3906ff0e0",
       "placeholder": "​",
       "style": "IPY_MODEL_5b00548000164abaae1d2030dc4ad43b",
       "value": " 385/385 [00:00&lt;00:00, 32.2kB/s]"
      }
     },
     "5b00548000164abaae1d2030dc4ad43b": {
      "model_module": "@jupyter-widgets/controls",
      "model_module_version": "1.5.0",
      "model_name": "DescriptionStyleModel",
      "state": {
       "_model_module": "@jupyter-widgets/controls",
       "_model_module_version": "1.5.0",
       "_model_name": "DescriptionStyleModel",
       "_view_count": null,
       "_view_module": "@jupyter-widgets/base",
       "_view_module_version": "1.2.0",
       "_view_name": "StyleView",
       "description_width": ""
      }
     },
     "671b95db66644bfcb6d83e0050c52dd6": {
      "model_module": "@jupyter-widgets/controls",
      "model_module_version": "1.5.0",
      "model_name": "FloatProgressModel",
      "state": {
       "_dom_classes": [],
       "_model_module": "@jupyter-widgets/controls",
       "_model_module_version": "1.5.0",
       "_model_name": "FloatProgressModel",
       "_view_count": null,
       "_view_module": "@jupyter-widgets/controls",
       "_view_module_version": "1.5.0",
       "_view_name": "ProgressView",
       "bar_style": "success",
       "description": "",
       "description_tooltip": null,
       "layout": "IPY_MODEL_9da4fd1f343c4a568385cde8a859fff0",
       "max": 385,
       "min": 0,
       "orientation": "horizontal",
       "style": "IPY_MODEL_2e25ac2e9a2046718792e8e006967c11",
       "value": 385
      }
     },
     "6f71353e9cb94fd5bc511a3531d614b3": {
      "model_module": "@jupyter-widgets/base",
      "model_module_version": "1.2.0",
      "model_name": "LayoutModel",
      "state": {
       "_model_module": "@jupyter-widgets/base",
       "_model_module_version": "1.2.0",
       "_model_name": "LayoutModel",
       "_view_count": null,
       "_view_module": "@jupyter-widgets/base",
       "_view_module_version": "1.2.0",
       "_view_name": "LayoutView",
       "align_content": null,
       "align_items": null,
       "align_self": null,
       "border": null,
       "bottom": null,
       "display": null,
       "flex": null,
       "flex_flow": null,
       "grid_area": null,
       "grid_auto_columns": null,
       "grid_auto_flow": null,
       "grid_auto_rows": null,
       "grid_column": null,
       "grid_gap": null,
       "grid_row": null,
       "grid_template_areas": null,
       "grid_template_columns": null,
       "grid_template_rows": null,
       "height": null,
       "justify_content": null,
       "justify_items": null,
       "left": null,
       "margin": null,
       "max_height": null,
       "max_width": null,
       "min_height": null,
       "min_width": null,
       "object_fit": null,
       "object_position": null,
       "order": null,
       "overflow": null,
       "overflow_x": null,
       "overflow_y": null,
       "padding": null,
       "right": null,
       "top": null,
       "visibility": null,
       "width": null
      }
     },
     "7299dbe92f58435994028f73c7dbda7b": {
      "model_module": "@jupyter-widgets/controls",
      "model_module_version": "1.5.0",
      "model_name": "FloatProgressModel",
      "state": {
       "_dom_classes": [],
       "_model_module": "@jupyter-widgets/controls",
       "_model_module_version": "1.5.0",
       "_model_name": "FloatProgressModel",
       "_view_count": null,
       "_view_module": "@jupyter-widgets/controls",
       "_view_module_version": "1.5.0",
       "_view_name": "ProgressView",
       "bar_style": "success",
       "description": "",
       "description_tooltip": null,
       "layout": "IPY_MODEL_c2db1a1832d1444098eebc9ad45b8072",
       "max": 442221694,
       "min": 0,
       "orientation": "horizontal",
       "style": "IPY_MODEL_bb3e52aee82b42c48948189aad1f1cf5",
       "value": 442221694
      }
     },
     "8e9797864ae9419abcc6a815d2b220bc": {
      "model_module": "@jupyter-widgets/controls",
      "model_module_version": "1.5.0",
      "model_name": "DescriptionStyleModel",
      "state": {
       "_model_module": "@jupyter-widgets/controls",
       "_model_module_version": "1.5.0",
       "_model_name": "DescriptionStyleModel",
       "_view_count": null,
       "_view_module": "@jupyter-widgets/base",
       "_view_module_version": "1.2.0",
       "_view_name": "StyleView",
       "description_width": ""
      }
     },
     "95202798c1a94e949d404e081a53868f": {
      "model_module": "@jupyter-widgets/controls",
      "model_module_version": "1.5.0",
      "model_name": "HTMLModel",
      "state": {
       "_dom_classes": [],
       "_model_module": "@jupyter-widgets/controls",
       "_model_module_version": "1.5.0",
       "_model_name": "HTMLModel",
       "_view_count": null,
       "_view_module": "@jupyter-widgets/controls",
       "_view_module_version": "1.5.0",
       "_view_name": "HTMLView",
       "description": "",
       "description_tooltip": null,
       "layout": "IPY_MODEL_a2eb3d05ddc24ce5b27bb4d9deefa0f6",
       "placeholder": "​",
       "style": "IPY_MODEL_2017785da10e42ff930bc1a7edf41114",
       "value": " 228k/228k [00:00&lt;00:00, 1.77MB/s]"
      }
     },
     "9b8d877e43d14b0d8a9dded72d8cf059": {
      "model_module": "@jupyter-widgets/base",
      "model_module_version": "1.2.0",
      "model_name": "LayoutModel",
      "state": {
       "_model_module": "@jupyter-widgets/base",
       "_model_module_version": "1.2.0",
       "_model_name": "LayoutModel",
       "_view_count": null,
       "_view_module": "@jupyter-widgets/base",
       "_view_module_version": "1.2.0",
       "_view_name": "LayoutView",
       "align_content": null,
       "align_items": null,
       "align_self": null,
       "border": null,
       "bottom": null,
       "display": null,
       "flex": null,
       "flex_flow": null,
       "grid_area": null,
       "grid_auto_columns": null,
       "grid_auto_flow": null,
       "grid_auto_rows": null,
       "grid_column": null,
       "grid_gap": null,
       "grid_row": null,
       "grid_template_areas": null,
       "grid_template_columns": null,
       "grid_template_rows": null,
       "height": null,
       "justify_content": null,
       "justify_items": null,
       "left": null,
       "margin": null,
       "max_height": null,
       "max_width": null,
       "min_height": null,
       "min_width": null,
       "object_fit": null,
       "object_position": null,
       "order": null,
       "overflow": null,
       "overflow_x": null,
       "overflow_y": null,
       "padding": null,
       "right": null,
       "top": null,
       "visibility": null,
       "width": null
      }
     },
     "9cd8cc1857d4497b8fec34604d364081": {
      "model_module": "@jupyter-widgets/base",
      "model_module_version": "1.2.0",
      "model_name": "LayoutModel",
      "state": {
       "_model_module": "@jupyter-widgets/base",
       "_model_module_version": "1.2.0",
       "_model_name": "LayoutModel",
       "_view_count": null,
       "_view_module": "@jupyter-widgets/base",
       "_view_module_version": "1.2.0",
       "_view_name": "LayoutView",
       "align_content": null,
       "align_items": null,
       "align_self": null,
       "border": null,
       "bottom": null,
       "display": null,
       "flex": null,
       "flex_flow": null,
       "grid_area": null,
       "grid_auto_columns": null,
       "grid_auto_flow": null,
       "grid_auto_rows": null,
       "grid_column": null,
       "grid_gap": null,
       "grid_row": null,
       "grid_template_areas": null,
       "grid_template_columns": null,
       "grid_template_rows": null,
       "height": null,
       "justify_content": null,
       "justify_items": null,
       "left": null,
       "margin": null,
       "max_height": null,
       "max_width": null,
       "min_height": null,
       "min_width": null,
       "object_fit": null,
       "object_position": null,
       "order": null,
       "overflow": null,
       "overflow_x": null,
       "overflow_y": null,
       "padding": null,
       "right": null,
       "top": null,
       "visibility": null,
       "width": null
      }
     },
     "9da4fd1f343c4a568385cde8a859fff0": {
      "model_module": "@jupyter-widgets/base",
      "model_module_version": "1.2.0",
      "model_name": "LayoutModel",
      "state": {
       "_model_module": "@jupyter-widgets/base",
       "_model_module_version": "1.2.0",
       "_model_name": "LayoutModel",
       "_view_count": null,
       "_view_module": "@jupyter-widgets/base",
       "_view_module_version": "1.2.0",
       "_view_name": "LayoutView",
       "align_content": null,
       "align_items": null,
       "align_self": null,
       "border": null,
       "bottom": null,
       "display": null,
       "flex": null,
       "flex_flow": null,
       "grid_area": null,
       "grid_auto_columns": null,
       "grid_auto_flow": null,
       "grid_auto_rows": null,
       "grid_column": null,
       "grid_gap": null,
       "grid_row": null,
       "grid_template_areas": null,
       "grid_template_columns": null,
       "grid_template_rows": null,
       "height": null,
       "justify_content": null,
       "justify_items": null,
       "left": null,
       "margin": null,
       "max_height": null,
       "max_width": null,
       "min_height": null,
       "min_width": null,
       "object_fit": null,
       "object_position": null,
       "order": null,
       "overflow": null,
       "overflow_x": null,
       "overflow_y": null,
       "padding": null,
       "right": null,
       "top": null,
       "visibility": null,
       "width": null
      }
     },
     "a2eb3d05ddc24ce5b27bb4d9deefa0f6": {
      "model_module": "@jupyter-widgets/base",
      "model_module_version": "1.2.0",
      "model_name": "LayoutModel",
      "state": {
       "_model_module": "@jupyter-widgets/base",
       "_model_module_version": "1.2.0",
       "_model_name": "LayoutModel",
       "_view_count": null,
       "_view_module": "@jupyter-widgets/base",
       "_view_module_version": "1.2.0",
       "_view_name": "LayoutView",
       "align_content": null,
       "align_items": null,
       "align_self": null,
       "border": null,
       "bottom": null,
       "display": null,
       "flex": null,
       "flex_flow": null,
       "grid_area": null,
       "grid_auto_columns": null,
       "grid_auto_flow": null,
       "grid_auto_rows": null,
       "grid_column": null,
       "grid_gap": null,
       "grid_row": null,
       "grid_template_areas": null,
       "grid_template_columns": null,
       "grid_template_rows": null,
       "height": null,
       "justify_content": null,
       "justify_items": null,
       "left": null,
       "margin": null,
       "max_height": null,
       "max_width": null,
       "min_height": null,
       "min_width": null,
       "object_fit": null,
       "object_position": null,
       "order": null,
       "overflow": null,
       "overflow_x": null,
       "overflow_y": null,
       "padding": null,
       "right": null,
       "top": null,
       "visibility": null,
       "width": null
      }
     },
     "a3ad04e13cf9439e9bae41948ad84707": {
      "model_module": "@jupyter-widgets/controls",
      "model_module_version": "1.5.0",
      "model_name": "HTMLModel",
      "state": {
       "_dom_classes": [],
       "_model_module": "@jupyter-widgets/controls",
       "_model_module_version": "1.5.0",
       "_model_name": "HTMLModel",
       "_view_count": null,
       "_view_module": "@jupyter-widgets/controls",
       "_view_module_version": "1.5.0",
       "_view_name": "HTMLView",
       "description": "",
       "description_tooltip": null,
       "layout": "IPY_MODEL_6f71353e9cb94fd5bc511a3531d614b3",
       "placeholder": "​",
       "style": "IPY_MODEL_0ac53d4653394cd299d6b9c123602153",
       "value": " 442M/442M [00:01&lt;00:00, 323MB/s]"
      }
     },
     "b225a65898cd4681a77a90aee7a12547": {
      "model_module": "@jupyter-widgets/controls",
      "model_module_version": "1.5.0",
      "model_name": "HTMLModel",
      "state": {
       "_dom_classes": [],
       "_model_module": "@jupyter-widgets/controls",
       "_model_module_version": "1.5.0",
       "_model_name": "HTMLModel",
       "_view_count": null,
       "_view_module": "@jupyter-widgets/controls",
       "_view_module_version": "1.5.0",
       "_view_name": "HTMLView",
       "description": "",
       "description_tooltip": null,
       "layout": "IPY_MODEL_c3d084f06f6d41aa8ad2062ee6b071d7",
       "placeholder": "​",
       "style": "IPY_MODEL_308809058b084ebf8f4a3303d7a9a95c",
       "value": "Downloading pytorch_model.bin: 100%"
      }
     },
     "b8bf6178873b4f41a8b09007b0206667": {
      "model_module": "@jupyter-widgets/controls",
      "model_module_version": "1.5.0",
      "model_name": "HBoxModel",
      "state": {
       "_dom_classes": [],
       "_model_module": "@jupyter-widgets/controls",
       "_model_module_version": "1.5.0",
       "_model_name": "HBoxModel",
       "_view_count": null,
       "_view_module": "@jupyter-widgets/controls",
       "_view_module_version": "1.5.0",
       "_view_name": "HBoxView",
       "box_style": "",
       "children": [
        "IPY_MODEL_b225a65898cd4681a77a90aee7a12547",
        "IPY_MODEL_7299dbe92f58435994028f73c7dbda7b",
        "IPY_MODEL_a3ad04e13cf9439e9bae41948ad84707"
       ],
       "layout": "IPY_MODEL_9cd8cc1857d4497b8fec34604d364081"
      }
     },
     "bb3e52aee82b42c48948189aad1f1cf5": {
      "model_module": "@jupyter-widgets/controls",
      "model_module_version": "1.5.0",
      "model_name": "ProgressStyleModel",
      "state": {
       "_model_module": "@jupyter-widgets/controls",
       "_model_module_version": "1.5.0",
       "_model_name": "ProgressStyleModel",
       "_view_count": null,
       "_view_module": "@jupyter-widgets/base",
       "_view_module_version": "1.2.0",
       "_view_name": "StyleView",
       "bar_color": null,
       "description_width": ""
      }
     },
     "bb9be0f5b57b4c3289ab0d54d10d55db": {
      "model_module": "@jupyter-widgets/controls",
      "model_module_version": "1.5.0",
      "model_name": "ProgressStyleModel",
      "state": {
       "_model_module": "@jupyter-widgets/controls",
       "_model_module_version": "1.5.0",
       "_model_name": "ProgressStyleModel",
       "_view_count": null,
       "_view_module": "@jupyter-widgets/base",
       "_view_module_version": "1.2.0",
       "_view_name": "StyleView",
       "bar_color": null,
       "description_width": ""
      }
     },
     "bcde103d08e34909898cba7c3fa63619": {
      "model_module": "@jupyter-widgets/base",
      "model_module_version": "1.2.0",
      "model_name": "LayoutModel",
      "state": {
       "_model_module": "@jupyter-widgets/base",
       "_model_module_version": "1.2.0",
       "_model_name": "LayoutModel",
       "_view_count": null,
       "_view_module": "@jupyter-widgets/base",
       "_view_module_version": "1.2.0",
       "_view_name": "LayoutView",
       "align_content": null,
       "align_items": null,
       "align_self": null,
       "border": null,
       "bottom": null,
       "display": null,
       "flex": null,
       "flex_flow": null,
       "grid_area": null,
       "grid_auto_columns": null,
       "grid_auto_flow": null,
       "grid_auto_rows": null,
       "grid_column": null,
       "grid_gap": null,
       "grid_row": null,
       "grid_template_areas": null,
       "grid_template_columns": null,
       "grid_template_rows": null,
       "height": null,
       "justify_content": null,
       "justify_items": null,
       "left": null,
       "margin": null,
       "max_height": null,
       "max_width": null,
       "min_height": null,
       "min_width": null,
       "object_fit": null,
       "object_position": null,
       "order": null,
       "overflow": null,
       "overflow_x": null,
       "overflow_y": null,
       "padding": null,
       "right": null,
       "top": null,
       "visibility": null,
       "width": null
      }
     },
     "c2db1a1832d1444098eebc9ad45b8072": {
      "model_module": "@jupyter-widgets/base",
      "model_module_version": "1.2.0",
      "model_name": "LayoutModel",
      "state": {
       "_model_module": "@jupyter-widgets/base",
       "_model_module_version": "1.2.0",
       "_model_name": "LayoutModel",
       "_view_count": null,
       "_view_module": "@jupyter-widgets/base",
       "_view_module_version": "1.2.0",
       "_view_name": "LayoutView",
       "align_content": null,
       "align_items": null,
       "align_self": null,
       "border": null,
       "bottom": null,
       "display": null,
       "flex": null,
       "flex_flow": null,
       "grid_area": null,
       "grid_auto_columns": null,
       "grid_auto_flow": null,
       "grid_auto_rows": null,
       "grid_column": null,
       "grid_gap": null,
       "grid_row": null,
       "grid_template_areas": null,
       "grid_template_columns": null,
       "grid_template_rows": null,
       "height": null,
       "justify_content": null,
       "justify_items": null,
       "left": null,
       "margin": null,
       "max_height": null,
       "max_width": null,
       "min_height": null,
       "min_width": null,
       "object_fit": null,
       "object_position": null,
       "order": null,
       "overflow": null,
       "overflow_x": null,
       "overflow_y": null,
       "padding": null,
       "right": null,
       "top": null,
       "visibility": null,
       "width": null
      }
     },
     "c3d084f06f6d41aa8ad2062ee6b071d7": {
      "model_module": "@jupyter-widgets/base",
      "model_module_version": "1.2.0",
      "model_name": "LayoutModel",
      "state": {
       "_model_module": "@jupyter-widgets/base",
       "_model_module_version": "1.2.0",
       "_model_name": "LayoutModel",
       "_view_count": null,
       "_view_module": "@jupyter-widgets/base",
       "_view_module_version": "1.2.0",
       "_view_name": "LayoutView",
       "align_content": null,
       "align_items": null,
       "align_self": null,
       "border": null,
       "bottom": null,
       "display": null,
       "flex": null,
       "flex_flow": null,
       "grid_area": null,
       "grid_auto_columns": null,
       "grid_auto_flow": null,
       "grid_auto_rows": null,
       "grid_column": null,
       "grid_gap": null,
       "grid_row": null,
       "grid_template_areas": null,
       "grid_template_columns": null,
       "grid_template_rows": null,
       "height": null,
       "justify_content": null,
       "justify_items": null,
       "left": null,
       "margin": null,
       "max_height": null,
       "max_width": null,
       "min_height": null,
       "min_width": null,
       "object_fit": null,
       "object_position": null,
       "order": null,
       "overflow": null,
       "overflow_x": null,
       "overflow_y": null,
       "padding": null,
       "right": null,
       "top": null,
       "visibility": null,
       "width": null
      }
     },
     "e0455b1bc1e647f9a2cf52e78fc7edbe": {
      "model_module": "@jupyter-widgets/base",
      "model_module_version": "1.2.0",
      "model_name": "LayoutModel",
      "state": {
       "_model_module": "@jupyter-widgets/base",
       "_model_module_version": "1.2.0",
       "_model_name": "LayoutModel",
       "_view_count": null,
       "_view_module": "@jupyter-widgets/base",
       "_view_module_version": "1.2.0",
       "_view_name": "LayoutView",
       "align_content": null,
       "align_items": null,
       "align_self": null,
       "border": null,
       "bottom": null,
       "display": null,
       "flex": null,
       "flex_flow": null,
       "grid_area": null,
       "grid_auto_columns": null,
       "grid_auto_flow": null,
       "grid_auto_rows": null,
       "grid_column": null,
       "grid_gap": null,
       "grid_row": null,
       "grid_template_areas": null,
       "grid_template_columns": null,
       "grid_template_rows": null,
       "height": null,
       "justify_content": null,
       "justify_items": null,
       "left": null,
       "margin": null,
       "max_height": null,
       "max_width": null,
       "min_height": null,
       "min_width": null,
       "object_fit": null,
       "object_position": null,
       "order": null,
       "overflow": null,
       "overflow_x": null,
       "overflow_y": null,
       "padding": null,
       "right": null,
       "top": null,
       "visibility": null,
       "width": null
      }
     },
     "e1c9586cca2c49b1aa0eaa3cc3326d32": {
      "model_module": "@jupyter-widgets/base",
      "model_module_version": "1.2.0",
      "model_name": "LayoutModel",
      "state": {
       "_model_module": "@jupyter-widgets/base",
       "_model_module_version": "1.2.0",
       "_model_name": "LayoutModel",
       "_view_count": null,
       "_view_module": "@jupyter-widgets/base",
       "_view_module_version": "1.2.0",
       "_view_name": "LayoutView",
       "align_content": null,
       "align_items": null,
       "align_self": null,
       "border": null,
       "bottom": null,
       "display": null,
       "flex": null,
       "flex_flow": null,
       "grid_area": null,
       "grid_auto_columns": null,
       "grid_auto_flow": null,
       "grid_auto_rows": null,
       "grid_column": null,
       "grid_gap": null,
       "grid_row": null,
       "grid_template_areas": null,
       "grid_template_columns": null,
       "grid_template_rows": null,
       "height": null,
       "justify_content": null,
       "justify_items": null,
       "left": null,
       "margin": null,
       "max_height": null,
       "max_width": null,
       "min_height": null,
       "min_width": null,
       "object_fit": null,
       "object_position": null,
       "order": null,
       "overflow": null,
       "overflow_x": null,
       "overflow_y": null,
       "padding": null,
       "right": null,
       "top": null,
       "visibility": null,
       "width": null
      }
     },
     "eba5816dbec841a3886e11cc93a4b4c1": {
      "model_module": "@jupyter-widgets/controls",
      "model_module_version": "1.5.0",
      "model_name": "DescriptionStyleModel",
      "state": {
       "_model_module": "@jupyter-widgets/controls",
       "_model_module_version": "1.5.0",
       "_model_name": "DescriptionStyleModel",
       "_view_count": null,
       "_view_module": "@jupyter-widgets/base",
       "_view_module_version": "1.2.0",
       "_view_name": "StyleView",
       "description_width": ""
      }
     }
    },
    "version_major": 2,
    "version_minor": 0
   }
  }
 },
 "nbformat": 4,
 "nbformat_minor": 5
}
