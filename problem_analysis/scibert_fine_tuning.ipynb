{
 "cells": [
  {
   "cell_type": "markdown",
   "metadata": {},
   "source": [
    "# Fine-Tune a SciBERT Model\n",
    "### Load queried data"
   ]
  },
  {
   "cell_type": "code",
   "execution_count": 208,
   "metadata": {},
   "outputs": [],
   "source": [
    "import pandas as pd\n",
    "import torch\n",
    "import numpy as np\n",
    "from transformers import AutoModel, AutoTokenizer\n",
    "from torch.utils.data import Dataset, DataLoader\n",
    "from tqdm import tqdm\n",
    "import matplotlib.pyplot as plt"
   ]
  },
  {
   "cell_type": "code",
   "execution_count": 209,
   "metadata": {},
   "outputs": [],
   "source": [
    "MAX_LEN = 512\n",
    "TRAIN_BATCH_SIZE = 4\n",
    "VAL_BATCH_SIZE = 4\n",
    "TEST_BATCH_SIZE = 4\n",
    "EPOCHS = 2\n",
    "LEARNING_RATE = 1e-5\n",
    "RANDOM_SEED = 42\n",
    "MODEL_NAME = \"allenai/scibert_scivocab_uncased\"\n",
    "CLASSES = [\"human\", \"veterinary\"]\n",
    "tokenizer = AutoTokenizer.from_pretrained(MODEL_NAME)"
   ]
  },
  {
   "cell_type": "code",
   "execution_count": 210,
   "metadata": {},
   "outputs": [
    {
     "name": "stderr",
     "output_type": "stream",
     "text": [
      "100%|██████████| 26780/26780 [36:42<00:00, 12.16it/s]   \n",
      " 48%|████▊     | 12972/26780 [00:00<00:00, 62187.94it/s]"
     ]
    },
    {
     "name": "stdout",
     "output_type": "stream",
     "text": [
      "Processing NEJM_data.xml\n",
      "Processing animals_data.xml\n"
     ]
    },
    {
     "name": "stderr",
     "output_type": "stream",
     "text": [
      " 95%|█████████▍| 25324/26780 [00:00<00:00, 57714.27it/s]"
     ]
    }
   ],
   "source": [
    "from xml.etree.ElementTree import ElementTree\n",
    "import pandas as pd\n",
    "\n",
    "\n",
    "# Extract data from XML and create a DataFrame\n",
    "xml_files = [\"NEJM_data.xml\", \"animals_data.xml\"]\n",
    "data_path = \"../data-querying/results/\"\n",
    "\n",
    "data_sets = [[], []]\n",
    "\n",
    "tree = ElementTree()\n",
    "\n",
    "hum_xml = tree.parse(data_path + xml_files[0])\n",
    "hum_records = hum_xml.findall('.//Rec')\n",
    "\n",
    "vet_xml = tree.parse(data_path + xml_files[1])\n",
    "vet_records = vet_xml.findall('.//Rec')\n",
    "\n",
    "record_sets = [hum_records, vet_records]\n",
    "\n",
    "progress_bar = tqdm(range(len(hum_records + vet_records)))\n",
    "\n",
    "for i, med_field in enumerate(CLASSES):\n",
    "    print(f\"Processing {xml_files[i]}\")\n",
    "    labels = [1,0] if med_field == \"human\" else [0,1]\n",
    "    for rec in record_sets[i]:\n",
    "        try: \n",
    "            common = rec.find('.//Common')\n",
    "            pmid = common.find('PMID').text\n",
    "            text_types = [elem.text for elem in common.findall('Type')]\n",
    "            title = common.find('Title').text\n",
    "            abstract = common.find('Abstract').text\n",
    "            mesh_term_list = rec.find('.//MeshTermList')\n",
    "            mesh_terms = [term.text for term in mesh_term_list.findall('MeshTerm')]\n",
    "        except Exception as e:\n",
    "            print(f\"An error occurred: {e}\")\n",
    "            print(f\"Error occured for PMID: {pmid}\")\n",
    "\n",
    "        data_sets[i].append({'pmid': pmid, \"text_types\": text_types, 'title': title,\n",
    "                    'abstract': abstract, 'meshtermlist': mesh_terms, 'labels': labels})\n",
    "        progress_bar.update(1)\n",
    "\n",
    "hum_df = pd.DataFrame(data_sets[0])\n",
    "vet_df = pd.DataFrame(data_sets[1])"
   ]
  },
  {
   "cell_type": "code",
   "execution_count": 211,
   "metadata": {},
   "outputs": [
    {
     "data": {
      "text/html": [
       "<div>\n",
       "<style scoped>\n",
       "    .dataframe tbody tr th:only-of-type {\n",
       "        vertical-align: middle;\n",
       "    }\n",
       "\n",
       "    .dataframe tbody tr th {\n",
       "        vertical-align: top;\n",
       "    }\n",
       "\n",
       "    .dataframe thead th {\n",
       "        text-align: right;\n",
       "    }\n",
       "</style>\n",
       "<table border=\"1\" class=\"dataframe\">\n",
       "  <thead>\n",
       "    <tr style=\"text-align: right;\">\n",
       "      <th></th>\n",
       "      <th>pmid</th>\n",
       "      <th>text_types</th>\n",
       "      <th>title</th>\n",
       "      <th>abstract</th>\n",
       "      <th>meshtermlist</th>\n",
       "      <th>labels</th>\n",
       "    </tr>\n",
       "  </thead>\n",
       "  <tbody>\n",
       "    <tr>\n",
       "      <th>count</th>\n",
       "      <td>11555</td>\n",
       "      <td>11555</td>\n",
       "      <td>11555</td>\n",
       "      <td>11555</td>\n",
       "      <td>11555</td>\n",
       "      <td>11555</td>\n",
       "    </tr>\n",
       "    <tr>\n",
       "      <th>unique</th>\n",
       "      <td>11555</td>\n",
       "      <td>616</td>\n",
       "      <td>11544</td>\n",
       "      <td>11552</td>\n",
       "      <td>11520</td>\n",
       "      <td>1</td>\n",
       "    </tr>\n",
       "    <tr>\n",
       "      <th>top</th>\n",
       "      <td>616</td>\n",
       "      <td>[Journal Article]</td>\n",
       "      <td>Hormone receptors in breast cancer and respons...</td>\n",
       "      <td>An 89-year-old male nursing home resident with...</td>\n",
       "      <td>[]</td>\n",
       "      <td>[1, 0]</td>\n",
       "    </tr>\n",
       "    <tr>\n",
       "      <th>freq</th>\n",
       "      <td>1</td>\n",
       "      <td>1435</td>\n",
       "      <td>3</td>\n",
       "      <td>2</td>\n",
       "      <td>28</td>\n",
       "      <td>11555</td>\n",
       "    </tr>\n",
       "  </tbody>\n",
       "</table>\n",
       "</div>"
      ],
      "text/plain": [
       "         pmid         text_types  \\\n",
       "count   11555              11555   \n",
       "unique  11555                616   \n",
       "top       616  [Journal Article]   \n",
       "freq        1               1435   \n",
       "\n",
       "                                                    title  \\\n",
       "count                                               11555   \n",
       "unique                                              11544   \n",
       "top     Hormone receptors in breast cancer and respons...   \n",
       "freq                                                    3   \n",
       "\n",
       "                                                 abstract meshtermlist  labels  \n",
       "count                                               11555        11555   11555  \n",
       "unique                                              11552        11520       1  \n",
       "top     An 89-year-old male nursing home resident with...           []  [1, 0]  \n",
       "freq                                                    2           28   11555  "
      ]
     },
     "execution_count": 211,
     "metadata": {},
     "output_type": "execute_result"
    }
   ],
   "source": [
    "hum_df.describe()"
   ]
  },
  {
   "cell_type": "code",
   "execution_count": 212,
   "metadata": {},
   "outputs": [
    {
     "data": {
      "text/html": [
       "<div>\n",
       "<style scoped>\n",
       "    .dataframe tbody tr th:only-of-type {\n",
       "        vertical-align: middle;\n",
       "    }\n",
       "\n",
       "    .dataframe tbody tr th {\n",
       "        vertical-align: top;\n",
       "    }\n",
       "\n",
       "    .dataframe thead th {\n",
       "        text-align: right;\n",
       "    }\n",
       "</style>\n",
       "<table border=\"1\" class=\"dataframe\">\n",
       "  <thead>\n",
       "    <tr style=\"text-align: right;\">\n",
       "      <th></th>\n",
       "      <th>pmid</th>\n",
       "      <th>text_types</th>\n",
       "      <th>title</th>\n",
       "      <th>abstract</th>\n",
       "      <th>meshtermlist</th>\n",
       "      <th>labels</th>\n",
       "    </tr>\n",
       "  </thead>\n",
       "  <tbody>\n",
       "    <tr>\n",
       "      <th>count</th>\n",
       "      <td>15225</td>\n",
       "      <td>15225</td>\n",
       "      <td>15225</td>\n",
       "      <td>15225</td>\n",
       "      <td>15225</td>\n",
       "      <td>15225</td>\n",
       "    </tr>\n",
       "    <tr>\n",
       "      <th>unique</th>\n",
       "      <td>15225</td>\n",
       "      <td>11</td>\n",
       "      <td>15224</td>\n",
       "      <td>15194</td>\n",
       "      <td>1</td>\n",
       "      <td>1</td>\n",
       "    </tr>\n",
       "    <tr>\n",
       "      <th>top</th>\n",
       "      <td>25126422</td>\n",
       "      <td>[Journal Article]</td>\n",
       "      <td>Tail Docking of Piglets 2: Effects of Meloxica...</td>\n",
       "      <td>In the original publication [...].</td>\n",
       "      <td>[]</td>\n",
       "      <td>[0, 1]</td>\n",
       "    </tr>\n",
       "    <tr>\n",
       "      <th>freq</th>\n",
       "      <td>1</td>\n",
       "      <td>13513</td>\n",
       "      <td>2</td>\n",
       "      <td>8</td>\n",
       "      <td>15225</td>\n",
       "      <td>15225</td>\n",
       "    </tr>\n",
       "  </tbody>\n",
       "</table>\n",
       "</div>"
      ],
      "text/plain": [
       "            pmid         text_types  \\\n",
       "count      15225              15225   \n",
       "unique     15225                 11   \n",
       "top     25126422  [Journal Article]   \n",
       "freq           1              13513   \n",
       "\n",
       "                                                    title  \\\n",
       "count                                               15225   \n",
       "unique                                              15224   \n",
       "top     Tail Docking of Piglets 2: Effects of Meloxica...   \n",
       "freq                                                    2   \n",
       "\n",
       "                                  abstract meshtermlist  labels  \n",
       "count                                15225        15225   15225  \n",
       "unique                               15194            1       1  \n",
       "top     In the original publication [...].           []  [0, 1]  \n",
       "freq                                     8        15225   15225  "
      ]
     },
     "execution_count": 212,
     "metadata": {},
     "output_type": "execute_result"
    }
   ],
   "source": [
    "vet_df.describe()"
   ]
  },
  {
   "cell_type": "code",
   "execution_count": 213,
   "metadata": {},
   "outputs": [
    {
     "data": {
      "image/png": "[encoded data removed]",
      "text/plain": [
       "<Figure size 640x480 with 1 Axes>"
      ]
     },
     "metadata": {},
     "output_type": "display_data"
    }
   ],
   "source": [
    "hum_exploded_df = hum_df.explode(\"text_types\")\n",
    "vet_exploded_df = vet_df.explode(\"text_types\")\n",
    "\n",
    "hum_text_type_counts = hum_exploded_df['text_types'].value_counts()\n",
    "vet_text_type_counts = vet_exploded_df['text_types'].value_counts()\n",
    "\n",
    "fig, ax = plt.subplots()\n",
    "\n",
    "hum_text_type_counts.plot(kind='bar', position=0, width=0.4, color='blue', label='Human', ax=ax)\n",
    "vet_text_type_counts.plot(kind='bar', position=1, width=0.4, color='orange', label='Veterinary', ax=ax)\n",
    "\n",
    "plt.title('Frequency of text types')\n",
    "plt.xlabel('Text type')\n",
    "plt.ylabel('Frequency')\n",
    "plt.legend()\n",
    "plt.show()"
   ]
  },
  {
   "cell_type": "code",
   "execution_count": 214,
   "metadata": {},
   "outputs": [
    {
     "data": {
      "text/plain": [
       "'cuda'"
      ]
     },
     "execution_count": 214,
     "metadata": {},
     "output_type": "execute_result"
    }
   ],
   "source": [
    "from torch import cuda\n",
    "device = 'cuda' if cuda.is_available() else 'cpu'\n",
    "device"
   ]
  },
  {
   "cell_type": "code",
   "execution_count": 215,
   "metadata": {},
   "outputs": [],
   "source": [
    "class Dataset(Dataset):\n",
    "\n",
    "    def __init__(self, texts, labels, tokenizer, max_len):\n",
    "        self.texts = texts\n",
    "        self.labels = labels\n",
    "        self.tokenizer = tokenizer\n",
    "        self.max_len = max_len\n",
    "\n",
    "    def __len__(self):\n",
    "        return len(self.texts)\n",
    "\n",
    "    def __getitem__(self, idx):\n",
    "        if torch.is_tensor(idx):\n",
    "            idx = idx.tolist()\n",
    "            \n",
    "        text = str(self.texts[idx])\n",
    "        labels = self.labels[idx]\n",
    "\n",
    "        encodings = self.tokenizer.encode_plus(\n",
    "            text,\n",
    "            add_special_tokens=True,\n",
    "            max_length=self.max_len,\n",
    "            truncation=True,\n",
    "            pad_to_max_length=True,\n",
    "            return_token_type_ids=True,\n",
    "            return_attention_mask=True,\n",
    "            return_tensors=\"pt\"\n",
    "        )\n",
    "        \n",
    "        ids = encodings['input_ids'].flatten()\n",
    "        mask = encodings['attention_mask'].flatten()\n",
    "        token_type_ids = encodings[\"token_type_ids\"].flatten()\n",
    "\n",
    "\n",
    "        return {\n",
    "            'text': text,\n",
    "            'input_ids': ids.to(device),\n",
    "            'attention_mask': mask.to(device),\n",
    "            'token_type_ids': token_type_ids.to(device),\n",
    "            'labels': torch.tensor(labels, dtype=torch.long).to(device)\n",
    "        }"
   ]
  },
  {
   "cell_type": "code",
   "execution_count": 216,
   "metadata": {},
   "outputs": [],
   "source": [
    "num_objects = 100\n",
    "hum_df = hum_df.sample(num_objects, random_state=42).reset_index(drop=True, inplace=False)\n",
    "vet_df = vet_df.sample(num_objects, random_state=42).reset_index(drop=True, inplace=False)"
   ]
  },
  {
   "cell_type": "code",
   "execution_count": 217,
   "metadata": {},
   "outputs": [
    {
     "name": "stdout",
     "output_type": "stream",
     "text": [
      "TRAIN Dataset: (144, 6)\n",
      "VAL Dataset: (36, 6)\n",
      "TEST Dataset: (20, 6)\n"
     ]
    }
   ],
   "source": [
    "from sklearn.model_selection import train_test_split\n",
    "\n",
    "\n",
    "hum_train_set, hum_test_set = train_test_split(\n",
    "  hum_df,\n",
    "  test_size=0.1,\n",
    "  random_state=RANDOM_SEED\n",
    ")\n",
    "\n",
    "hum_train_set, hum_val_set = train_test_split(\n",
    "  hum_train_set,\n",
    "  test_size=0.2,\n",
    "  random_state=RANDOM_SEED\n",
    ")\n",
    "\n",
    "vet_train_set, vet_test_set = train_test_split(\n",
    "  vet_df,\n",
    "  test_size=0.1,\n",
    "  random_state=RANDOM_SEED\n",
    ")\n",
    "\n",
    "vet_train_set, vet_val_set = train_test_split(\n",
    "  vet_train_set,\n",
    "  test_size=0.2,\n",
    "  random_state=RANDOM_SEED\n",
    ")\n",
    "\n",
    "train_set = pd.concat([hum_train_set, vet_train_set]).sample(frac=1).reset_index(drop=True, inplace=False)\n",
    "val_set = pd.concat([hum_val_set, vet_val_set]).sample(frac=1).reset_index(drop=True, inplace=False)\n",
    "test_set = pd.concat([hum_test_set, vet_test_set]).sample(frac=1).reset_index(drop=True, inplace=False)\n",
    "\n",
    "print(\"TRAIN Dataset: {}\".format(train_set.shape))\n",
    "print(\"VAL Dataset: {}\".format(val_set.shape))\n",
    "print(\"TEST Dataset: {}\".format(test_set.shape))"
   ]
  },
  {
   "cell_type": "code",
   "execution_count": 218,
   "metadata": {},
   "outputs": [
    {
     "data": {
      "text/html": [
       "<div>\n",
       "<style scoped>\n",
       "    .dataframe tbody tr th:only-of-type {\n",
       "        vertical-align: middle;\n",
       "    }\n",
       "\n",
       "    .dataframe tbody tr th {\n",
       "        vertical-align: top;\n",
       "    }\n",
       "\n",
       "    .dataframe thead th {\n",
       "        text-align: right;\n",
       "    }\n",
       "</style>\n",
       "<table border=\"1\" class=\"dataframe\">\n",
       "  <thead>\n",
       "    <tr style=\"text-align: right;\">\n",
       "      <th></th>\n",
       "      <th>pmid</th>\n",
       "      <th>text_types</th>\n",
       "      <th>title</th>\n",
       "      <th>abstract</th>\n",
       "      <th>meshtermlist</th>\n",
       "      <th>labels</th>\n",
       "    </tr>\n",
       "  </thead>\n",
       "  <tbody>\n",
       "    <tr>\n",
       "      <th>0</th>\n",
       "      <td>1320736</td>\n",
       "      <td>[Journal Article, Research Support, U.S. Gov't...</td>\n",
       "      <td>The declining risk of post-transfusion hepatit...</td>\n",
       "      <td>The most common serious complication of blood ...</td>\n",
       "      <td>[Alanine Transaminase, Blood Donors, Cardiac S...</td>\n",
       "      <td>[1, 0]</td>\n",
       "    </tr>\n",
       "    <tr>\n",
       "      <th>1</th>\n",
       "      <td>22616830</td>\n",
       "      <td>[Comparative Study, Journal Article, Multicent...</td>\n",
       "      <td>Drotrecogin alfa (activated) in adults with se...</td>\n",
       "      <td>There have been conflicting reports on the eff...</td>\n",
       "      <td>[Adult, Anti-Infective Agents, Double-Blind Me...</td>\n",
       "      <td>[1, 0]</td>\n",
       "    </tr>\n",
       "    <tr>\n",
       "      <th>2</th>\n",
       "      <td>34944262</td>\n",
       "      <td>[Journal Article]</td>\n",
       "      <td>Effect of Breeding Heavier Romney Ewe Lambs at...</td>\n",
       "      <td>This experiment examined the effect of breedin...</td>\n",
       "      <td>[]</td>\n",
       "      <td>[0, 1]</td>\n",
       "    </tr>\n",
       "    <tr>\n",
       "      <th>3</th>\n",
       "      <td>35565567</td>\n",
       "      <td>[Case Reports]</td>\n",
       "      <td>Home Range and Activity Patterns of Free-Rangi...</td>\n",
       "      <td>Human activities and the available resources i...</td>\n",
       "      <td>[]</td>\n",
       "      <td>[0, 1]</td>\n",
       "    </tr>\n",
       "    <tr>\n",
       "      <th>4</th>\n",
       "      <td>36290165</td>\n",
       "      <td>[Journal Article]</td>\n",
       "      <td>Copy Number Variations in the MICALL2 and MOGA...</td>\n",
       "      <td>Copy number variations (CNVs) are a result of ...</td>\n",
       "      <td>[]</td>\n",
       "      <td>[0, 1]</td>\n",
       "    </tr>\n",
       "    <tr>\n",
       "      <th>...</th>\n",
       "      <td>...</td>\n",
       "      <td>...</td>\n",
       "      <td>...</td>\n",
       "      <td>...</td>\n",
       "      <td>...</td>\n",
       "      <td>...</td>\n",
       "    </tr>\n",
       "    <tr>\n",
       "      <th>139</th>\n",
       "      <td>34066583</td>\n",
       "      <td>[Journal Article]</td>\n",
       "      <td>Oryzias curvinotus in Sanya Does Not Contain t...</td>\n",
       "      <td>Hainan medaka (Oryzias curvinotus) is distribu...</td>\n",
       "      <td>[]</td>\n",
       "      <td>[0, 1]</td>\n",
       "    </tr>\n",
       "    <tr>\n",
       "      <th>140</th>\n",
       "      <td>34679939</td>\n",
       "      <td>[Journal Article]</td>\n",
       "      <td>Identification of microRNAs in Silver Carp (Hy...</td>\n",
       "      <td>Hypoxia is one of the serious stresses in fish...</td>\n",
       "      <td>[]</td>\n",
       "      <td>[0, 1]</td>\n",
       "    </tr>\n",
       "    <tr>\n",
       "      <th>141</th>\n",
       "      <td>36139178</td>\n",
       "      <td>[Journal Article]</td>\n",
       "      <td>Influence of Different Heat-Stress-Reducing Sy...</td>\n",
       "      <td>High ambient temperatures and relative humidit...</td>\n",
       "      <td>[]</td>\n",
       "      <td>[0, 1]</td>\n",
       "    </tr>\n",
       "    <tr>\n",
       "      <th>142</th>\n",
       "      <td>34205240</td>\n",
       "      <td>[Journal Article]</td>\n",
       "      <td>A Retrospective Analysis of Typologies of Anim...</td>\n",
       "      <td>We conducted a retrospective study of 254 susp...</td>\n",
       "      <td>[]</td>\n",
       "      <td>[0, 1]</td>\n",
       "    </tr>\n",
       "    <tr>\n",
       "      <th>143</th>\n",
       "      <td>6700693</td>\n",
       "      <td>[Journal Article]</td>\n",
       "      <td>Acute respiratory infections in children. A gl...</td>\n",
       "      <td>Accurate prevalence and incidence figures do n...</td>\n",
       "      <td>[Acute Disease, Adult, Cardiovascular Diseases...</td>\n",
       "      <td>[1, 0]</td>\n",
       "    </tr>\n",
       "  </tbody>\n",
       "</table>\n",
       "<p>144 rows × 6 columns</p>\n",
       "</div>"
      ],
      "text/plain": [
       "         pmid                                         text_types  \\\n",
       "0     1320736  [Journal Article, Research Support, U.S. Gov't...   \n",
       "1    22616830  [Comparative Study, Journal Article, Multicent...   \n",
       "2    34944262                                  [Journal Article]   \n",
       "3    35565567                                     [Case Reports]   \n",
       "4    36290165                                  [Journal Article]   \n",
       "..        ...                                                ...   \n",
       "139  34066583                                  [Journal Article]   \n",
       "140  34679939                                  [Journal Article]   \n",
       "141  36139178                                  [Journal Article]   \n",
       "142  34205240                                  [Journal Article]   \n",
       "143   6700693                                  [Journal Article]   \n",
       "\n",
       "                                                 title  \\\n",
       "0    The declining risk of post-transfusion hepatit...   \n",
       "1    Drotrecogin alfa (activated) in adults with se...   \n",
       "2    Effect of Breeding Heavier Romney Ewe Lambs at...   \n",
       "3    Home Range and Activity Patterns of Free-Rangi...   \n",
       "4    Copy Number Variations in the MICALL2 and MOGA...   \n",
       "..                                                 ...   \n",
       "139  Oryzias curvinotus in Sanya Does Not Contain t...   \n",
       "140  Identification of microRNAs in Silver Carp (Hy...   \n",
       "141  Influence of Different Heat-Stress-Reducing Sy...   \n",
       "142  A Retrospective Analysis of Typologies of Anim...   \n",
       "143  Acute respiratory infections in children. A gl...   \n",
       "\n",
       "                                              abstract  \\\n",
       "0    The most common serious complication of blood ...   \n",
       "1    There have been conflicting reports on the eff...   \n",
       "2    This experiment examined the effect of breedin...   \n",
       "3    Human activities and the available resources i...   \n",
       "4    Copy number variations (CNVs) are a result of ...   \n",
       "..                                                 ...   \n",
       "139  Hainan medaka (Oryzias curvinotus) is distribu...   \n",
       "140  Hypoxia is one of the serious stresses in fish...   \n",
       "141  High ambient temperatures and relative humidit...   \n",
       "142  We conducted a retrospective study of 254 susp...   \n",
       "143  Accurate prevalence and incidence figures do n...   \n",
       "\n",
       "                                          meshtermlist  labels  \n",
       "0    [Alanine Transaminase, Blood Donors, Cardiac S...  [1, 0]  \n",
       "1    [Adult, Anti-Infective Agents, Double-Blind Me...  [1, 0]  \n",
       "2                                                   []  [0, 1]  \n",
       "3                                                   []  [0, 1]  \n",
       "4                                                   []  [0, 1]  \n",
       "..                                                 ...     ...  \n",
       "139                                                 []  [0, 1]  \n",
       "140                                                 []  [0, 1]  \n",
       "141                                                 []  [0, 1]  \n",
       "142                                                 []  [0, 1]  \n",
       "143  [Acute Disease, Adult, Cardiovascular Diseases...  [1, 0]  \n",
       "\n",
       "[144 rows x 6 columns]"
      ]
     },
     "execution_count": 218,
     "metadata": {},
     "output_type": "execute_result"
    }
   ],
   "source": [
    "train_set"
   ]
  },
  {
   "cell_type": "code",
   "execution_count": 219,
   "metadata": {},
   "outputs": [],
   "source": [
    "def get_dataloader(texts, targets, tokenizer, batch_size, max_len, num_workers=0):\n",
    "    dataset = Dataset(texts.to_numpy(), targets, tokenizer, max_len)\n",
    "    params = {\n",
    "        \"batch_size\":batch_size,\n",
    "        \"num_workers\":num_workers\n",
    "    }\n",
    "    dataloader = DataLoader(dataset, **params)\n",
    "    \n",
    "    return dataloader"
   ]
  },
  {
   "cell_type": "code",
   "execution_count": 220,
   "metadata": {},
   "outputs": [],
   "source": [
    "train_set[\"title_abstract\"] = train_set[[\"title\", \"abstract\"]].apply(lambda row: ' '.join(row.values.astype(str)), axis=1)\n",
    "val_set[\"title_abstract\"] = val_set[[\"title\", \"abstract\"]].apply(lambda row: ' '.join(row.values.astype(str)), axis=1)\n",
    "test_set[\"title_abstract\"] = test_set[[\"title\", \"abstract\"]].apply(lambda row: ' '.join(row.values.astype(str)), axis=1)"
   ]
  },
  {
   "cell_type": "code",
   "execution_count": 221,
   "metadata": {},
   "outputs": [],
   "source": [
    "train_dataloader = get_dataloader(train_set.abstract, train_set.labels, tokenizer, TRAIN_BATCH_SIZE, MAX_LEN)\n",
    "val_dataloader = get_dataloader(val_set.abstract, val_set.labels, tokenizer, VAL_BATCH_SIZE, MAX_LEN)\n",
    "test_dataloader = get_dataloader(test_set.abstract, test_set.labels, tokenizer, TEST_BATCH_SIZE, MAX_LEN)"
   ]
  },
  {
   "cell_type": "code",
   "execution_count": 222,
   "metadata": {},
   "outputs": [],
   "source": [
    "class SciBertClassifier(torch.nn.Module):\n",
    "\n",
    "    def __init__(self, dropout=0.5):\n",
    "\n",
    "        super(SciBertClassifier, self).__init__()\n",
    "\n",
    "        self.scibert =AutoModel.from_pretrained(MODEL_NAME, num_labels=2)\n",
    "        self.dropout = torch.nn.Dropout(dropout)\n",
    "        self.linear = torch.nn.Linear(self.scibert.config.hidden_size, 2)\n",
    "\n",
    "    def forward(self, input_ids, attention_mask, token_type_ids):\n",
    "\n",
    "        scibert_output = self.scibert(input_ids=input_ids, attention_mask=attention_mask, token_type_ids = token_type_ids)\n",
    "        dropout_output = self.dropout(scibert_output[1])\n",
    "        output = self.linear(dropout_output)\n",
    "\n",
    "        return output"
   ]
  },
  {
   "cell_type": "code",
   "execution_count": 223,
   "metadata": {},
   "outputs": [],
   "source": [
    "model = SciBertClassifier()\n",
    "model = model.to(device)"
   ]
  },
  {
   "cell_type": "code",
   "execution_count": 224,
   "metadata": {},
   "outputs": [],
   "source": [
    "def loss_fn(outputs, targets):\n",
    "    return torch.nn.BCEWithLogitsLoss()(outputs, targets)"
   ]
  },
  {
   "cell_type": "code",
   "execution_count": 225,
   "metadata": {},
   "outputs": [],
   "source": [
    "from transformers import get_linear_schedule_with_warmup\n",
    "\n",
    "optimizer = torch.optim.Adam(model.parameters(), lr=LEARNING_RATE)\n",
    "total_steps = len(train_dataloader) * EPOCHS\n",
    "scheduler = get_linear_schedule_with_warmup(\n",
    "  optimizer,\n",
    "  num_warmup_steps=0,\n",
    "  num_training_steps=total_steps\n",
    ")"
   ]
  },
  {
   "cell_type": "code",
   "execution_count": 226,
   "metadata": {},
   "outputs": [],
   "source": [
    "def eval_model(model, dataloader, loss_fn, device):\n",
    "    model = model.eval()\n",
    "    \n",
    "    loss = 0.0\n",
    "    correct_predictions = 0.0\n",
    "    \n",
    "    with torch.no_grad():\n",
    "        for data in dataloader:\n",
    "            input_ids = data[\"input_ids\"].to(device, dtype = torch.long)\n",
    "            attention_mask = data[\"attention_mask\"].to(device, dtype = torch.long)\n",
    "            token_type_ids = data[\"token_type_ids\"].to(device, dtype = torch.long)\n",
    "            labels = data[\"labels\"].to(device, dtype = torch.float)\n",
    "            \n",
    "            outputs = model(input_ids, attention_mask, token_type_ids)\n",
    "            loss += loss_fn(outputs, labels).item()\n",
    "            \n",
    "            preds = torch.argmax(outputs, dim=1)\n",
    "            correct_predictions += torch.sum(preds == torch.argmax(labels, dim=1)).item()\n",
    "            \n",
    "            \n",
    "    num_data = len(dataloader) * VAL_BATCH_SIZE\n",
    "    return correct_predictions / num_data, loss / num_data"
   ]
  },
  {
   "cell_type": "code",
   "execution_count": 227,
   "metadata": {},
   "outputs": [],
   "source": [
    "from tqdm import tqdm\n",
    "\n",
    "def train(model, train_dataloader, val_dataloader, loss_fn, optimizer, device, scheduler, epochs):\n",
    "    progress_bar = tqdm(range(len(train_dataloader) * epochs))\n",
    "    model = model.train()\n",
    "    history = []\n",
    "    best_acc = 0\n",
    "    \n",
    "    for epoch_num in range(epochs):\n",
    "        print(\"_\" * 30)\n",
    "        print(f'Epoch {epoch_num} started.')\n",
    "        \n",
    "        total_loss = 0\n",
    "        correct_predictions = 0.0\n",
    "        \n",
    "        for data in train_dataloader:\n",
    "            input_ids = data['input_ids'].to(device, dtype = torch.long)\n",
    "            attention_mask = data['attention_mask'].to(device, dtype = torch.long)\n",
    "            token_type_ids = data['token_type_ids'].to(device, dtype = torch.long)\n",
    "            labels = data['labels'].to(device, dtype = torch.float)\n",
    "\n",
    "            outputs = model(input_ids, attention_mask, token_type_ids)\n",
    "            preds = torch.argmax(outputs, dim=1)\n",
    "            correct_predictions += torch.sum(preds == torch.argmax(labels, dim=1)).item()\n",
    "            \n",
    "            loss = loss_fn(outputs, labels)\n",
    "            total_loss += loss.item()\n",
    "            \n",
    "            \n",
    "            loss.backward()\n",
    "            # to avoid exploding gradients\n",
    "            torch.nn.utils.clip_grad_norm_(model.parameters(), max_norm=1.0)\n",
    "            optimizer.step()\n",
    "            scheduler.step()\n",
    "            optimizer.zero_grad()\n",
    "                        \n",
    "            progress_bar.update(1)\n",
    "        \n",
    "        num_data = len(train_dataloader) * TRAIN_BATCH_SIZE\n",
    "        train_acc = correct_predictions / num_data\n",
    "        train_loss = total_loss / num_data\n",
    "        print(f'Epoch: {epoch_num}, Train Accuracy {train_acc}, Loss:  {train_loss}')\n",
    "\n",
    "        val_acc, val_loss = eval_model(model, val_dataloader, loss_fn, device)\n",
    "        print(f'Epoch: {epoch_num}, Validation Accuracy {val_acc}, Loss:  {val_loss}')\n",
    "        \n",
    "        history.append({\"train_acc\": train_acc, \"train_loss\": train_loss, \"val_acc\": val_acc, \"val_loss\": val_loss})\n",
    "        \n",
    "        if val_acc > best_acc:\n",
    "            torch.save(model.state_dict(), 'best_model.bin')\n",
    "            best_acc = val_acc\n",
    "            \n",
    "    return history"
   ]
  },
  {
   "cell_type": "code",
   "execution_count": 228,
   "metadata": {},
   "outputs": [
    {
     "name": "stderr",
     "output_type": "stream",
     "text": [
      "100%|██████████| 26780/26780 [00:20<00:00, 57714.27it/s]c:\\Users\\albbl\\Documents\\Studium\\11_Semester\\medtextclassification_repo\\.venv\\Lib\\site-packages\\transformers\\tokenization_utils_base.py:2614: FutureWarning: The `pad_to_max_length` argument is deprecated and will be removed in a future version, use `padding=True` or `padding='longest'` to pad to the longest sequence in the batch, or use `padding='max_length'` to pad to a max length. In this case, you can give a specific length with `max_length` (e.g. `max_length=45`) or leave max_length to None to pad to the maximal input size of the model (e.g. 512 for Bert).\n",
      "  warnings.warn(\n"
     ]
    },
    {
     "name": "stdout",
     "output_type": "stream",
     "text": [
      "______________________________\n",
      "Epoch 0 started.\n"
     ]
    },
    {
     "name": "stderr",
     "output_type": "stream",
     "text": []
    },
    {
     "name": "stdout",
     "output_type": "stream",
     "text": [
      "Epoch: 0, Train Accuracy 0.8194444444444444, Loss:  0.13998176861140463\n",
      "Epoch: 0, Validation Accuracy 0.9444444444444444, Loss:  0.11228766623470518\n",
      "______________________________\n",
      "Epoch 1 started.\n"
     ]
    },
    {
     "name": "stderr",
     "output_type": "stream",
     "text": []
    },
    {
     "name": "stdout",
     "output_type": "stream",
     "text": [
      "Epoch: 1, Train Accuracy 0.9722222222222222, Loss:  0.07696021296497849\n",
      "Epoch: 1, Validation Accuracy 0.9722222222222222, Loss:  0.07841648699508773\n"
     ]
    },
    {
     "name": "stderr",
     "output_type": "stream",
     "text": [
      "100%|██████████| 72/72 [31:44<00:00, 26.46s/it]\n"
     ]
    }
   ],
   "source": [
    "torch.cuda.empty_cache()\n",
    "history = train(model, train_dataloader, val_dataloader, loss_fn, optimizer, device, scheduler, EPOCHS)"
   ]
  },
  {
   "cell_type": "code",
   "execution_count": 229,
   "metadata": {},
   "outputs": [
    {
     "data": {
      "text/plain": [
       "(0.0, 1.0)"
      ]
     },
     "execution_count": 229,
     "metadata": {},
     "output_type": "execute_result"
    },
    {
     "data": {
      "image/png": "[encoded data removed]",
      "text/plain": [
       "<Figure size 640x480 with 1 Axes>"
      ]
     },
     "metadata": {},
     "output_type": "display_data"
    }
   ],
   "source": [
    "history = pd.DataFrame(history)\n",
    "\n",
    "plt.plot(history['train_acc'], label='train accuracy')\n",
    "plt.plot(history['val_acc'], label='validation accuracy')\n",
    "plt.title('Training history')\n",
    "plt.ylabel('Accuracy')\n",
    "plt.xlabel('Epoch')\n",
    "plt.legend()\n",
    "plt.ylim([0, 1])"
   ]
  },
  {
   "cell_type": "code",
   "execution_count": 230,
   "metadata": {},
   "outputs": [],
   "source": [
    "def predict(model, texts, tokenizer, max_len=512):\n",
    "    progress_bar = tqdm(range(len(texts)))\n",
    "\n",
    "    predictions = []\n",
    "    for data in texts:\n",
    "        text = str(data)\n",
    "\n",
    "        inputs = tokenizer.encode_plus(\n",
    "            text,\n",
    "            None,\n",
    "            add_special_tokens=True,\n",
    "            max_length=max_len,\n",
    "            pad_to_max_length=True,\n",
    "            return_token_type_ids=True\n",
    "        )\n",
    "        ids = torch.tensor(inputs['input_ids'], dtype=torch.long).unsqueeze(0).to(device)\n",
    "        mask = torch.tensor(inputs['attention_mask'], dtype=torch.long).unsqueeze(0).to(device)\n",
    "        token_type_ids = torch.tensor(inputs[\"token_type_ids\"], dtype=torch.long).unsqueeze(0).to(device)\n",
    "\n",
    "        with torch.no_grad():\n",
    "            logits = model(ids, mask, token_type_ids)\n",
    "        \n",
    "        probabilities = torch.sigmoid(logits.squeeze())\n",
    "        predictions.append(probabilities)\n",
    "\n",
    "        \n",
    "        progress_bar.update(1)\n",
    "\n",
    "    return predictions"
   ]
  },
  {
   "cell_type": "code",
   "execution_count": 231,
   "metadata": {},
   "outputs": [
    {
     "name": "stdout",
     "output_type": "stream",
     "text": [
      "TEST dataset - Accuracy: 1.0, Loss: 0.06424072980880738\n"
     ]
    }
   ],
   "source": [
    "acc, loss = eval_model(model, test_dataloader, loss_fn, device)\n",
    "print(f\"TEST dataset - Accuracy: {acc}, Loss: {loss}\")"
   ]
  },
  {
   "cell_type": "code",
   "execution_count": 254,
   "metadata": {},
   "outputs": [
    {
     "name": "stderr",
     "output_type": "stream",
     "text": [
      "c:\\Users\\albbl\\Documents\\Studium\\11_Semester\\medtextclassification_repo\\.venv\\Lib\\site-packages\\transformers\\tokenization_utils_base.py:2614: FutureWarning: The `pad_to_max_length` argument is deprecated and will be removed in a future version, use `padding=True` or `padding='longest'` to pad to the longest sequence in the batch, or use `padding='max_length'` to pad to a max length. In this case, you can give a specific length with `max_length` (e.g. `max_length=45`) or leave max_length to None to pad to the maximal input size of the model (e.g. 512 for Bert).\n",
      "  warnings.warn(\n",
      "100%|██████████| 1/1 [00:00<00:00, 17.58it/s]\n"
     ]
    },
    {
     "data": {
      "text/plain": [
       "[tensor([0.5312, 0.6079], device='cuda:0')]"
      ]
     },
     "execution_count": 254,
     "metadata": {},
     "output_type": "execute_result"
    }
   ],
   "source": [
    "text = [\"All animal procedures conformed with the Regulations for the Administration of Affairs Concerning Experimental Animals (Ministry of Science and Technology, Beijing, China, 2004) and were approved by the Institutional Animal Care and Use Committee (College of Animal Science and Technology, Northwest A&F University, Yanling, Xianyang, China, No. 2013-23, 20 April 2013). In this study, the 4-day-old Qinchuan beef cattle was used to isolate preadipocytes and myoblasts, and the cattle was born and raised at the breeding farm of the National Beef Cattle Improvement Center (Yangling, Xianyang, China).\"]\n",
    "predict(model, text, tokenizer)"
   ]
  },
  {
   "cell_type": "code",
   "execution_count": 233,
   "metadata": {},
   "outputs": [
    {
     "name": "stderr",
     "output_type": "stream",
     "text": [
      "100%|██████████| 20/20 [00:54<00:00,  2.72s/it]\n"
     ]
    },
    {
     "data": {
      "text/plain": [
       "[tensor([0.7572, 0.2547], device='cuda:0'),\n",
       " tensor([0.2324, 0.8524], device='cuda:0'),\n",
       " tensor([0.2101, 0.8390], device='cuda:0'),\n",
       " tensor([0.8140, 0.2052], device='cuda:0'),\n",
       " tensor([0.8088, 0.2346], device='cuda:0'),\n",
       " tensor([0.8043, 0.2538], device='cuda:0'),\n",
       " tensor([0.1739, 0.8604], device='cuda:0'),\n",
       " tensor([0.1889, 0.8545], device='cuda:0'),\n",
       " tensor([0.8050, 0.2114], device='cuda:0'),\n",
       " tensor([0.2627, 0.7806], device='cuda:0'),\n",
       " tensor([0.2371, 0.8378], device='cuda:0'),\n",
       " tensor([0.2223, 0.8175], device='cuda:0'),\n",
       " tensor([0.7299, 0.2243], device='cuda:0'),\n",
       " tensor([0.6217, 0.3354], device='cuda:0'),\n",
       " tensor([0.7612, 0.2881], device='cuda:0'),\n",
       " tensor([0.2134, 0.8509], device='cuda:0'),\n",
       " tensor([0.2459, 0.7854], device='cuda:0'),\n",
       " tensor([0.8120, 0.2114], device='cuda:0'),\n",
       " tensor([0.5527, 0.3486], device='cuda:0'),\n",
       " tensor([0.2029, 0.8648], device='cuda:0')]"
      ]
     },
     "execution_count": 233,
     "metadata": {},
     "output_type": "execute_result"
    }
   ],
   "source": [
    "test_preds = predict(model, test_set.abstract, tokenizer)\n",
    "test_preds"
   ]
  },
  {
   "cell_type": "code",
   "execution_count": 234,
   "metadata": {},
   "outputs": [
    {
     "data": {
      "text/plain": [
       "[0, 1, 1, 0, 0, 0, 1, 1, 0, 1, 1, 1, 0, 0, 0, 1, 1, 0, 0, 1]"
      ]
     },
     "execution_count": 234,
     "metadata": {},
     "output_type": "execute_result"
    }
   ],
   "source": [
    "test_labels = [labels.index(max(labels)) for labels in test_set.labels]\n",
    "preds_labels = [torch.argmax(pred).item() for pred in test_preds]\n",
    "test_labels"
   ]
  },
  {
   "cell_type": "code",
   "execution_count": 235,
   "metadata": {},
   "outputs": [
    {
     "name": "stdout",
     "output_type": "stream",
     "text": [
      "              precision    recall  f1-score   support\n",
      "\n",
      "       human       1.00      1.00      1.00        10\n",
      "  veterinary       1.00      1.00      1.00        10\n",
      "\n",
      "    accuracy                           1.00        20\n",
      "   macro avg       1.00      1.00      1.00        20\n",
      "weighted avg       1.00      1.00      1.00        20\n",
      "\n"
     ]
    }
   ],
   "source": [
    "from sklearn.metrics import confusion_matrix, classification_report\n",
    "classes = [\"human\", \"veterinary\"]\n",
    "\n",
    "report = classification_report(test_labels, preds_labels, target_names=classes)\n",
    "print(report)"
   ]
  },
  {
   "cell_type": "code",
   "execution_count": 236,
   "metadata": {},
   "outputs": [
    {
     "data": {
      "image/png": "[encoded data removed]",
      "text/plain": [
       "<Figure size 640x480 with 2 Axes>"
      ]
     },
     "metadata": {},
     "output_type": "display_data"
    }
   ],
   "source": [
    "from sklearn.metrics import ConfusionMatrixDisplay\n",
    "\n",
    "test_classes = [\"human\" if label == 0 else \"veterinary\" for label in test_labels]\n",
    "preds_classes = [\"human\" if label == 0 else \"veterinary\" for label in preds_labels]\n",
    "disp = ConfusionMatrixDisplay.from_predictions(test_classes, preds_classes, labels=classes, normalize=\"true\", cmap=plt.cm.Blues)\n",
    "disp.ax_.set_title(\"Confusion matrix (normalized)\")\n",
    "plt.show()"
   ]
  }
 ],
 "metadata": {
  "kernelspec": {
   "display_name": "Python 3",
   "language": "python",
   "name": "python3"
  },
  "language_info": {
   "codemirror_mode": {
    "name": "ipython",
    "version": 3
   },
   "file_extension": ".py",
   "mimetype": "text/x-python",
   "name": "python",
   "nbconvert_exporter": "python",
   "pygments_lexer": "ipython3",
   "version": "3.11.6"
  }
 },
 "nbformat": 4,
 "nbformat_minor": 2
}
