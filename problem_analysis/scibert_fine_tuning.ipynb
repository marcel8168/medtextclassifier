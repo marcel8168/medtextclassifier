{
 "cells": [
  {
   "cell_type": "markdown",
   "id": "50fb5584",
   "metadata": {},
   "source": [
    "# Fine-Tune a SciBERT Model\n",
    "### Load queried data"
   ]
  },
  {
   "cell_type": "code",
   "execution_count": 1,
   "id": "ef8a4e6f",
   "metadata": {
    "execution": {
     "iopub.execute_input": "2024-01-08T10:01:27.754349Z",
     "iopub.status.busy": "2024-01-08T10:01:27.753983Z",
     "iopub.status.idle": "2024-01-08T10:01:33.093565Z",
     "shell.execute_reply": "2024-01-08T10:01:33.092587Z"
    },
    "papermill": {
     "duration": 5.356692,
     "end_time": "2024-01-08T10:01:33.095864",
     "exception": false,
     "start_time": "2024-01-08T10:01:27.739172",
     "status": "completed"
    },
    "tags": []
   },
   "outputs": [
    {
     "name": "stderr",
     "output_type": "stream",
     "text": [
      "c:\\Users\\albbl\\Documents\\Studium\\11_Semester\\medtextclassification_repo\\.venv\\Lib\\site-packages\\tqdm\\auto.py:21: TqdmWarning: IProgress not found. Please update jupyter and ipywidgets. See https://ipywidgets.readthedocs.io/en/stable/user_install.html\n",
      "  from .autonotebook import tqdm as notebook_tqdm\n"
     ]
    }
   ],
   "source": [
    "import pandas as pd\n",
    "import torch\n",
    "import numpy as np\n",
    "from transformers import AutoModel, AutoTokenizer\n",
    "from torch.utils.data import Dataset, DataLoader\n",
    "from tqdm import tqdm\n",
    "import matplotlib.pyplot as plt\n",
    "import os"
   ]
  },
  {
   "cell_type": "code",
   "execution_count": 2,
   "id": "a5fab4a9",
   "metadata": {
    "execution": {
     "iopub.execute_input": "2024-01-08T10:01:33.125366Z",
     "iopub.status.busy": "2024-01-08T10:01:33.124901Z",
     "iopub.status.idle": "2024-01-08T10:01:34.228341Z",
     "shell.execute_reply": "2024-01-08T10:01:34.227503Z"
    },
    "papermill": {
     "duration": 1.120803,
     "end_time": "2024-01-08T10:01:34.230768",
     "exception": false,
     "start_time": "2024-01-08T10:01:33.109965",
     "status": "completed"
    },
    "tags": []
   },
   "outputs": [],
   "source": [
    "MAX_LEN = 512\n",
    "TRAIN_BATCH_SIZE = 4\n",
    "VAL_BATCH_SIZE = 4\n",
    "TEST_BATCH_SIZE = 4\n",
    "EPOCHS = 3\n",
    "LEARNING_RATE = 1e-5\n",
    "RANDOM_SEED = 42\n",
    "MODEL_NAME = \"allenai/scibert_scivocab_uncased\"\n",
    "LABELS_MAP = {\n",
    "    \"human_medicine\":0,\n",
    "    \"veterinary_medicine\":1\n",
    "    }\n",
    "tokenizer = AutoTokenizer.from_pretrained(MODEL_NAME)"
   ]
  },
  {
   "cell_type": "code",
   "execution_count": 3,
   "id": "e3581d9f",
   "metadata": {
    "execution": {
     "iopub.execute_input": "2024-01-08T10:01:34.262619Z",
     "iopub.status.busy": "2024-01-08T10:01:34.262282Z",
     "iopub.status.idle": "2024-01-08T10:01:40.117657Z",
     "shell.execute_reply": "2024-01-08T10:01:40.116657Z"
    },
    "papermill": {
     "duration": 5.873199,
     "end_time": "2024-01-08T10:01:40.120072",
     "exception": false,
     "start_time": "2024-01-08T10:01:34.246873",
     "status": "completed"
    },
    "tags": []
   },
   "outputs": [
    {
     "name": "stderr",
     "output_type": "stream",
     "text": [
      " 17%|█▋        | 18322/105930 [00:00<00:00, 91706.92it/s]"
     ]
    },
    {
     "name": "stdout",
     "output_type": "stream",
     "text": [
      "Processing medical field: human_medicine\n"
     ]
    },
    {
     "name": "stderr",
     "output_type": "stream",
     "text": [
      " 43%|████▎     | 45622/105930 [00:00<00:00, 83467.48it/s]"
     ]
    },
    {
     "name": "stdout",
     "output_type": "stream",
     "text": [
      "Processing medical field: veterinary_medicine\n"
     ]
    },
    {
     "name": "stderr",
     "output_type": "stream",
     "text": [
      " 99%|█████████▉| 105010/105930 [00:01<00:00, 77361.58it/s]"
     ]
    }
   ],
   "source": [
    "import itertools\n",
    "from xml.etree.ElementTree import ElementTree\n",
    "import pandas as pd\n",
    "\n",
    "\n",
    "# Extract data from XML and create a DataFrame\n",
    "xml_files = []\n",
    "data_path = \"../data-querying/results/\"\n",
    "results_folders = [\"human_medical_data/\", \"veterinary_medical_data/\"]\n",
    "for folder in results_folders:\n",
    "    xml_files.append(os.listdir(data_path + folder))\n",
    "\n",
    "data_sets = [[], []]\n",
    "record_sets = []\n",
    "\n",
    "tree = ElementTree()\n",
    "\n",
    "for i, med_field in enumerate(xml_files):\n",
    "    med_field_lists = []\n",
    "    for xml in med_field:\n",
    "        temp = tree.parse(data_path + results_folders[i] + xml)\n",
    "        med_field_lists.append(temp.findall('.//Rec'))\n",
    "    record_sets.append(list(itertools.chain(*med_field_lists)))\n",
    "\n",
    "progress_bar = tqdm(range(sum(len(x) for x in record_sets)))\n",
    "\n",
    "for i, med_field in enumerate(LABELS_MAP.keys()):\n",
    "    print(f\"Processing medical field: {med_field}\")\n",
    "    labels = LABELS_MAP[med_field]\n",
    "    for rec in record_sets[i]:\n",
    "        try: \n",
    "            common = rec.find('.//Common')\n",
    "            pmid = common.find('PMID').text\n",
    "            text_types = [elem.text for elem in common.findall('Type')]\n",
    "            title = common.find('Title').text\n",
    "            abstract = common.find('Abstract').text\n",
    "            mesh_term_list = rec.find('.//MeshTermList')\n",
    "            mesh_terms = [term.text for term in mesh_term_list.findall('MeshTerm')]\n",
    "        except Exception as e:\n",
    "            print(f\"An error occurred: {e}\")\n",
    "            print(f\"Error occured for PMID: {pmid}\")\n",
    "\n",
    "        data_sets[i].append({'pmid': pmid, \"text_types\": text_types, 'title': title,\n",
    "                    'abstract': abstract, 'meshtermlist': mesh_terms, 'labels': labels})\n",
    "        progress_bar.update(1)\n",
    "\n",
    "hum_df = pd.DataFrame(data_sets[0])\n",
    "vet_df = pd.DataFrame(data_sets[1])"
   ]
  },
  {
   "cell_type": "code",
   "execution_count": 4,
   "id": "c5e8711f",
   "metadata": {
    "execution": {
     "iopub.execute_input": "2024-01-08T10:01:40.152985Z",
     "iopub.status.busy": "2024-01-08T10:01:40.152653Z",
     "iopub.status.idle": "2024-01-08T10:02:42.625927Z",
     "shell.execute_reply": "2024-01-08T10:02:42.624962Z"
    },
    "papermill": {
     "duration": 62.492134,
     "end_time": "2024-01-08T10:02:42.628021",
     "exception": false,
     "start_time": "2024-01-08T10:01:40.135887",
     "status": "completed"
    },
    "tags": []
   },
   "outputs": [
    {
     "data": {
      "text/html": [
       "<div>\n",
       "<style scoped>\n",
       "    .dataframe tbody tr th:only-of-type {\n",
       "        vertical-align: middle;\n",
       "    }\n",
       "\n",
       "    .dataframe tbody tr th {\n",
       "        vertical-align: top;\n",
       "    }\n",
       "\n",
       "    .dataframe thead th {\n",
       "        text-align: right;\n",
       "    }\n",
       "</style>\n",
       "<table border=\"1\" class=\"dataframe\">\n",
       "  <thead>\n",
       "    <tr style=\"text-align: right;\">\n",
       "      <th></th>\n",
       "      <th>pmid</th>\n",
       "      <th>text_types</th>\n",
       "      <th>title</th>\n",
       "      <th>abstract</th>\n",
       "      <th>meshtermlist</th>\n",
       "      <th>labels</th>\n",
       "    </tr>\n",
       "  </thead>\n",
       "  <tbody>\n",
       "    <tr>\n",
       "      <th>0</th>\n",
       "      <td>21686333</td>\n",
       "      <td>[Journal Article]</td>\n",
       "      <td>Acute vomiting and mental status changes: a ca...</td>\n",
       "      <td>In this article, we describe a 5- year-old gir...</td>\n",
       "      <td>[]</td>\n",
       "      <td>0</td>\n",
       "    </tr>\n",
       "    <tr>\n",
       "      <th>1</th>\n",
       "      <td>21686334</td>\n",
       "      <td>[Journal Article]</td>\n",
       "      <td>Efficacy of low-dose topical mitomycin C treat...</td>\n",
       "      <td>Primary acquired melanosis (PAM) with atypical...</td>\n",
       "      <td>[]</td>\n",
       "      <td>0</td>\n",
       "    </tr>\n",
       "    <tr>\n",
       "      <th>2</th>\n",
       "      <td>21686335</td>\n",
       "      <td>[Journal Article]</td>\n",
       "      <td>Incidental adrenocortical oncocytoma.</td>\n",
       "      <td>A 66-year-old man with a history of hypertensi...</td>\n",
       "      <td>[]</td>\n",
       "      <td>0</td>\n",
       "    </tr>\n",
       "    <tr>\n",
       "      <th>3</th>\n",
       "      <td>21686336</td>\n",
       "      <td>[Journal Article]</td>\n",
       "      <td>Can Salmonella enteritidis cause fatal necroti...</td>\n",
       "      <td>This is a presentation of a case of mono micro...</td>\n",
       "      <td>[]</td>\n",
       "      <td>0</td>\n",
       "    </tr>\n",
       "    <tr>\n",
       "      <th>4</th>\n",
       "      <td>21686337</td>\n",
       "      <td>[Journal Article]</td>\n",
       "      <td>Fatality from minor cervical trauma in ankylos...</td>\n",
       "      <td>Cervical injury is a serious and often fatal c...</td>\n",
       "      <td>[]</td>\n",
       "      <td>0</td>\n",
       "    </tr>\n",
       "  </tbody>\n",
       "</table>\n",
       "</div>"
      ],
      "text/plain": [
       "       pmid         text_types  \\\n",
       "0  21686333  [Journal Article]   \n",
       "1  21686334  [Journal Article]   \n",
       "2  21686335  [Journal Article]   \n",
       "3  21686336  [Journal Article]   \n",
       "4  21686337  [Journal Article]   \n",
       "\n",
       "                                               title  \\\n",
       "0  Acute vomiting and mental status changes: a ca...   \n",
       "1  Efficacy of low-dose topical mitomycin C treat...   \n",
       "2              Incidental adrenocortical oncocytoma.   \n",
       "3  Can Salmonella enteritidis cause fatal necroti...   \n",
       "4  Fatality from minor cervical trauma in ankylos...   \n",
       "\n",
       "                                            abstract meshtermlist  labels  \n",
       "0  In this article, we describe a 5- year-old gir...           []       0  \n",
       "1  Primary acquired melanosis (PAM) with atypical...           []       0  \n",
       "2  A 66-year-old man with a history of hypertensi...           []       0  \n",
       "3  This is a presentation of a case of mono micro...           []       0  \n",
       "4  Cervical injury is a serious and often fatal c...           []       0  "
      ]
     },
     "execution_count": 4,
     "metadata": {},
     "output_type": "execute_result"
    }
   ],
   "source": [
    "hum_df.head()"
   ]
  },
  {
   "cell_type": "code",
   "execution_count": 5,
   "id": "ccbec381",
   "metadata": {
    "execution": {
     "iopub.execute_input": "2024-01-08T10:02:42.660651Z",
     "iopub.status.busy": "2024-01-08T10:02:42.660322Z",
     "iopub.status.idle": "2024-01-08T10:02:55.134638Z",
     "shell.execute_reply": "2024-01-08T10:02:55.133665Z"
    },
    "papermill": {
     "duration": 12.493345,
     "end_time": "2024-01-08T10:02:55.137133",
     "exception": false,
     "start_time": "2024-01-08T10:02:42.643788",
     "status": "completed"
    },
    "tags": []
   },
   "outputs": [
    {
     "data": {
      "text/html": [
       "<div>\n",
       "<style scoped>\n",
       "    .dataframe tbody tr th:only-of-type {\n",
       "        vertical-align: middle;\n",
       "    }\n",
       "\n",
       "    .dataframe tbody tr th {\n",
       "        vertical-align: top;\n",
       "    }\n",
       "\n",
       "    .dataframe thead th {\n",
       "        text-align: right;\n",
       "    }\n",
       "</style>\n",
       "<table border=\"1\" class=\"dataframe\">\n",
       "  <thead>\n",
       "    <tr style=\"text-align: right;\">\n",
       "      <th></th>\n",
       "      <th>pmid</th>\n",
       "      <th>text_types</th>\n",
       "      <th>title</th>\n",
       "      <th>abstract</th>\n",
       "      <th>meshtermlist</th>\n",
       "      <th>labels</th>\n",
       "    </tr>\n",
       "  </thead>\n",
       "  <tbody>\n",
       "    <tr>\n",
       "      <th>0</th>\n",
       "      <td>25126422</td>\n",
       "      <td>[Journal Article]</td>\n",
       "      <td>Psychogenic Stress in Hospitalized Dogs: Cross...</td>\n",
       "      <td>Evidence to support the existence of health co...</td>\n",
       "      <td>[]</td>\n",
       "      <td>1</td>\n",
       "    </tr>\n",
       "    <tr>\n",
       "      <th>1</th>\n",
       "      <td>26479001</td>\n",
       "      <td>[Journal Article]</td>\n",
       "      <td>Temperature and Relative Humidity Inside Trail...</td>\n",
       "      <td>The effect of bedding levels and trailer compa...</td>\n",
       "      <td>[]</td>\n",
       "      <td>1</td>\n",
       "    </tr>\n",
       "    <tr>\n",
       "      <th>2</th>\n",
       "      <td>26479002</td>\n",
       "      <td>[Journal Article]</td>\n",
       "      <td>Tourists' Perceptions of the Free-Roaming Dog ...</td>\n",
       "      <td>A study was undertaken to establish how visiti...</td>\n",
       "      <td>[]</td>\n",
       "      <td>1</td>\n",
       "    </tr>\n",
       "    <tr>\n",
       "      <th>3</th>\n",
       "      <td>26479003</td>\n",
       "      <td>[Journal Article]</td>\n",
       "      <td>Leptospira spp. in Domestic Cats from Differen...</td>\n",
       "      <td>Leptospirosis is an emerging zoonotic disease ...</td>\n",
       "      <td>[]</td>\n",
       "      <td>1</td>\n",
       "    </tr>\n",
       "    <tr>\n",
       "      <th>4</th>\n",
       "      <td>26479004</td>\n",
       "      <td>[Journal Article]</td>\n",
       "      <td>Effect of Season, Transport Length, Deck Locat...</td>\n",
       "      <td>The objective of this study was to investigate...</td>\n",
       "      <td>[]</td>\n",
       "      <td>1</td>\n",
       "    </tr>\n",
       "  </tbody>\n",
       "</table>\n",
       "</div>"
      ],
      "text/plain": [
       "       pmid         text_types  \\\n",
       "0  25126422  [Journal Article]   \n",
       "1  26479001  [Journal Article]   \n",
       "2  26479002  [Journal Article]   \n",
       "3  26479003  [Journal Article]   \n",
       "4  26479004  [Journal Article]   \n",
       "\n",
       "                                               title  \\\n",
       "0  Psychogenic Stress in Hospitalized Dogs: Cross...   \n",
       "1  Temperature and Relative Humidity Inside Trail...   \n",
       "2  Tourists' Perceptions of the Free-Roaming Dog ...   \n",
       "3  Leptospira spp. in Domestic Cats from Differen...   \n",
       "4  Effect of Season, Transport Length, Deck Locat...   \n",
       "\n",
       "                                            abstract meshtermlist  labels  \n",
       "0  Evidence to support the existence of health co...           []       1  \n",
       "1  The effect of bedding levels and trailer compa...           []       1  \n",
       "2  A study was undertaken to establish how visiti...           []       1  \n",
       "3  Leptospirosis is an emerging zoonotic disease ...           []       1  \n",
       "4  The objective of this study was to investigate...           []       1  "
      ]
     },
     "execution_count": 5,
     "metadata": {},
     "output_type": "execute_result"
    }
   ],
   "source": [
    "vet_df.head()"
   ]
  },
  {
   "cell_type": "code",
   "execution_count": 6,
   "id": "532c24d6",
   "metadata": {
    "execution": {
     "iopub.execute_input": "2024-01-08T10:02:55.173758Z",
     "iopub.status.busy": "2024-01-08T10:02:55.173439Z",
     "iopub.status.idle": "2024-01-08T10:02:56.223644Z",
     "shell.execute_reply": "2024-01-08T10:02:56.222725Z"
    },
    "papermill": {
     "duration": 1.070565,
     "end_time": "2024-01-08T10:02:56.226904",
     "exception": false,
     "start_time": "2024-01-08T10:02:55.156339",
     "status": "completed"
    },
    "tags": []
   },
   "outputs": [
    {
     "data": {
      "image/png": "[encoded data removed]",
      "text/plain": [
       "<Figure size 2000x400 with 1 Axes>"
      ]
     },
     "metadata": {},
     "output_type": "display_data"
    }
   ],
   "source": [
    "hum_exploded_df = hum_df.explode(\"text_types\")\n",
    "vet_exploded_df = vet_df.explode(\"text_types\")\n",
    "\n",
    "hum_text_type_counts = hum_exploded_df['text_types'].value_counts()\n",
    "vet_text_type_counts = vet_exploded_df['text_types'].value_counts()\n",
    "\n",
    "hum_test_type_counts_aligned, vet_test_type_counts_aligned = hum_text_type_counts.align(vet_text_type_counts, join='outer')\n",
    "test_type_counts_aligned = pd.concat([hum_test_type_counts_aligned.sort_values(ascending=False), \n",
    "                                      vet_test_type_counts_aligned.sort_values(ascending=False)], \n",
    "                                     keys=['human', 'veterinary'], \n",
    "                                     axis=1)\n",
    "\n",
    "test_type_counts_aligned[1:].plot(kind='bar', position=0, width=0.4, figsize=(20, 4))\n",
    "\n",
    "plt.title('Frequency of text types')\n",
    "plt.xlabel('Text type')\n",
    "plt.ylabel('Frequency')\n",
    "plt.legend()\n",
    "plt.show()"
   ]
  },
  {
   "cell_type": "code",
   "execution_count": 7,
   "id": "a27efd3b",
   "metadata": {
    "execution": {
     "iopub.execute_input": "2024-01-08T10:02:56.265235Z",
     "iopub.status.busy": "2024-01-08T10:02:56.264911Z",
     "iopub.status.idle": "2024-01-08T10:02:56.325679Z",
     "shell.execute_reply": "2024-01-08T10:02:56.324706Z"
    },
    "papermill": {
     "duration": 0.082134,
     "end_time": "2024-01-08T10:02:56.327644",
     "exception": false,
     "start_time": "2024-01-08T10:02:56.245510",
     "status": "completed"
    },
    "tags": []
   },
   "outputs": [
    {
     "data": {
      "text/plain": [
       "'cuda'"
      ]
     },
     "execution_count": 7,
     "metadata": {},
     "output_type": "execute_result"
    }
   ],
   "source": [
    "from torch import cuda\n",
    "device = 'cuda' if cuda.is_available() else 'cpu'\n",
    "device"
   ]
  },
  {
   "cell_type": "code",
   "execution_count": 8,
   "id": "7f9a50e6",
   "metadata": {
    "execution": {
     "iopub.execute_input": "2024-01-08T10:02:56.365708Z",
     "iopub.status.busy": "2024-01-08T10:02:56.365353Z",
     "iopub.status.idle": "2024-01-08T10:02:56.374912Z",
     "shell.execute_reply": "2024-01-08T10:02:56.374032Z"
    },
    "papermill": {
     "duration": 0.030921,
     "end_time": "2024-01-08T10:02:56.376900",
     "exception": false,
     "start_time": "2024-01-08T10:02:56.345979",
     "status": "completed"
    },
    "tags": []
   },
   "outputs": [],
   "source": [
    "class Dataset(torch.utils.data.Dataset):\n",
    "\n",
    "    def __init__(self, texts, labels, tokenizer, max_len):\n",
    "        self.texts = texts\n",
    "        self.labels = labels\n",
    "        self.tokenizer = tokenizer\n",
    "        self.max_len = max_len\n",
    "\n",
    "    def __len__(self):\n",
    "        return len(self.texts)\n",
    "\n",
    "    def __getitem__(self, idx):\n",
    "        if torch.is_tensor(idx):\n",
    "            idx = idx.tolist()\n",
    "            \n",
    "        text = str(self.texts[idx])\n",
    "        labels = self.labels[idx]\n",
    "\n",
    "        encodings = self.tokenizer.encode_plus(\n",
    "            text,\n",
    "            add_special_tokens=True,\n",
    "            max_length=self.max_len,\n",
    "            truncation=True,\n",
    "            pad_to_max_length=True,\n",
    "            return_token_type_ids=True,\n",
    "            return_attention_mask=True,\n",
    "            return_tensors=\"pt\"\n",
    "        )\n",
    "        \n",
    "        ids = encodings['input_ids'].flatten()\n",
    "        mask = encodings['attention_mask'].flatten()\n",
    "        token_type_ids = encodings[\"token_type_ids\"].flatten()\n",
    "\n",
    "\n",
    "        return {\n",
    "            'text': text,\n",
    "            'input_ids': ids.to(device),\n",
    "            'attention_mask': mask.to(device),\n",
    "            'token_type_ids': token_type_ids.to(device),\n",
    "            'labels': torch.tensor(labels, dtype=torch.long).to(device)\n",
    "        }"
   ]
  },
  {
   "cell_type": "code",
   "execution_count": 9,
   "id": "beacfa6a",
   "metadata": {
    "execution": {
     "iopub.execute_input": "2024-01-08T10:02:56.414913Z",
     "iopub.status.busy": "2024-01-08T10:02:56.414146Z",
     "iopub.status.idle": "2024-01-08T10:02:56.509158Z",
     "shell.execute_reply": "2024-01-08T10:02:56.508368Z"
    },
    "papermill": {
     "duration": 0.116505,
     "end_time": "2024-01-08T10:02:56.511540",
     "exception": false,
     "start_time": "2024-01-08T10:02:56.395035",
     "status": "completed"
    },
    "tags": []
   },
   "outputs": [],
   "source": [
    "max_num = 50 #vet_text_type_counts[\"Case Reports\"]\n",
    "\n",
    "vet_case_rep = vet_df[vet_df['text_types'].apply(lambda x: \"Case Reports\" in x)].sample(max_num, random_state=42).reset_index(drop=True, inplace=False)\n",
    "vet_jour_art = vet_df[vet_df['text_types'].apply(lambda x: \"Journal Article\" in x)].sample(max_num, random_state=42).reset_index(drop=True, inplace=False)\n",
    "\n",
    "hum_case_rep = hum_df[hum_df['text_types'].apply(lambda x: \"Case Reports\" in x)].sample(max_num, random_state=42).reset_index(drop=True, inplace=False)\n",
    "hum_jour_art = hum_df[hum_df['text_types'].apply(lambda x: \"Journal Article\" in x)].sample(max_num, random_state=42).reset_index(drop=True, inplace=False)"
   ]
  },
  {
   "cell_type": "code",
   "execution_count": 10,
   "id": "db9b50ba",
   "metadata": {
    "execution": {
     "iopub.execute_input": "2024-01-08T10:02:56.549822Z",
     "iopub.status.busy": "2024-01-08T10:02:56.548990Z",
     "iopub.status.idle": "2024-01-08T10:02:56.574704Z",
     "shell.execute_reply": "2024-01-08T10:02:56.573850Z"
    },
    "papermill": {
     "duration": 0.046825,
     "end_time": "2024-01-08T10:02:56.576691",
     "exception": false,
     "start_time": "2024-01-08T10:02:56.529866",
     "status": "completed"
    },
    "tags": []
   },
   "outputs": [
    {
     "data": {
      "text/html": [
       "<div>\n",
       "<style scoped>\n",
       "    .dataframe tbody tr th:only-of-type {\n",
       "        vertical-align: middle;\n",
       "    }\n",
       "\n",
       "    .dataframe tbody tr th {\n",
       "        vertical-align: top;\n",
       "    }\n",
       "\n",
       "    .dataframe thead th {\n",
       "        text-align: right;\n",
       "    }\n",
       "</style>\n",
       "<table border=\"1\" class=\"dataframe\">\n",
       "  <thead>\n",
       "    <tr style=\"text-align: right;\">\n",
       "      <th></th>\n",
       "      <th>pmid</th>\n",
       "      <th>text_types</th>\n",
       "      <th>title</th>\n",
       "      <th>abstract</th>\n",
       "      <th>meshtermlist</th>\n",
       "      <th>labels</th>\n",
       "    </tr>\n",
       "  </thead>\n",
       "  <tbody>\n",
       "    <tr>\n",
       "      <th>0</th>\n",
       "      <td>25979955</td>\n",
       "      <td>[Case Reports, Journal Article]</td>\n",
       "      <td>Can we change a genetically determined future?</td>\n",
       "      <td>We describe the clinical evolution of the firs...</td>\n",
       "      <td>[Adult, Alleles, Humans, Male, Mutation, Pulmo...</td>\n",
       "      <td>0</td>\n",
       "    </tr>\n",
       "    <tr>\n",
       "      <th>1</th>\n",
       "      <td>32532916</td>\n",
       "      <td>[Case Reports, Journal Article]</td>\n",
       "      <td>Metastatic clear cell endometrial carcinoma: a...</td>\n",
       "      <td>A 60-year-old woman presented with melena for ...</td>\n",
       "      <td>[Adenocarcinoma, Clear Cell, Diagnosis, Differ...</td>\n",
       "      <td>0</td>\n",
       "    </tr>\n",
       "    <tr>\n",
       "      <th>2</th>\n",
       "      <td>25515131</td>\n",
       "      <td>[Case Reports, Journal Article]</td>\n",
       "      <td>Severe resistant maternal hypotension followin...</td>\n",
       "      <td>An 18-year-old woman, gravida 3, para 2, prese...</td>\n",
       "      <td>[Adolescent, Cesarean Section, Female, Fetal M...</td>\n",
       "      <td>0</td>\n",
       "    </tr>\n",
       "    <tr>\n",
       "      <th>3</th>\n",
       "      <td>33692070</td>\n",
       "      <td>[Case Reports, Journal Article]</td>\n",
       "      <td>Patient with Bartter syndrome in whom chronic ...</td>\n",
       "      <td>A 53-year-old man was admitted to our hospital...</td>\n",
       "      <td>[Adolescent, Bartter Syndrome, Humans, Hyponat...</td>\n",
       "      <td>0</td>\n",
       "    </tr>\n",
       "    <tr>\n",
       "      <th>4</th>\n",
       "      <td>23729711</td>\n",
       "      <td>[Case Reports, Journal Article]</td>\n",
       "      <td>Fracture of temporary femoral haemodialysis ca...</td>\n",
       "      <td>We report two similar cases of fracture and pr...</td>\n",
       "      <td>[Adult, Catheters, Indwelling, Female, Femoral...</td>\n",
       "      <td>0</td>\n",
       "    </tr>\n",
       "    <tr>\n",
       "      <th>...</th>\n",
       "      <td>...</td>\n",
       "      <td>...</td>\n",
       "      <td>...</td>\n",
       "      <td>...</td>\n",
       "      <td>...</td>\n",
       "      <td>...</td>\n",
       "    </tr>\n",
       "    <tr>\n",
       "      <th>45</th>\n",
       "      <td>2139174</td>\n",
       "      <td>[Journal Article, Research Support, Non-U.S. G...</td>\n",
       "      <td>Once-daily administration of 2',3'-dideoxyinos...</td>\n",
       "      <td>We conducted a Phase I open-label trial of 2',...</td>\n",
       "      <td>[AIDS-Related Complex, Acquired Immunodeficien...</td>\n",
       "      <td>0</td>\n",
       "    </tr>\n",
       "    <tr>\n",
       "      <th>46</th>\n",
       "      <td>31420420</td>\n",
       "      <td>[Case Reports, Journal Article]</td>\n",
       "      <td>Successful intravenous administration of argat...</td>\n",
       "      <td>A 78-year-old woman visited the emergency depa...</td>\n",
       "      <td>[Administration, Intravenous, Aged, Antithromb...</td>\n",
       "      <td>0</td>\n",
       "    </tr>\n",
       "    <tr>\n",
       "      <th>47</th>\n",
       "      <td>2507917</td>\n",
       "      <td>[Journal Article]</td>\n",
       "      <td>Absence of anti-human immunodeficiency virus t...</td>\n",
       "      <td>Patients with hemophilia A or von Willebrand's...</td>\n",
       "      <td>[Austria, Factor VIII, Germany, West, HIV Infe...</td>\n",
       "      <td>0</td>\n",
       "    </tr>\n",
       "    <tr>\n",
       "      <th>48</th>\n",
       "      <td>38160037</td>\n",
       "      <td>[Case Reports, Journal Article]</td>\n",
       "      <td>Subdural spinal haematoma after epidural anaes...</td>\n",
       "      <td>Epidural anaesthesia is widely used in major t...</td>\n",
       "      <td>[Humans, Hematoma, Hematoma, Subdural, Anesthe...</td>\n",
       "      <td>0</td>\n",
       "    </tr>\n",
       "    <tr>\n",
       "      <th>49</th>\n",
       "      <td>26746839</td>\n",
       "      <td>[Case Reports, Journal Article]</td>\n",
       "      <td>Loa loa in the vitreous cavity of the eye.</td>\n",
       "      <td>A 25-year-old man presented with painful dimin...</td>\n",
       "      <td>[Adult, Animals, Eye Infections, Parasitic, Hu...</td>\n",
       "      <td>0</td>\n",
       "    </tr>\n",
       "  </tbody>\n",
       "</table>\n",
       "<p>100 rows × 6 columns</p>\n",
       "</div>"
      ],
      "text/plain": [
       "        pmid                                         text_types  \\\n",
       "0   25979955                    [Case Reports, Journal Article]   \n",
       "1   32532916                    [Case Reports, Journal Article]   \n",
       "2   25515131                    [Case Reports, Journal Article]   \n",
       "3   33692070                    [Case Reports, Journal Article]   \n",
       "4   23729711                    [Case Reports, Journal Article]   \n",
       "..       ...                                                ...   \n",
       "45   2139174  [Journal Article, Research Support, Non-U.S. G...   \n",
       "46  31420420                    [Case Reports, Journal Article]   \n",
       "47   2507917                                  [Journal Article]   \n",
       "48  38160037                    [Case Reports, Journal Article]   \n",
       "49  26746839                    [Case Reports, Journal Article]   \n",
       "\n",
       "                                                title  \\\n",
       "0      Can we change a genetically determined future?   \n",
       "1   Metastatic clear cell endometrial carcinoma: a...   \n",
       "2   Severe resistant maternal hypotension followin...   \n",
       "3   Patient with Bartter syndrome in whom chronic ...   \n",
       "4   Fracture of temporary femoral haemodialysis ca...   \n",
       "..                                                ...   \n",
       "45  Once-daily administration of 2',3'-dideoxyinos...   \n",
       "46  Successful intravenous administration of argat...   \n",
       "47  Absence of anti-human immunodeficiency virus t...   \n",
       "48  Subdural spinal haematoma after epidural anaes...   \n",
       "49         Loa loa in the vitreous cavity of the eye.   \n",
       "\n",
       "                                             abstract  \\\n",
       "0   We describe the clinical evolution of the firs...   \n",
       "1   A 60-year-old woman presented with melena for ...   \n",
       "2   An 18-year-old woman, gravida 3, para 2, prese...   \n",
       "3   A 53-year-old man was admitted to our hospital...   \n",
       "4   We report two similar cases of fracture and pr...   \n",
       "..                                                ...   \n",
       "45  We conducted a Phase I open-label trial of 2',...   \n",
       "46  A 78-year-old woman visited the emergency depa...   \n",
       "47  Patients with hemophilia A or von Willebrand's...   \n",
       "48  Epidural anaesthesia is widely used in major t...   \n",
       "49  A 25-year-old man presented with painful dimin...   \n",
       "\n",
       "                                         meshtermlist  labels  \n",
       "0   [Adult, Alleles, Humans, Male, Mutation, Pulmo...       0  \n",
       "1   [Adenocarcinoma, Clear Cell, Diagnosis, Differ...       0  \n",
       "2   [Adolescent, Cesarean Section, Female, Fetal M...       0  \n",
       "3   [Adolescent, Bartter Syndrome, Humans, Hyponat...       0  \n",
       "4   [Adult, Catheters, Indwelling, Female, Femoral...       0  \n",
       "..                                                ...     ...  \n",
       "45  [AIDS-Related Complex, Acquired Immunodeficien...       0  \n",
       "46  [Administration, Intravenous, Aged, Antithromb...       0  \n",
       "47  [Austria, Factor VIII, Germany, West, HIV Infe...       0  \n",
       "48  [Humans, Hematoma, Hematoma, Subdural, Anesthe...       0  \n",
       "49  [Adult, Animals, Eye Infections, Parasitic, Hu...       0  \n",
       "\n",
       "[100 rows x 6 columns]"
      ]
     },
     "execution_count": 10,
     "metadata": {},
     "output_type": "execute_result"
    }
   ],
   "source": [
    "pd.concat([hum_case_rep, hum_jour_art], axis=0)"
   ]
  },
  {
   "cell_type": "code",
   "execution_count": 11,
   "id": "86aea7da",
   "metadata": {
    "execution": {
     "iopub.execute_input": "2024-01-08T10:02:56.661811Z",
     "iopub.status.busy": "2024-01-08T10:02:56.660948Z",
     "iopub.status.idle": "2024-01-08T10:02:57.581277Z",
     "shell.execute_reply": "2024-01-08T10:02:57.580290Z"
    },
    "papermill": {
     "duration": 0.942301,
     "end_time": "2024-01-08T10:02:57.583330",
     "exception": false,
     "start_time": "2024-01-08T10:02:56.641029",
     "status": "completed"
    },
    "tags": []
   },
   "outputs": [
    {
     "name": "stdout",
     "output_type": "stream",
     "text": [
      "TRAIN Dataset: (160, 6)\n",
      "VAL Dataset: (20, 6)\n",
      "TEST Dataset: (20, 6)\n"
     ]
    }
   ],
   "source": [
    "from sklearn.model_selection import train_test_split\n",
    "\n",
    "\n",
    "hum_train_set, hum_test_set = train_test_split(\n",
    "  pd.concat([hum_case_rep, hum_jour_art], axis=0),\n",
    "  test_size=0.2,\n",
    "  random_state=RANDOM_SEED\n",
    ")\n",
    "\n",
    "hum_test_set, hum_val_set = train_test_split(\n",
    "  hum_test_set,\n",
    "  test_size=0.5,\n",
    "  random_state=RANDOM_SEED\n",
    ")\n",
    "\n",
    "vet_train_set, vet_test_set = train_test_split(\n",
    "  pd.concat([vet_case_rep, vet_jour_art], axis=0),\n",
    "  test_size=0.2,\n",
    "  random_state=RANDOM_SEED\n",
    ")\n",
    "\n",
    "vet_test_set, vet_val_set = train_test_split(\n",
    "  vet_test_set,\n",
    "  test_size=0.5,\n",
    "  random_state=RANDOM_SEED\n",
    ")\n",
    "\n",
    "train_set = pd.concat([hum_train_set, vet_train_set]).sample(frac=1).reset_index(drop=True, inplace=False)\n",
    "val_set = pd.concat([hum_val_set, vet_val_set]).sample(frac=1).reset_index(drop=True, inplace=False)\n",
    "test_set = pd.concat([hum_test_set, vet_test_set]).sample(frac=1).reset_index(drop=True, inplace=False)\n",
    "\n",
    "print(\"TRAIN Dataset: {}\".format(train_set.shape))\n",
    "print(\"VAL Dataset: {}\".format(val_set.shape))\n",
    "print(\"TEST Dataset: {}\".format(test_set.shape))"
   ]
  },
  {
   "cell_type": "code",
   "execution_count": 12,
   "id": "05b4b2b4",
   "metadata": {
    "execution": {
     "iopub.execute_input": "2024-01-08T10:02:57.622819Z",
     "iopub.status.busy": "2024-01-08T10:02:57.622482Z",
     "iopub.status.idle": "2024-01-08T10:02:57.631628Z",
     "shell.execute_reply": "2024-01-08T10:02:57.630587Z"
    },
    "papermill": {
     "duration": 0.031143,
     "end_time": "2024-01-08T10:02:57.633546",
     "exception": false,
     "start_time": "2024-01-08T10:02:57.602403",
     "status": "completed"
    },
    "tags": []
   },
   "outputs": [
    {
     "data": {
      "text/plain": [
       "count    20.000000\n",
       "mean      0.500000\n",
       "std       0.512989\n",
       "min       0.000000\n",
       "25%       0.000000\n",
       "50%       0.500000\n",
       "75%       1.000000\n",
       "max       1.000000\n",
       "Name: labels, dtype: float64"
      ]
     },
     "execution_count": 12,
     "metadata": {},
     "output_type": "execute_result"
    }
   ],
   "source": [
    "test_set.labels.describe()"
   ]
  },
  {
   "cell_type": "code",
   "execution_count": 13,
   "id": "c6608da4",
   "metadata": {
    "execution": {
     "iopub.execute_input": "2024-01-08T10:02:57.672451Z",
     "iopub.status.busy": "2024-01-08T10:02:57.672026Z",
     "iopub.status.idle": "2024-01-08T10:02:57.889193Z",
     "shell.execute_reply": "2024-01-08T10:02:57.888287Z"
    },
    "papermill": {
     "duration": 0.239014,
     "end_time": "2024-01-08T10:02:57.891321",
     "exception": false,
     "start_time": "2024-01-08T10:02:57.652307",
     "status": "completed"
    },
    "tags": []
   },
   "outputs": [
    {
     "name": "stderr",
     "output_type": "stream",
     "text": [
      "c:\\Users\\albbl\\Documents\\Studium\\11_Semester\\medtextclassification_repo\\.venv\\Lib\\site-packages\\transformers\\tokenization_utils_base.py:2614: FutureWarning: The `pad_to_max_length` argument is deprecated and will be removed in a future version, use `padding=True` or `padding='longest'` to pad to the longest sequence in the batch, or use `padding='max_length'` to pad to a max length. In this case, you can give a specific length with `max_length` (e.g. `max_length=45`) or leave max_length to None to pad to the maximal input size of the model (e.g. 512 for Bert).\n",
      "  warnings.warn(\n"
     ]
    },
    {
     "data": {
      "text/plain": [
       "{'text': \"A 2-yr-old, captive, intact female Virginia opossum (Didelphis virginiana) with a 7-mo history of ulcerative dermatitis and weight loss was euthanatized for progressive worsening of clinical signs. Initially the opossum was treated with several courses of antibiotics, both topically and systemically; systemic nonsteroidal anti-inflammatory medication; and, later, systemic glucocorticoids, with no improvement in clinical signs. Histopathologic samples of skin lesions taken 3 mo into the course of disease revealed no evidence of neoplasia; however, cytologic samples of a skin lesion taken 5 mo into the course of disease revealed mature lymphocytes, and were suggestive of cutaneous lymphoma. Postmortem histopathology revealed neoplastic cells consistent with lymphoma; these were found in the haired skin of the forearm, axilla, hind limb, face, and lateral body wall, as well as the liver, kidney, axillary lymph node, heart, and spleen. Multifocal neutrophilic and eosinophilic ulcerative and necrotizing dermatitis and folliculitis of the haired skin were also present. To the authors' knowledge, this is the first documented case of cutaneous lymphoma in a Virginia opossum and the first documented case with visceral metastases in a marsupial.\",\n",
       " 'input_ids': tensor([  102,   106,   170,   579, 10580,   579,  4289,   422,   891,   345,\n",
       "           422,  7990,  3672, 18432,   561,  1489,   200,   145,  1544,   154,\n",
       "         25092, 30113, 18432,   648,   546,   190,   106,   450,   579,   533,\n",
       "          2999,   131, 29444, 23775,   137,  1929,  1738,   241, 23226, 21783,\n",
       "           168,  8381, 22096,   131,  1329,  6482,   205,  5266,   111,   561,\n",
       "          1489,   200,   241,  2338,   190,  1323, 10404,   131,  9307,   422,\n",
       "           655, 14406,   179,   137,  5905,   385,  1814,  5905,  7059,   192,\n",
       "          8224,   821,   579,  4907,  7297,  1814,   137,   422,  2269,   422,\n",
       "          5905, 27256,   422,   190,   425,  3523,   121,  1329,  6482,   205,\n",
       "         11136,  4154,  1488,   131,  3843,  4278,  2450,   239,   533,   690,\n",
       "           111,  3092,   131,  1288,  2861,   425,  1775,   131, 24069,  1814,\n",
       "           694,   422,  3268,  6005,   141,  1488,   131,   106,  3843,  6253,\n",
       "          2450,   305,   533,   690,   111,  3092,   131,  1288,  2861,  7632,\n",
       "          9242,   422,   137,   267, 17292,   131, 14476, 10753,   205, 28277,\n",
       "         23443,  2861, 20354,   576,  2478,   190, 10753,  1814,   407,   267,\n",
       "           797,   121,   111,  8241,   119,  3843,   131,   111, 22970,   422,\n",
       "         10361,  4078, 30110,   422,  8421,  8814,   422,  3942,   422,   137,\n",
       "          5043,  2160,  3545,   422,   188,   804,   188,   111,  2993,   422,\n",
       "          5541,   422, 24297,  2939,  2039,   422,  2957,   422,   137, 11230,\n",
       "           205, 19886,  4368, 14381,   141,   137, 11304, 12101, 29444,   137,\n",
       "         13968, 20090, 23775,   137, 10049,  7389,  1935,   131,   111,  8241,\n",
       "           119,  3843,   267,   469,   709,   205,   147,   111,  1991,  2505,\n",
       "          1767,   422,   238,   165,   111,   705,  7618,   820,   131, 14476,\n",
       "         10753,   121,   106, 18432,   561,  1489,   200,   137,   111,   705,\n",
       "          7618,   820,   190, 17664, 10878,   121,   106, 15497,   251,   354,\n",
       "           205,   103,     0,     0,     0,     0,     0,     0,     0,     0,\n",
       "             0,     0,     0,     0,     0,     0,     0,     0,     0,     0,\n",
       "             0,     0,     0,     0,     0,     0,     0,     0,     0,     0,\n",
       "             0,     0,     0,     0,     0,     0,     0,     0,     0,     0,\n",
       "             0,     0,     0,     0,     0,     0,     0,     0,     0,     0,\n",
       "             0,     0,     0,     0,     0,     0,     0,     0,     0,     0,\n",
       "             0,     0,     0,     0,     0,     0,     0,     0,     0,     0,\n",
       "             0,     0,     0,     0,     0,     0,     0,     0,     0,     0,\n",
       "             0,     0,     0,     0,     0,     0,     0,     0,     0,     0,\n",
       "             0,     0,     0,     0,     0,     0,     0,     0,     0,     0,\n",
       "             0,     0,     0,     0,     0,     0,     0,     0,     0,     0,\n",
       "             0,     0,     0,     0,     0,     0,     0,     0,     0,     0,\n",
       "             0,     0,     0,     0,     0,     0,     0,     0,     0,     0,\n",
       "             0,     0,     0,     0,     0,     0,     0,     0,     0,     0,\n",
       "             0,     0,     0,     0,     0,     0,     0,     0,     0,     0,\n",
       "             0,     0,     0,     0,     0,     0,     0,     0,     0,     0,\n",
       "             0,     0,     0,     0,     0,     0,     0,     0,     0,     0,\n",
       "             0,     0,     0,     0,     0,     0,     0,     0,     0,     0,\n",
       "             0,     0,     0,     0,     0,     0,     0,     0,     0,     0,\n",
       "             0,     0,     0,     0,     0,     0,     0,     0,     0,     0,\n",
       "             0,     0,     0,     0,     0,     0,     0,     0,     0,     0,\n",
       "             0,     0,     0,     0,     0,     0,     0,     0,     0,     0,\n",
       "             0,     0,     0,     0,     0,     0,     0,     0,     0,     0,\n",
       "             0,     0,     0,     0,     0,     0,     0,     0,     0,     0,\n",
       "             0,     0,     0,     0,     0,     0,     0,     0,     0,     0,\n",
       "             0,     0,     0,     0,     0,     0,     0,     0,     0,     0,\n",
       "             0,     0], device='cuda:0'),\n",
       " 'attention_mask': tensor([1, 1, 1, 1, 1, 1, 1, 1, 1, 1, 1, 1, 1, 1, 1, 1, 1, 1, 1, 1, 1, 1, 1, 1,\n",
       "         1, 1, 1, 1, 1, 1, 1, 1, 1, 1, 1, 1, 1, 1, 1, 1, 1, 1, 1, 1, 1, 1, 1, 1,\n",
       "         1, 1, 1, 1, 1, 1, 1, 1, 1, 1, 1, 1, 1, 1, 1, 1, 1, 1, 1, 1, 1, 1, 1, 1,\n",
       "         1, 1, 1, 1, 1, 1, 1, 1, 1, 1, 1, 1, 1, 1, 1, 1, 1, 1, 1, 1, 1, 1, 1, 1,\n",
       "         1, 1, 1, 1, 1, 1, 1, 1, 1, 1, 1, 1, 1, 1, 1, 1, 1, 1, 1, 1, 1, 1, 1, 1,\n",
       "         1, 1, 1, 1, 1, 1, 1, 1, 1, 1, 1, 1, 1, 1, 1, 1, 1, 1, 1, 1, 1, 1, 1, 1,\n",
       "         1, 1, 1, 1, 1, 1, 1, 1, 1, 1, 1, 1, 1, 1, 1, 1, 1, 1, 1, 1, 1, 1, 1, 1,\n",
       "         1, 1, 1, 1, 1, 1, 1, 1, 1, 1, 1, 1, 1, 1, 1, 1, 1, 1, 1, 1, 1, 1, 1, 1,\n",
       "         1, 1, 1, 1, 1, 1, 1, 1, 1, 1, 1, 1, 1, 1, 1, 1, 1, 1, 1, 1, 1, 1, 1, 1,\n",
       "         1, 1, 1, 1, 1, 1, 1, 1, 1, 1, 1, 1, 1, 1, 1, 1, 1, 1, 1, 1, 1, 1, 1, 1,\n",
       "         1, 1, 1, 1, 1, 1, 1, 1, 1, 1, 1, 1, 0, 0, 0, 0, 0, 0, 0, 0, 0, 0, 0, 0,\n",
       "         0, 0, 0, 0, 0, 0, 0, 0, 0, 0, 0, 0, 0, 0, 0, 0, 0, 0, 0, 0, 0, 0, 0, 0,\n",
       "         0, 0, 0, 0, 0, 0, 0, 0, 0, 0, 0, 0, 0, 0, 0, 0, 0, 0, 0, 0, 0, 0, 0, 0,\n",
       "         0, 0, 0, 0, 0, 0, 0, 0, 0, 0, 0, 0, 0, 0, 0, 0, 0, 0, 0, 0, 0, 0, 0, 0,\n",
       "         0, 0, 0, 0, 0, 0, 0, 0, 0, 0, 0, 0, 0, 0, 0, 0, 0, 0, 0, 0, 0, 0, 0, 0,\n",
       "         0, 0, 0, 0, 0, 0, 0, 0, 0, 0, 0, 0, 0, 0, 0, 0, 0, 0, 0, 0, 0, 0, 0, 0,\n",
       "         0, 0, 0, 0, 0, 0, 0, 0, 0, 0, 0, 0, 0, 0, 0, 0, 0, 0, 0, 0, 0, 0, 0, 0,\n",
       "         0, 0, 0, 0, 0, 0, 0, 0, 0, 0, 0, 0, 0, 0, 0, 0, 0, 0, 0, 0, 0, 0, 0, 0,\n",
       "         0, 0, 0, 0, 0, 0, 0, 0, 0, 0, 0, 0, 0, 0, 0, 0, 0, 0, 0, 0, 0, 0, 0, 0,\n",
       "         0, 0, 0, 0, 0, 0, 0, 0, 0, 0, 0, 0, 0, 0, 0, 0, 0, 0, 0, 0, 0, 0, 0, 0,\n",
       "         0, 0, 0, 0, 0, 0, 0, 0, 0, 0, 0, 0, 0, 0, 0, 0, 0, 0, 0, 0, 0, 0, 0, 0,\n",
       "         0, 0, 0, 0, 0, 0, 0, 0], device='cuda:0'),\n",
       " 'token_type_ids': tensor([0, 0, 0, 0, 0, 0, 0, 0, 0, 0, 0, 0, 0, 0, 0, 0, 0, 0, 0, 0, 0, 0, 0, 0,\n",
       "         0, 0, 0, 0, 0, 0, 0, 0, 0, 0, 0, 0, 0, 0, 0, 0, 0, 0, 0, 0, 0, 0, 0, 0,\n",
       "         0, 0, 0, 0, 0, 0, 0, 0, 0, 0, 0, 0, 0, 0, 0, 0, 0, 0, 0, 0, 0, 0, 0, 0,\n",
       "         0, 0, 0, 0, 0, 0, 0, 0, 0, 0, 0, 0, 0, 0, 0, 0, 0, 0, 0, 0, 0, 0, 0, 0,\n",
       "         0, 0, 0, 0, 0, 0, 0, 0, 0, 0, 0, 0, 0, 0, 0, 0, 0, 0, 0, 0, 0, 0, 0, 0,\n",
       "         0, 0, 0, 0, 0, 0, 0, 0, 0, 0, 0, 0, 0, 0, 0, 0, 0, 0, 0, 0, 0, 0, 0, 0,\n",
       "         0, 0, 0, 0, 0, 0, 0, 0, 0, 0, 0, 0, 0, 0, 0, 0, 0, 0, 0, 0, 0, 0, 0, 0,\n",
       "         0, 0, 0, 0, 0, 0, 0, 0, 0, 0, 0, 0, 0, 0, 0, 0, 0, 0, 0, 0, 0, 0, 0, 0,\n",
       "         0, 0, 0, 0, 0, 0, 0, 0, 0, 0, 0, 0, 0, 0, 0, 0, 0, 0, 0, 0, 0, 0, 0, 0,\n",
       "         0, 0, 0, 0, 0, 0, 0, 0, 0, 0, 0, 0, 0, 0, 0, 0, 0, 0, 0, 0, 0, 0, 0, 0,\n",
       "         0, 0, 0, 0, 0, 0, 0, 0, 0, 0, 0, 0, 0, 0, 0, 0, 0, 0, 0, 0, 0, 0, 0, 0,\n",
       "         0, 0, 0, 0, 0, 0, 0, 0, 0, 0, 0, 0, 0, 0, 0, 0, 0, 0, 0, 0, 0, 0, 0, 0,\n",
       "         0, 0, 0, 0, 0, 0, 0, 0, 0, 0, 0, 0, 0, 0, 0, 0, 0, 0, 0, 0, 0, 0, 0, 0,\n",
       "         0, 0, 0, 0, 0, 0, 0, 0, 0, 0, 0, 0, 0, 0, 0, 0, 0, 0, 0, 0, 0, 0, 0, 0,\n",
       "         0, 0, 0, 0, 0, 0, 0, 0, 0, 0, 0, 0, 0, 0, 0, 0, 0, 0, 0, 0, 0, 0, 0, 0,\n",
       "         0, 0, 0, 0, 0, 0, 0, 0, 0, 0, 0, 0, 0, 0, 0, 0, 0, 0, 0, 0, 0, 0, 0, 0,\n",
       "         0, 0, 0, 0, 0, 0, 0, 0, 0, 0, 0, 0, 0, 0, 0, 0, 0, 0, 0, 0, 0, 0, 0, 0,\n",
       "         0, 0, 0, 0, 0, 0, 0, 0, 0, 0, 0, 0, 0, 0, 0, 0, 0, 0, 0, 0, 0, 0, 0, 0,\n",
       "         0, 0, 0, 0, 0, 0, 0, 0, 0, 0, 0, 0, 0, 0, 0, 0, 0, 0, 0, 0, 0, 0, 0, 0,\n",
       "         0, 0, 0, 0, 0, 0, 0, 0, 0, 0, 0, 0, 0, 0, 0, 0, 0, 0, 0, 0, 0, 0, 0, 0,\n",
       "         0, 0, 0, 0, 0, 0, 0, 0, 0, 0, 0, 0, 0, 0, 0, 0, 0, 0, 0, 0, 0, 0, 0, 0,\n",
       "         0, 0, 0, 0, 0, 0, 0, 0], device='cuda:0'),\n",
       " 'labels': tensor(1, device='cuda:0')}"
      ]
     },
     "execution_count": 13,
     "metadata": {},
     "output_type": "execute_result"
    }
   ],
   "source": [
    "ds = Dataset(train_set.abstract, train_set.labels, tokenizer, MAX_LEN)\n",
    "ds.__getitem__(0)"
   ]
  },
  {
   "cell_type": "code",
   "execution_count": 14,
   "id": "ae1d57ac",
   "metadata": {
    "execution": {
     "iopub.execute_input": "2024-01-08T10:02:57.932525Z",
     "iopub.status.busy": "2024-01-08T10:02:57.931699Z",
     "iopub.status.idle": "2024-01-08T10:02:57.937172Z",
     "shell.execute_reply": "2024-01-08T10:02:57.936305Z"
    },
    "papermill": {
     "duration": 0.028078,
     "end_time": "2024-01-08T10:02:57.939097",
     "exception": false,
     "start_time": "2024-01-08T10:02:57.911019",
     "status": "completed"
    },
    "tags": []
   },
   "outputs": [],
   "source": [
    "def get_dataloader(texts, targets, tokenizer, batch_size, max_len, num_workers=0):\n",
    "    dataset = Dataset(texts.to_numpy(), targets, tokenizer, max_len)\n",
    "    params = {\n",
    "        \"batch_size\":batch_size,\n",
    "        \"num_workers\":num_workers\n",
    "    }\n",
    "    dataloader = DataLoader(dataset, **params)\n",
    "    \n",
    "    return dataloader"
   ]
  },
  {
   "cell_type": "code",
   "execution_count": 15,
   "id": "b9cddbac",
   "metadata": {
    "execution": {
     "iopub.execute_input": "2024-01-08T10:02:57.978857Z",
     "iopub.status.busy": "2024-01-08T10:02:57.978543Z",
     "iopub.status.idle": "2024-01-08T10:02:58.275145Z",
     "shell.execute_reply": "2024-01-08T10:02:58.274304Z"
    },
    "papermill": {
     "duration": 0.319196,
     "end_time": "2024-01-08T10:02:58.277518",
     "exception": false,
     "start_time": "2024-01-08T10:02:57.958322",
     "status": "completed"
    },
    "tags": []
   },
   "outputs": [],
   "source": [
    "train_set[\"title_abstract\"] = train_set[[\"title\", \"abstract\"]].apply(lambda row: ' '.join(row.values.astype(str)), axis=1)\n",
    "val_set[\"title_abstract\"] = val_set[[\"title\", \"abstract\"]].apply(lambda row: ' '.join(row.values.astype(str)), axis=1)\n",
    "test_set[\"title_abstract\"] = test_set[[\"title\", \"abstract\"]].apply(lambda row: ' '.join(row.values.astype(str)), axis=1)"
   ]
  },
  {
   "cell_type": "code",
   "execution_count": 16,
   "id": "cf2d1452",
   "metadata": {
    "execution": {
     "iopub.execute_input": "2024-01-08T10:02:58.318912Z",
     "iopub.status.busy": "2024-01-08T10:02:58.318136Z",
     "iopub.status.idle": "2024-01-08T10:02:58.324216Z",
     "shell.execute_reply": "2024-01-08T10:02:58.323305Z"
    },
    "papermill": {
     "duration": 0.028695,
     "end_time": "2024-01-08T10:02:58.326077",
     "exception": false,
     "start_time": "2024-01-08T10:02:58.297382",
     "status": "completed"
    },
    "tags": []
   },
   "outputs": [],
   "source": [
    "train_dataloader = get_dataloader(train_set.title_abstract, train_set.labels, tokenizer, TRAIN_BATCH_SIZE, MAX_LEN)\n",
    "val_dataloader = get_dataloader(val_set.title_abstract, val_set.labels, tokenizer, VAL_BATCH_SIZE, MAX_LEN)\n",
    "test_dataloader = get_dataloader(test_set.title_abstract, test_set.labels, tokenizer, TEST_BATCH_SIZE, MAX_LEN)"
   ]
  },
  {
   "cell_type": "code",
   "execution_count": 17,
   "id": "7bfc5685",
   "metadata": {
    "execution": {
     "iopub.execute_input": "2024-01-08T10:02:58.366072Z",
     "iopub.status.busy": "2024-01-08T10:02:58.365409Z",
     "iopub.status.idle": "2024-01-08T10:02:58.401604Z",
     "shell.execute_reply": "2024-01-08T10:02:58.400583Z"
    },
    "papermill": {
     "duration": 0.058267,
     "end_time": "2024-01-08T10:02:58.403489",
     "exception": false,
     "start_time": "2024-01-08T10:02:58.345222",
     "status": "completed"
    },
    "tags": []
   },
   "outputs": [
    {
     "name": "stderr",
     "output_type": "stream",
     "text": [
      "c:\\Users\\albbl\\Documents\\Studium\\11_Semester\\medtextclassification_repo\\.venv\\Lib\\site-packages\\transformers\\tokenization_utils_base.py:2614: FutureWarning: The `pad_to_max_length` argument is deprecated and will be removed in a future version, use `padding=True` or `padding='longest'` to pad to the longest sequence in the batch, or use `padding='max_length'` to pad to a max length. In this case, you can give a specific length with `max_length` (e.g. `max_length=45`) or leave max_length to None to pad to the maximal input size of the model (e.g. 512 for Bert).\n",
      "  warnings.warn(\n"
     ]
    },
    {
     "data": {
      "text/plain": [
       "dict_keys(['text', 'input_ids', 'attention_mask', 'token_type_ids', 'labels'])"
      ]
     },
     "execution_count": 17,
     "metadata": {},
     "output_type": "execute_result"
    }
   ],
   "source": [
    "data = next(iter(val_dataloader))\n",
    "data.keys()"
   ]
  },
  {
   "cell_type": "code",
   "execution_count": 18,
   "id": "dbb0cf6d",
   "metadata": {
    "execution": {
     "iopub.execute_input": "2024-01-08T10:02:58.444200Z",
     "iopub.status.busy": "2024-01-08T10:02:58.443883Z",
     "iopub.status.idle": "2024-01-08T10:02:58.449175Z",
     "shell.execute_reply": "2024-01-08T10:02:58.448113Z"
    },
    "papermill": {
     "duration": 0.027722,
     "end_time": "2024-01-08T10:02:58.451151",
     "exception": false,
     "start_time": "2024-01-08T10:02:58.423429",
     "status": "completed"
    },
    "tags": []
   },
   "outputs": [
    {
     "name": "stdout",
     "output_type": "stream",
     "text": [
      "torch.Size([4, 512])\n",
      "torch.Size([4, 512])\n",
      "torch.Size([4])\n"
     ]
    }
   ],
   "source": [
    "print(data['input_ids'].shape)\n",
    "print(data['attention_mask'].shape)\n",
    "print(data['labels'].shape)"
   ]
  },
  {
   "cell_type": "code",
   "execution_count": 19,
   "id": "5a6e61cd",
   "metadata": {
    "execution": {
     "iopub.execute_input": "2024-01-08T10:02:58.492029Z",
     "iopub.status.busy": "2024-01-08T10:02:58.491428Z",
     "iopub.status.idle": "2024-01-08T10:02:58.506971Z",
     "shell.execute_reply": "2024-01-08T10:02:58.506157Z"
    },
    "papermill": {
     "duration": 0.038022,
     "end_time": "2024-01-08T10:02:58.508759",
     "exception": false,
     "start_time": "2024-01-08T10:02:58.470737",
     "status": "completed"
    },
    "tags": []
   },
   "outputs": [
    {
     "data": {
      "text/plain": [
       "tensor([[  102,   106,  6935,  ...,     0,     0,     0],\n",
       "        [  102,   626,   131,  ...,     0,     0,     0],\n",
       "        [  102, 26125,   131,  ...,     0,     0,     0],\n",
       "        [  102, 23002,  1520,  ...,     0,     0,     0]], device='cuda:0')"
      ]
     },
     "execution_count": 19,
     "metadata": {},
     "output_type": "execute_result"
    }
   ],
   "source": [
    "data[\"input_ids\"]"
   ]
  },
  {
   "cell_type": "code",
   "execution_count": 20,
   "id": "56efac57",
   "metadata": {
    "execution": {
     "iopub.execute_input": "2024-01-08T10:02:58.549604Z",
     "iopub.status.busy": "2024-01-08T10:02:58.548935Z",
     "iopub.status.idle": "2024-01-08T10:02:58.555789Z",
     "shell.execute_reply": "2024-01-08T10:02:58.554996Z"
    },
    "papermill": {
     "duration": 0.029293,
     "end_time": "2024-01-08T10:02:58.557604",
     "exception": false,
     "start_time": "2024-01-08T10:02:58.528311",
     "status": "completed"
    },
    "tags": []
   },
   "outputs": [
    {
     "data": {
      "text/plain": [
       "tensor([[1, 1, 1,  ..., 0, 0, 0],\n",
       "        [1, 1, 1,  ..., 0, 0, 0],\n",
       "        [1, 1, 1,  ..., 0, 0, 0],\n",
       "        [1, 1, 1,  ..., 0, 0, 0]], device='cuda:0')"
      ]
     },
     "execution_count": 20,
     "metadata": {},
     "output_type": "execute_result"
    }
   ],
   "source": [
    "data[\"attention_mask\"]"
   ]
  },
  {
   "cell_type": "code",
   "execution_count": 21,
   "id": "820a01b6",
   "metadata": {
    "execution": {
     "iopub.execute_input": "2024-01-08T10:02:58.599356Z",
     "iopub.status.busy": "2024-01-08T10:02:58.598553Z",
     "iopub.status.idle": "2024-01-08T10:02:58.606082Z",
     "shell.execute_reply": "2024-01-08T10:02:58.605198Z"
    },
    "papermill": {
     "duration": 0.030524,
     "end_time": "2024-01-08T10:02:58.608042",
     "exception": false,
     "start_time": "2024-01-08T10:02:58.577518",
     "status": "completed"
    },
    "tags": []
   },
   "outputs": [
    {
     "data": {
      "text/plain": [
       "tensor([[0, 0, 0,  ..., 0, 0, 0],\n",
       "        [0, 0, 0,  ..., 0, 0, 0],\n",
       "        [0, 0, 0,  ..., 0, 0, 0],\n",
       "        [0, 0, 0,  ..., 0, 0, 0]], device='cuda:0')"
      ]
     },
     "execution_count": 21,
     "metadata": {},
     "output_type": "execute_result"
    }
   ],
   "source": [
    "data[\"token_type_ids\"]"
   ]
  },
  {
   "cell_type": "code",
   "execution_count": 22,
   "id": "1766caf3",
   "metadata": {
    "execution": {
     "iopub.execute_input": "2024-01-08T10:02:58.649470Z",
     "iopub.status.busy": "2024-01-08T10:02:58.648825Z",
     "iopub.status.idle": "2024-01-08T10:03:03.509913Z",
     "shell.execute_reply": "2024-01-08T10:03:03.508980Z"
    },
    "papermill": {
     "duration": 4.884033,
     "end_time": "2024-01-08T10:03:03.512088",
     "exception": false,
     "start_time": "2024-01-08T10:02:58.628055",
     "status": "completed"
    },
    "tags": []
   },
   "outputs": [
    {
     "name": "stderr",
     "output_type": "stream",
     "text": [
      "100%|██████████| 105930/105930 [00:20<00:00, 77361.58it/s]"
     ]
    },
    {
     "data": {
      "text/plain": [
       "BaseModelOutputWithPoolingAndCrossAttentions(last_hidden_state=tensor([[[ 0.1866, -0.8630, -0.5143,  ..., -1.0339,  0.0933, -0.5590],\n",
       "         [ 1.8066, -1.3107, -1.1569,  ...,  0.0449, -1.3980, -1.8018],\n",
       "         [ 1.1265, -1.8465, -1.4360,  ..., -0.1059,  0.2849, -0.6349],\n",
       "         ...,\n",
       "         [ 0.2180, -0.3951, -1.3711,  ..., -1.5422, -0.9357,  0.0660],\n",
       "         [ 0.1899, -1.0520, -0.1219,  ..., -0.9566,  0.1136, -0.2171],\n",
       "         [-0.1065, -1.3003, -0.7972,  ..., -0.8913, -0.2023, -0.0372]],\n",
       "\n",
       "        [[-0.4460, -0.3566,  0.4478,  ..., -0.6772, -0.4436, -1.0402],\n",
       "         [-0.6600, -0.7562, -0.5281,  ..., -0.8488, -0.3946, -1.4382],\n",
       "         [ 0.6844, -0.2228,  0.0173,  ..., -0.5129, -1.0261, -1.5335],\n",
       "         ...,\n",
       "         [-0.7639,  0.0433, -0.2105,  ..., -1.0104, -0.4285, -0.2652],\n",
       "         [-0.4925, -0.1356,  0.2609,  ..., -0.8853, -0.3165, -0.4336],\n",
       "         [-0.9118, -0.4372, -0.4710,  ..., -0.4349, -0.9264, -0.5260]],\n",
       "\n",
       "        [[-0.2303,  0.4976,  0.9270,  ..., -0.8922, -0.7434, -0.8656],\n",
       "         [ 1.2744, -0.1788,  0.0311,  ..., -0.1082, -0.7536, -0.5139],\n",
       "         [ 0.6398,  0.7438,  1.0535,  ..., -0.1758, -1.9871, -0.1990],\n",
       "         ...,\n",
       "         [ 0.3075, -0.3940,  0.6253,  ..., -0.8684, -0.6000, -0.9949],\n",
       "         [-0.0557, -0.3694, -0.0868,  ..., -0.4635,  0.5412, -1.0682],\n",
       "         [-0.1620, -0.3949,  0.2301,  ..., -0.6334, -0.8558, -0.6694]],\n",
       "\n",
       "        [[-0.0455,  0.0494,  0.4300,  ..., -0.4042, -0.2539, -0.8561],\n",
       "         [ 2.1560, -0.4429, -0.1515,  ...,  0.3524, -0.4219, -0.4501],\n",
       "         [ 0.8585,  0.6175,  0.7183,  ...,  0.6940, -0.5729,  0.3091],\n",
       "         ...,\n",
       "         [-0.5216, -0.4167,  0.9575,  ..., -1.1191, -0.7975, -0.8951],\n",
       "         [-0.0534, -0.8373,  0.3720,  ..., -1.0880, -1.4064, -0.3485],\n",
       "         [ 0.0441, -0.6931, -0.3634,  ..., -0.4552, -0.7964, -0.4130]]],\n",
       "       device='cuda:0', grad_fn=<NativeLayerNormBackward0>), pooler_output=tensor([[-0.4000, -0.5288, -0.9965,  ..., -0.5381,  0.9887, -0.7517],\n",
       "        [-0.0361, -0.0992, -0.9885,  ..., -0.4693,  0.6866, -0.9890],\n",
       "        [-0.2791, -0.3356, -0.9925,  ..., -0.5825,  0.6136, -0.9790],\n",
       "        [-0.0724, -0.1748, -0.9850,  ..., -0.4142,  0.4906, -0.8759]],\n",
       "       device='cuda:0', grad_fn=<TanhBackward0>), hidden_states=None, past_key_values=None, attentions=None, cross_attentions=None)"
      ]
     },
     "execution_count": 22,
     "metadata": {},
     "output_type": "execute_result"
    }
   ],
   "source": [
    "model = AutoModel.from_pretrained(MODEL_NAME)\n",
    "model.to(device)\n",
    "model(data[\"input_ids\"], data[\"attention_mask\"], data[\"token_type_ids\"])"
   ]
  },
  {
   "cell_type": "code",
   "execution_count": 23,
   "id": "b5315606",
   "metadata": {
    "execution": {
     "iopub.execute_input": "2024-01-08T10:03:03.554644Z",
     "iopub.status.busy": "2024-01-08T10:03:03.554143Z",
     "iopub.status.idle": "2024-01-08T10:03:03.561179Z",
     "shell.execute_reply": "2024-01-08T10:03:03.560296Z"
    },
    "papermill": {
     "duration": 0.030516,
     "end_time": "2024-01-08T10:03:03.563206",
     "exception": false,
     "start_time": "2024-01-08T10:03:03.532690",
     "status": "completed"
    },
    "tags": []
   },
   "outputs": [],
   "source": [
    "class SciBertClassifier(torch.nn.Module):\n",
    "\n",
    "    def __init__(self, dropout=0.5):\n",
    "\n",
    "        super(SciBertClassifier, self).__init__()\n",
    "        self.scibert = AutoModel.from_pretrained(MODEL_NAME, num_labels=2)\n",
    "        self.dropout = torch.nn.Dropout(dropout)\n",
    "        self.linear = torch.nn.Linear(self.scibert.config.hidden_size, 2)\n",
    "\n",
    "    def forward(self, input_ids, attention_mask=None, token_type_ids=None):\n",
    "\n",
    "        scibert_output = self.scibert(input_ids=input_ids, attention_mask=attention_mask, token_type_ids = token_type_ids)\n",
    "        dropout_output = self.dropout(scibert_output.pooler_output)\n",
    "        output = self.linear(dropout_output)\n",
    "\n",
    "        return output\n"
   ]
  },
  {
   "cell_type": "code",
   "execution_count": 24,
   "id": "3d1d8837",
   "metadata": {
    "execution": {
     "iopub.execute_input": "2024-01-08T10:03:03.605576Z",
     "iopub.status.busy": "2024-01-08T10:03:03.605219Z",
     "iopub.status.idle": "2024-01-08T10:03:05.116585Z",
     "shell.execute_reply": "2024-01-08T10:03:05.115746Z"
    },
    "papermill": {
     "duration": 1.535436,
     "end_time": "2024-01-08T10:03:05.118907",
     "exception": false,
     "start_time": "2024-01-08T10:03:03.583471",
     "status": "completed"
    },
    "tags": []
   },
   "outputs": [],
   "source": [
    "model = SciBertClassifier()\n",
    "model = model.to(device)"
   ]
  },
  {
   "cell_type": "code",
   "execution_count": 25,
   "id": "d21e11f1",
   "metadata": {
    "execution": {
     "iopub.execute_input": "2024-01-08T10:03:05.162071Z",
     "iopub.status.busy": "2024-01-08T10:03:05.161292Z",
     "iopub.status.idle": "2024-01-08T10:03:06.931178Z",
     "shell.execute_reply": "2024-01-08T10:03:06.930309Z"
    },
    "papermill": {
     "duration": 1.793711,
     "end_time": "2024-01-08T10:03:06.933366",
     "exception": false,
     "start_time": "2024-01-08T10:03:05.139655",
     "status": "completed"
    },
    "tags": []
   },
   "outputs": [
    {
     "data": {
      "text/plain": [
       "{'input_ids': tensor([[ 102,  238,  165,  106, 8517,  103],\n",
       "        [ 102,  238,  165, 1783, 8517,  103]]), 'token_type_ids': tensor([[0, 0, 0, 0, 0, 0],\n",
       "        [0, 0, 0, 0, 0, 0]]), 'attention_mask': tensor([[1, 1, 1, 1, 1, 1],\n",
       "        [1, 1, 1, 1, 1, 1]])}"
      ]
     },
     "execution_count": 25,
     "metadata": {},
     "output_type": "execute_result"
    }
   ],
   "source": [
    "bert_model = AutoModel.from_pretrained(\"allenai/scibert_scivocab_uncased\", num_labels=2)\n",
    "bert_tokenizer = AutoTokenizer.from_pretrained(\"allenai/scibert_scivocab_uncased\")\n",
    "\n",
    "encodings = tokenizer([\"This is a sentence\", \"This is another sentence\"], return_tensors=\"pt\")\n",
    "encodings"
   ]
  },
  {
   "cell_type": "code",
   "execution_count": 26,
   "id": "8b9cfb70",
   "metadata": {
    "execution": {
     "iopub.execute_input": "2024-01-08T10:03:06.975971Z",
     "iopub.status.busy": "2024-01-08T10:03:06.975640Z",
     "iopub.status.idle": "2024-01-08T10:03:07.059396Z",
     "shell.execute_reply": "2024-01-08T10:03:07.058454Z"
    },
    "papermill": {
     "duration": 0.107174,
     "end_time": "2024-01-08T10:03:07.061338",
     "exception": false,
     "start_time": "2024-01-08T10:03:06.954164",
     "status": "completed"
    },
    "tags": []
   },
   "outputs": [
    {
     "data": {
      "text/plain": [
       "tensor([[0.5388, 0.4612],\n",
       "        [0.6293, 0.3707],\n",
       "        [0.6346, 0.3654],\n",
       "        [0.6321, 0.3679]], device='cuda:0', grad_fn=<SoftmaxBackward0>)"
      ]
     },
     "execution_count": 26,
     "metadata": {},
     "output_type": "execute_result"
    }
   ],
   "source": [
    "torch.nn.functional.softmax(model(data[\"input_ids\"], data[\"attention_mask\"], data[\"token_type_ids\"]), dim=1)"
   ]
  },
  {
   "cell_type": "code",
   "execution_count": 27,
   "id": "88b4d896",
   "metadata": {
    "execution": {
     "iopub.execute_input": "2024-01-08T10:03:07.104308Z",
     "iopub.status.busy": "2024-01-08T10:03:07.103595Z",
     "iopub.status.idle": "2024-01-08T10:03:07.108160Z",
     "shell.execute_reply": "2024-01-08T10:03:07.107286Z"
    },
    "papermill": {
     "duration": 0.027887,
     "end_time": "2024-01-08T10:03:07.110059",
     "exception": false,
     "start_time": "2024-01-08T10:03:07.082172",
     "status": "completed"
    },
    "tags": []
   },
   "outputs": [],
   "source": [
    "def loss_fn(outputs, targets):\n",
    "    return torch.nn.CrossEntropyLoss()(outputs, targets)"
   ]
  },
  {
   "cell_type": "code",
   "execution_count": 28,
   "id": "762b5fae",
   "metadata": {
    "execution": {
     "iopub.execute_input": "2024-01-08T10:03:07.152849Z",
     "iopub.status.busy": "2024-01-08T10:03:07.152492Z",
     "iopub.status.idle": "2024-01-08T10:03:07.233924Z",
     "shell.execute_reply": "2024-01-08T10:03:07.232802Z"
    },
    "papermill": {
     "duration": 0.105377,
     "end_time": "2024-01-08T10:03:07.236013",
     "exception": false,
     "start_time": "2024-01-08T10:03:07.130636",
     "status": "completed"
    },
    "tags": []
   },
   "outputs": [
    {
     "ename": "RuntimeError",
     "evalue": "CUDA error: out of memory\nCUDA kernel errors might be asynchronously reported at some other API call, so the stacktrace below might be incorrect.\nFor debugging consider passing CUDA_LAUNCH_BLOCKING=1.\nCompile with `TORCH_USE_CUDA_DSA` to enable device-side assertions.\n",
     "output_type": "error",
     "traceback": [
      "\u001b[1;31m---------------------------------------------------------------------------\u001b[0m",
      "\u001b[1;31mRuntimeError\u001b[0m                              Traceback (most recent call last)",
      "\u001b[1;32m~\\AppData\\Local\\Temp\\ipykernel_20876\\2134138768.py\u001b[0m in \u001b[0;36m<cell line: 0>\u001b[1;34m()\u001b[0m\n\u001b[1;32m----> 1\u001b[1;33m \u001b[0moutput\u001b[0m \u001b[1;33m=\u001b[0m \u001b[0mmodel\u001b[0m\u001b[1;33m(\u001b[0m\u001b[0mdata\u001b[0m\u001b[1;33m[\u001b[0m\u001b[1;34m\"input_ids\"\u001b[0m\u001b[1;33m]\u001b[0m\u001b[1;33m,\u001b[0m \u001b[0mdata\u001b[0m\u001b[1;33m[\u001b[0m\u001b[1;34m\"attention_mask\"\u001b[0m\u001b[1;33m]\u001b[0m\u001b[1;33m,\u001b[0m \u001b[0mdata\u001b[0m\u001b[1;33m[\u001b[0m\u001b[1;34m\"token_type_ids\"\u001b[0m\u001b[1;33m]\u001b[0m\u001b[1;33m)\u001b[0m\u001b[1;33m\u001b[0m\u001b[1;33m\u001b[0m\u001b[0m\n\u001b[0m\u001b[0;32m      2\u001b[0m \u001b[1;31m#loss_fn(output, data[\"labels\"])\u001b[0m\u001b[1;33m\u001b[0m\u001b[1;33m\u001b[0m\u001b[0m\n\u001b[0;32m      3\u001b[0m \u001b[0mprint\u001b[0m\u001b[1;33m(\u001b[0m\u001b[0moutput\u001b[0m\u001b[1;33m)\u001b[0m\u001b[1;33m\u001b[0m\u001b[1;33m\u001b[0m\u001b[0m\n\u001b[0;32m      4\u001b[0m \u001b[1;31m#print(data[\"labels\"])\u001b[0m\u001b[1;33m\u001b[0m\u001b[1;33m\u001b[0m\u001b[0m\n",
      "\u001b[1;32mc:\\Users\\albbl\\Documents\\Studium\\11_Semester\\medtextclassification_repo\\.venv\\Lib\\site-packages\\torch\\nn\\modules\\module.py\u001b[0m in \u001b[0;36m_wrapped_call_impl\u001b[1;34m(self, *args, **kwargs)\u001b[0m\n\u001b[0;32m   1516\u001b[0m             \u001b[1;32mreturn\u001b[0m \u001b[0mself\u001b[0m\u001b[1;33m.\u001b[0m\u001b[0m_compiled_call_impl\u001b[0m\u001b[1;33m(\u001b[0m\u001b[1;33m*\u001b[0m\u001b[0margs\u001b[0m\u001b[1;33m,\u001b[0m \u001b[1;33m**\u001b[0m\u001b[0mkwargs\u001b[0m\u001b[1;33m)\u001b[0m  \u001b[1;31m# type: ignore[misc]\u001b[0m\u001b[1;33m\u001b[0m\u001b[1;33m\u001b[0m\u001b[0m\n\u001b[0;32m   1517\u001b[0m         \u001b[1;32melse\u001b[0m\u001b[1;33m:\u001b[0m\u001b[1;33m\u001b[0m\u001b[1;33m\u001b[0m\u001b[0m\n\u001b[1;32m-> 1518\u001b[1;33m             \u001b[1;32mreturn\u001b[0m \u001b[0mself\u001b[0m\u001b[1;33m.\u001b[0m\u001b[0m_call_impl\u001b[0m\u001b[1;33m(\u001b[0m\u001b[1;33m*\u001b[0m\u001b[0margs\u001b[0m\u001b[1;33m,\u001b[0m \u001b[1;33m**\u001b[0m\u001b[0mkwargs\u001b[0m\u001b[1;33m)\u001b[0m\u001b[1;33m\u001b[0m\u001b[1;33m\u001b[0m\u001b[0m\n\u001b[0m\u001b[0;32m   1519\u001b[0m \u001b[1;33m\u001b[0m\u001b[0m\n\u001b[0;32m   1520\u001b[0m     \u001b[1;32mdef\u001b[0m \u001b[0m_call_impl\u001b[0m\u001b[1;33m(\u001b[0m\u001b[0mself\u001b[0m\u001b[1;33m,\u001b[0m \u001b[1;33m*\u001b[0m\u001b[0margs\u001b[0m\u001b[1;33m,\u001b[0m \u001b[1;33m**\u001b[0m\u001b[0mkwargs\u001b[0m\u001b[1;33m)\u001b[0m\u001b[1;33m:\u001b[0m\u001b[1;33m\u001b[0m\u001b[1;33m\u001b[0m\u001b[0m\n",
      "\u001b[1;32mc:\\Users\\albbl\\Documents\\Studium\\11_Semester\\medtextclassification_repo\\.venv\\Lib\\site-packages\\torch\\nn\\modules\\module.py\u001b[0m in \u001b[0;36m_call_impl\u001b[1;34m(self, *args, **kwargs)\u001b[0m\n\u001b[0;32m   1525\u001b[0m                 \u001b[1;32mor\u001b[0m \u001b[0m_global_backward_pre_hooks\u001b[0m \u001b[1;32mor\u001b[0m \u001b[0m_global_backward_hooks\u001b[0m\u001b[1;33m\u001b[0m\u001b[1;33m\u001b[0m\u001b[0m\n\u001b[0;32m   1526\u001b[0m                 or _global_forward_hooks or _global_forward_pre_hooks):\n\u001b[1;32m-> 1527\u001b[1;33m             \u001b[1;32mreturn\u001b[0m \u001b[0mforward_call\u001b[0m\u001b[1;33m(\u001b[0m\u001b[1;33m*\u001b[0m\u001b[0margs\u001b[0m\u001b[1;33m,\u001b[0m \u001b[1;33m**\u001b[0m\u001b[0mkwargs\u001b[0m\u001b[1;33m)\u001b[0m\u001b[1;33m\u001b[0m\u001b[1;33m\u001b[0m\u001b[0m\n\u001b[0m\u001b[0;32m   1528\u001b[0m \u001b[1;33m\u001b[0m\u001b[0m\n\u001b[0;32m   1529\u001b[0m         \u001b[1;32mtry\u001b[0m\u001b[1;33m:\u001b[0m\u001b[1;33m\u001b[0m\u001b[1;33m\u001b[0m\u001b[0m\n",
      "\u001b[1;32m~\\AppData\\Local\\Temp\\ipykernel_20876\\1686633385.py\u001b[0m in \u001b[0;36mforward\u001b[1;34m(self, input_ids, attention_mask, token_type_ids)\u001b[0m\n\u001b[0;32m     10\u001b[0m     \u001b[1;32mdef\u001b[0m \u001b[0mforward\u001b[0m\u001b[1;33m(\u001b[0m\u001b[0mself\u001b[0m\u001b[1;33m,\u001b[0m \u001b[0minput_ids\u001b[0m\u001b[1;33m,\u001b[0m \u001b[0mattention_mask\u001b[0m\u001b[1;33m=\u001b[0m\u001b[1;32mNone\u001b[0m\u001b[1;33m,\u001b[0m \u001b[0mtoken_type_ids\u001b[0m\u001b[1;33m=\u001b[0m\u001b[1;32mNone\u001b[0m\u001b[1;33m)\u001b[0m\u001b[1;33m:\u001b[0m\u001b[1;33m\u001b[0m\u001b[1;33m\u001b[0m\u001b[0m\n\u001b[0;32m     11\u001b[0m \u001b[1;33m\u001b[0m\u001b[0m\n\u001b[1;32m---> 12\u001b[1;33m         \u001b[0mscibert_output\u001b[0m \u001b[1;33m=\u001b[0m \u001b[0mself\u001b[0m\u001b[1;33m.\u001b[0m\u001b[0mscibert\u001b[0m\u001b[1;33m(\u001b[0m\u001b[0minput_ids\u001b[0m\u001b[1;33m=\u001b[0m\u001b[0minput_ids\u001b[0m\u001b[1;33m,\u001b[0m \u001b[0mattention_mask\u001b[0m\u001b[1;33m=\u001b[0m\u001b[0mattention_mask\u001b[0m\u001b[1;33m,\u001b[0m \u001b[0mtoken_type_ids\u001b[0m \u001b[1;33m=\u001b[0m \u001b[0mtoken_type_ids\u001b[0m\u001b[1;33m)\u001b[0m\u001b[1;33m\u001b[0m\u001b[1;33m\u001b[0m\u001b[0m\n\u001b[0m\u001b[0;32m     13\u001b[0m         \u001b[0mdropout_output\u001b[0m \u001b[1;33m=\u001b[0m \u001b[0mself\u001b[0m\u001b[1;33m.\u001b[0m\u001b[0mdropout\u001b[0m\u001b[1;33m(\u001b[0m\u001b[0mscibert_output\u001b[0m\u001b[1;33m.\u001b[0m\u001b[0mpooler_output\u001b[0m\u001b[1;33m)\u001b[0m\u001b[1;33m\u001b[0m\u001b[1;33m\u001b[0m\u001b[0m\n\u001b[0;32m     14\u001b[0m         \u001b[0moutput\u001b[0m \u001b[1;33m=\u001b[0m \u001b[0mself\u001b[0m\u001b[1;33m.\u001b[0m\u001b[0mlinear\u001b[0m\u001b[1;33m(\u001b[0m\u001b[0mdropout_output\u001b[0m\u001b[1;33m)\u001b[0m\u001b[1;33m\u001b[0m\u001b[1;33m\u001b[0m\u001b[0m\n",
      "\u001b[1;32mc:\\Users\\albbl\\Documents\\Studium\\11_Semester\\medtextclassification_repo\\.venv\\Lib\\site-packages\\torch\\nn\\modules\\module.py\u001b[0m in \u001b[0;36m_wrapped_call_impl\u001b[1;34m(self, *args, **kwargs)\u001b[0m\n\u001b[0;32m   1516\u001b[0m             \u001b[1;32mreturn\u001b[0m \u001b[0mself\u001b[0m\u001b[1;33m.\u001b[0m\u001b[0m_compiled_call_impl\u001b[0m\u001b[1;33m(\u001b[0m\u001b[1;33m*\u001b[0m\u001b[0margs\u001b[0m\u001b[1;33m,\u001b[0m \u001b[1;33m**\u001b[0m\u001b[0mkwargs\u001b[0m\u001b[1;33m)\u001b[0m  \u001b[1;31m# type: ignore[misc]\u001b[0m\u001b[1;33m\u001b[0m\u001b[1;33m\u001b[0m\u001b[0m\n\u001b[0;32m   1517\u001b[0m         \u001b[1;32melse\u001b[0m\u001b[1;33m:\u001b[0m\u001b[1;33m\u001b[0m\u001b[1;33m\u001b[0m\u001b[0m\n\u001b[1;32m-> 1518\u001b[1;33m             \u001b[1;32mreturn\u001b[0m \u001b[0mself\u001b[0m\u001b[1;33m.\u001b[0m\u001b[0m_call_impl\u001b[0m\u001b[1;33m(\u001b[0m\u001b[1;33m*\u001b[0m\u001b[0margs\u001b[0m\u001b[1;33m,\u001b[0m \u001b[1;33m**\u001b[0m\u001b[0mkwargs\u001b[0m\u001b[1;33m)\u001b[0m\u001b[1;33m\u001b[0m\u001b[1;33m\u001b[0m\u001b[0m\n\u001b[0m\u001b[0;32m   1519\u001b[0m \u001b[1;33m\u001b[0m\u001b[0m\n\u001b[0;32m   1520\u001b[0m     \u001b[1;32mdef\u001b[0m \u001b[0m_call_impl\u001b[0m\u001b[1;33m(\u001b[0m\u001b[0mself\u001b[0m\u001b[1;33m,\u001b[0m \u001b[1;33m*\u001b[0m\u001b[0margs\u001b[0m\u001b[1;33m,\u001b[0m \u001b[1;33m**\u001b[0m\u001b[0mkwargs\u001b[0m\u001b[1;33m)\u001b[0m\u001b[1;33m:\u001b[0m\u001b[1;33m\u001b[0m\u001b[1;33m\u001b[0m\u001b[0m\n",
      "\u001b[1;32mc:\\Users\\albbl\\Documents\\Studium\\11_Semester\\medtextclassification_repo\\.venv\\Lib\\site-packages\\torch\\nn\\modules\\module.py\u001b[0m in \u001b[0;36m_call_impl\u001b[1;34m(self, *args, **kwargs)\u001b[0m\n\u001b[0;32m   1525\u001b[0m                 \u001b[1;32mor\u001b[0m \u001b[0m_global_backward_pre_hooks\u001b[0m \u001b[1;32mor\u001b[0m \u001b[0m_global_backward_hooks\u001b[0m\u001b[1;33m\u001b[0m\u001b[1;33m\u001b[0m\u001b[0m\n\u001b[0;32m   1526\u001b[0m                 or _global_forward_hooks or _global_forward_pre_hooks):\n\u001b[1;32m-> 1527\u001b[1;33m             \u001b[1;32mreturn\u001b[0m \u001b[0mforward_call\u001b[0m\u001b[1;33m(\u001b[0m\u001b[1;33m*\u001b[0m\u001b[0margs\u001b[0m\u001b[1;33m,\u001b[0m \u001b[1;33m**\u001b[0m\u001b[0mkwargs\u001b[0m\u001b[1;33m)\u001b[0m\u001b[1;33m\u001b[0m\u001b[1;33m\u001b[0m\u001b[0m\n\u001b[0m\u001b[0;32m   1528\u001b[0m \u001b[1;33m\u001b[0m\u001b[0m\n\u001b[0;32m   1529\u001b[0m         \u001b[1;32mtry\u001b[0m\u001b[1;33m:\u001b[0m\u001b[1;33m\u001b[0m\u001b[1;33m\u001b[0m\u001b[0m\n",
      "\u001b[1;32mc:\\Users\\albbl\\Documents\\Studium\\11_Semester\\medtextclassification_repo\\.venv\\Lib\\site-packages\\transformers\\models\\bert\\modeling_bert.py\u001b[0m in \u001b[0;36mforward\u001b[1;34m(self, input_ids, attention_mask, token_type_ids, position_ids, head_mask, inputs_embeds, encoder_hidden_states, encoder_attention_mask, past_key_values, use_cache, output_attentions, output_hidden_states, return_dict)\u001b[0m\n\u001b[0;32m   1011\u001b[0m             \u001b[0mpast_key_values_length\u001b[0m\u001b[1;33m=\u001b[0m\u001b[0mpast_key_values_length\u001b[0m\u001b[1;33m,\u001b[0m\u001b[1;33m\u001b[0m\u001b[1;33m\u001b[0m\u001b[0m\n\u001b[0;32m   1012\u001b[0m         )\n\u001b[1;32m-> 1013\u001b[1;33m         encoder_outputs = self.encoder(\n\u001b[0m\u001b[0;32m   1014\u001b[0m             \u001b[0membedding_output\u001b[0m\u001b[1;33m,\u001b[0m\u001b[1;33m\u001b[0m\u001b[1;33m\u001b[0m\u001b[0m\n\u001b[0;32m   1015\u001b[0m             \u001b[0mattention_mask\u001b[0m\u001b[1;33m=\u001b[0m\u001b[0mextended_attention_mask\u001b[0m\u001b[1;33m,\u001b[0m\u001b[1;33m\u001b[0m\u001b[1;33m\u001b[0m\u001b[0m\n",
      "\u001b[1;32mc:\\Users\\albbl\\Documents\\Studium\\11_Semester\\medtextclassification_repo\\.venv\\Lib\\site-packages\\torch\\nn\\modules\\module.py\u001b[0m in \u001b[0;36m_wrapped_call_impl\u001b[1;34m(self, *args, **kwargs)\u001b[0m\n\u001b[0;32m   1516\u001b[0m             \u001b[1;32mreturn\u001b[0m \u001b[0mself\u001b[0m\u001b[1;33m.\u001b[0m\u001b[0m_compiled_call_impl\u001b[0m\u001b[1;33m(\u001b[0m\u001b[1;33m*\u001b[0m\u001b[0margs\u001b[0m\u001b[1;33m,\u001b[0m \u001b[1;33m**\u001b[0m\u001b[0mkwargs\u001b[0m\u001b[1;33m)\u001b[0m  \u001b[1;31m# type: ignore[misc]\u001b[0m\u001b[1;33m\u001b[0m\u001b[1;33m\u001b[0m\u001b[0m\n\u001b[0;32m   1517\u001b[0m         \u001b[1;32melse\u001b[0m\u001b[1;33m:\u001b[0m\u001b[1;33m\u001b[0m\u001b[1;33m\u001b[0m\u001b[0m\n\u001b[1;32m-> 1518\u001b[1;33m             \u001b[1;32mreturn\u001b[0m \u001b[0mself\u001b[0m\u001b[1;33m.\u001b[0m\u001b[0m_call_impl\u001b[0m\u001b[1;33m(\u001b[0m\u001b[1;33m*\u001b[0m\u001b[0margs\u001b[0m\u001b[1;33m,\u001b[0m \u001b[1;33m**\u001b[0m\u001b[0mkwargs\u001b[0m\u001b[1;33m)\u001b[0m\u001b[1;33m\u001b[0m\u001b[1;33m\u001b[0m\u001b[0m\n\u001b[0m\u001b[0;32m   1519\u001b[0m \u001b[1;33m\u001b[0m\u001b[0m\n\u001b[0;32m   1520\u001b[0m     \u001b[1;32mdef\u001b[0m \u001b[0m_call_impl\u001b[0m\u001b[1;33m(\u001b[0m\u001b[0mself\u001b[0m\u001b[1;33m,\u001b[0m \u001b[1;33m*\u001b[0m\u001b[0margs\u001b[0m\u001b[1;33m,\u001b[0m \u001b[1;33m**\u001b[0m\u001b[0mkwargs\u001b[0m\u001b[1;33m)\u001b[0m\u001b[1;33m:\u001b[0m\u001b[1;33m\u001b[0m\u001b[1;33m\u001b[0m\u001b[0m\n",
      "\u001b[1;32mc:\\Users\\albbl\\Documents\\Studium\\11_Semester\\medtextclassification_repo\\.venv\\Lib\\site-packages\\torch\\nn\\modules\\module.py\u001b[0m in \u001b[0;36m_call_impl\u001b[1;34m(self, *args, **kwargs)\u001b[0m\n\u001b[0;32m   1525\u001b[0m                 \u001b[1;32mor\u001b[0m \u001b[0m_global_backward_pre_hooks\u001b[0m \u001b[1;32mor\u001b[0m \u001b[0m_global_backward_hooks\u001b[0m\u001b[1;33m\u001b[0m\u001b[1;33m\u001b[0m\u001b[0m\n\u001b[0;32m   1526\u001b[0m                 or _global_forward_hooks or _global_forward_pre_hooks):\n\u001b[1;32m-> 1527\u001b[1;33m             \u001b[1;32mreturn\u001b[0m \u001b[0mforward_call\u001b[0m\u001b[1;33m(\u001b[0m\u001b[1;33m*\u001b[0m\u001b[0margs\u001b[0m\u001b[1;33m,\u001b[0m \u001b[1;33m**\u001b[0m\u001b[0mkwargs\u001b[0m\u001b[1;33m)\u001b[0m\u001b[1;33m\u001b[0m\u001b[1;33m\u001b[0m\u001b[0m\n\u001b[0m\u001b[0;32m   1528\u001b[0m \u001b[1;33m\u001b[0m\u001b[0m\n\u001b[0;32m   1529\u001b[0m         \u001b[1;32mtry\u001b[0m\u001b[1;33m:\u001b[0m\u001b[1;33m\u001b[0m\u001b[1;33m\u001b[0m\u001b[0m\n",
      "\u001b[1;32mc:\\Users\\albbl\\Documents\\Studium\\11_Semester\\medtextclassification_repo\\.venv\\Lib\\site-packages\\transformers\\models\\bert\\modeling_bert.py\u001b[0m in \u001b[0;36mforward\u001b[1;34m(self, hidden_states, attention_mask, head_mask, encoder_hidden_states, encoder_attention_mask, past_key_values, use_cache, output_attentions, output_hidden_states, return_dict)\u001b[0m\n\u001b[0;32m    605\u001b[0m                 )\n\u001b[0;32m    606\u001b[0m             \u001b[1;32melse\u001b[0m\u001b[1;33m:\u001b[0m\u001b[1;33m\u001b[0m\u001b[1;33m\u001b[0m\u001b[0m\n\u001b[1;32m--> 607\u001b[1;33m                 layer_outputs = layer_module(\n\u001b[0m\u001b[0;32m    608\u001b[0m                     \u001b[0mhidden_states\u001b[0m\u001b[1;33m,\u001b[0m\u001b[1;33m\u001b[0m\u001b[1;33m\u001b[0m\u001b[0m\n\u001b[0;32m    609\u001b[0m                     \u001b[0mattention_mask\u001b[0m\u001b[1;33m,\u001b[0m\u001b[1;33m\u001b[0m\u001b[1;33m\u001b[0m\u001b[0m\n",
      "\u001b[1;32mc:\\Users\\albbl\\Documents\\Studium\\11_Semester\\medtextclassification_repo\\.venv\\Lib\\site-packages\\torch\\nn\\modules\\module.py\u001b[0m in \u001b[0;36m_wrapped_call_impl\u001b[1;34m(self, *args, **kwargs)\u001b[0m\n\u001b[0;32m   1516\u001b[0m             \u001b[1;32mreturn\u001b[0m \u001b[0mself\u001b[0m\u001b[1;33m.\u001b[0m\u001b[0m_compiled_call_impl\u001b[0m\u001b[1;33m(\u001b[0m\u001b[1;33m*\u001b[0m\u001b[0margs\u001b[0m\u001b[1;33m,\u001b[0m \u001b[1;33m**\u001b[0m\u001b[0mkwargs\u001b[0m\u001b[1;33m)\u001b[0m  \u001b[1;31m# type: ignore[misc]\u001b[0m\u001b[1;33m\u001b[0m\u001b[1;33m\u001b[0m\u001b[0m\n\u001b[0;32m   1517\u001b[0m         \u001b[1;32melse\u001b[0m\u001b[1;33m:\u001b[0m\u001b[1;33m\u001b[0m\u001b[1;33m\u001b[0m\u001b[0m\n\u001b[1;32m-> 1518\u001b[1;33m             \u001b[1;32mreturn\u001b[0m \u001b[0mself\u001b[0m\u001b[1;33m.\u001b[0m\u001b[0m_call_impl\u001b[0m\u001b[1;33m(\u001b[0m\u001b[1;33m*\u001b[0m\u001b[0margs\u001b[0m\u001b[1;33m,\u001b[0m \u001b[1;33m**\u001b[0m\u001b[0mkwargs\u001b[0m\u001b[1;33m)\u001b[0m\u001b[1;33m\u001b[0m\u001b[1;33m\u001b[0m\u001b[0m\n\u001b[0m\u001b[0;32m   1519\u001b[0m \u001b[1;33m\u001b[0m\u001b[0m\n\u001b[0;32m   1520\u001b[0m     \u001b[1;32mdef\u001b[0m \u001b[0m_call_impl\u001b[0m\u001b[1;33m(\u001b[0m\u001b[0mself\u001b[0m\u001b[1;33m,\u001b[0m \u001b[1;33m*\u001b[0m\u001b[0margs\u001b[0m\u001b[1;33m,\u001b[0m \u001b[1;33m**\u001b[0m\u001b[0mkwargs\u001b[0m\u001b[1;33m)\u001b[0m\u001b[1;33m:\u001b[0m\u001b[1;33m\u001b[0m\u001b[1;33m\u001b[0m\u001b[0m\n",
      "\u001b[1;32mc:\\Users\\albbl\\Documents\\Studium\\11_Semester\\medtextclassification_repo\\.venv\\Lib\\site-packages\\torch\\nn\\modules\\module.py\u001b[0m in \u001b[0;36m_call_impl\u001b[1;34m(self, *args, **kwargs)\u001b[0m\n\u001b[0;32m   1525\u001b[0m                 \u001b[1;32mor\u001b[0m \u001b[0m_global_backward_pre_hooks\u001b[0m \u001b[1;32mor\u001b[0m \u001b[0m_global_backward_hooks\u001b[0m\u001b[1;33m\u001b[0m\u001b[1;33m\u001b[0m\u001b[0m\n\u001b[0;32m   1526\u001b[0m                 or _global_forward_hooks or _global_forward_pre_hooks):\n\u001b[1;32m-> 1527\u001b[1;33m             \u001b[1;32mreturn\u001b[0m \u001b[0mforward_call\u001b[0m\u001b[1;33m(\u001b[0m\u001b[1;33m*\u001b[0m\u001b[0margs\u001b[0m\u001b[1;33m,\u001b[0m \u001b[1;33m**\u001b[0m\u001b[0mkwargs\u001b[0m\u001b[1;33m)\u001b[0m\u001b[1;33m\u001b[0m\u001b[1;33m\u001b[0m\u001b[0m\n\u001b[0m\u001b[0;32m   1528\u001b[0m \u001b[1;33m\u001b[0m\u001b[0m\n\u001b[0;32m   1529\u001b[0m         \u001b[1;32mtry\u001b[0m\u001b[1;33m:\u001b[0m\u001b[1;33m\u001b[0m\u001b[1;33m\u001b[0m\u001b[0m\n",
      "\u001b[1;32mc:\\Users\\albbl\\Documents\\Studium\\11_Semester\\medtextclassification_repo\\.venv\\Lib\\site-packages\\transformers\\models\\bert\\modeling_bert.py\u001b[0m in \u001b[0;36mforward\u001b[1;34m(self, hidden_states, attention_mask, head_mask, encoder_hidden_states, encoder_attention_mask, past_key_value, output_attentions)\u001b[0m\n\u001b[0;32m    495\u001b[0m         \u001b[1;31m# decoder uni-directional self-attention cached key/values tuple is at positions 1,2\u001b[0m\u001b[1;33m\u001b[0m\u001b[1;33m\u001b[0m\u001b[0m\n\u001b[0;32m    496\u001b[0m         \u001b[0mself_attn_past_key_value\u001b[0m \u001b[1;33m=\u001b[0m \u001b[0mpast_key_value\u001b[0m\u001b[1;33m[\u001b[0m\u001b[1;33m:\u001b[0m\u001b[1;36m2\u001b[0m\u001b[1;33m]\u001b[0m \u001b[1;32mif\u001b[0m \u001b[0mpast_key_value\u001b[0m \u001b[1;32mis\u001b[0m \u001b[1;32mnot\u001b[0m \u001b[1;32mNone\u001b[0m \u001b[1;32melse\u001b[0m \u001b[1;32mNone\u001b[0m\u001b[1;33m\u001b[0m\u001b[1;33m\u001b[0m\u001b[0m\n\u001b[1;32m--> 497\u001b[1;33m         self_attention_outputs = self.attention(\n\u001b[0m\u001b[0;32m    498\u001b[0m             \u001b[0mhidden_states\u001b[0m\u001b[1;33m,\u001b[0m\u001b[1;33m\u001b[0m\u001b[1;33m\u001b[0m\u001b[0m\n\u001b[0;32m    499\u001b[0m             \u001b[0mattention_mask\u001b[0m\u001b[1;33m,\u001b[0m\u001b[1;33m\u001b[0m\u001b[1;33m\u001b[0m\u001b[0m\n",
      "\u001b[1;32mc:\\Users\\albbl\\Documents\\Studium\\11_Semester\\medtextclassification_repo\\.venv\\Lib\\site-packages\\torch\\nn\\modules\\module.py\u001b[0m in \u001b[0;36m_wrapped_call_impl\u001b[1;34m(self, *args, **kwargs)\u001b[0m\n\u001b[0;32m   1516\u001b[0m             \u001b[1;32mreturn\u001b[0m \u001b[0mself\u001b[0m\u001b[1;33m.\u001b[0m\u001b[0m_compiled_call_impl\u001b[0m\u001b[1;33m(\u001b[0m\u001b[1;33m*\u001b[0m\u001b[0margs\u001b[0m\u001b[1;33m,\u001b[0m \u001b[1;33m**\u001b[0m\u001b[0mkwargs\u001b[0m\u001b[1;33m)\u001b[0m  \u001b[1;31m# type: ignore[misc]\u001b[0m\u001b[1;33m\u001b[0m\u001b[1;33m\u001b[0m\u001b[0m\n\u001b[0;32m   1517\u001b[0m         \u001b[1;32melse\u001b[0m\u001b[1;33m:\u001b[0m\u001b[1;33m\u001b[0m\u001b[1;33m\u001b[0m\u001b[0m\n\u001b[1;32m-> 1518\u001b[1;33m             \u001b[1;32mreturn\u001b[0m \u001b[0mself\u001b[0m\u001b[1;33m.\u001b[0m\u001b[0m_call_impl\u001b[0m\u001b[1;33m(\u001b[0m\u001b[1;33m*\u001b[0m\u001b[0margs\u001b[0m\u001b[1;33m,\u001b[0m \u001b[1;33m**\u001b[0m\u001b[0mkwargs\u001b[0m\u001b[1;33m)\u001b[0m\u001b[1;33m\u001b[0m\u001b[1;33m\u001b[0m\u001b[0m\n\u001b[0m\u001b[0;32m   1519\u001b[0m \u001b[1;33m\u001b[0m\u001b[0m\n\u001b[0;32m   1520\u001b[0m     \u001b[1;32mdef\u001b[0m \u001b[0m_call_impl\u001b[0m\u001b[1;33m(\u001b[0m\u001b[0mself\u001b[0m\u001b[1;33m,\u001b[0m \u001b[1;33m*\u001b[0m\u001b[0margs\u001b[0m\u001b[1;33m,\u001b[0m \u001b[1;33m**\u001b[0m\u001b[0mkwargs\u001b[0m\u001b[1;33m)\u001b[0m\u001b[1;33m:\u001b[0m\u001b[1;33m\u001b[0m\u001b[1;33m\u001b[0m\u001b[0m\n",
      "\u001b[1;32mc:\\Users\\albbl\\Documents\\Studium\\11_Semester\\medtextclassification_repo\\.venv\\Lib\\site-packages\\torch\\nn\\modules\\module.py\u001b[0m in \u001b[0;36m_call_impl\u001b[1;34m(self, *args, **kwargs)\u001b[0m\n\u001b[0;32m   1525\u001b[0m                 \u001b[1;32mor\u001b[0m \u001b[0m_global_backward_pre_hooks\u001b[0m \u001b[1;32mor\u001b[0m \u001b[0m_global_backward_hooks\u001b[0m\u001b[1;33m\u001b[0m\u001b[1;33m\u001b[0m\u001b[0m\n\u001b[0;32m   1526\u001b[0m                 or _global_forward_hooks or _global_forward_pre_hooks):\n\u001b[1;32m-> 1527\u001b[1;33m             \u001b[1;32mreturn\u001b[0m \u001b[0mforward_call\u001b[0m\u001b[1;33m(\u001b[0m\u001b[1;33m*\u001b[0m\u001b[0margs\u001b[0m\u001b[1;33m,\u001b[0m \u001b[1;33m**\u001b[0m\u001b[0mkwargs\u001b[0m\u001b[1;33m)\u001b[0m\u001b[1;33m\u001b[0m\u001b[1;33m\u001b[0m\u001b[0m\n\u001b[0m\u001b[0;32m   1528\u001b[0m \u001b[1;33m\u001b[0m\u001b[0m\n\u001b[0;32m   1529\u001b[0m         \u001b[1;32mtry\u001b[0m\u001b[1;33m:\u001b[0m\u001b[1;33m\u001b[0m\u001b[1;33m\u001b[0m\u001b[0m\n",
      "\u001b[1;32mc:\\Users\\albbl\\Documents\\Studium\\11_Semester\\medtextclassification_repo\\.venv\\Lib\\site-packages\\transformers\\models\\bert\\modeling_bert.py\u001b[0m in \u001b[0;36mforward\u001b[1;34m(self, hidden_states, attention_mask, head_mask, encoder_hidden_states, encoder_attention_mask, past_key_value, output_attentions)\u001b[0m\n\u001b[0;32m    425\u001b[0m         \u001b[0moutput_attentions\u001b[0m\u001b[1;33m:\u001b[0m \u001b[0mOptional\u001b[0m\u001b[1;33m[\u001b[0m\u001b[0mbool\u001b[0m\u001b[1;33m]\u001b[0m \u001b[1;33m=\u001b[0m \u001b[1;32mFalse\u001b[0m\u001b[1;33m,\u001b[0m\u001b[1;33m\u001b[0m\u001b[1;33m\u001b[0m\u001b[0m\n\u001b[0;32m    426\u001b[0m     ) -> Tuple[torch.Tensor]:\n\u001b[1;32m--> 427\u001b[1;33m         self_outputs = self.self(\n\u001b[0m\u001b[0;32m    428\u001b[0m             \u001b[0mhidden_states\u001b[0m\u001b[1;33m,\u001b[0m\u001b[1;33m\u001b[0m\u001b[1;33m\u001b[0m\u001b[0m\n\u001b[0;32m    429\u001b[0m             \u001b[0mattention_mask\u001b[0m\u001b[1;33m,\u001b[0m\u001b[1;33m\u001b[0m\u001b[1;33m\u001b[0m\u001b[0m\n",
      "\u001b[1;32mc:\\Users\\albbl\\Documents\\Studium\\11_Semester\\medtextclassification_repo\\.venv\\Lib\\site-packages\\torch\\nn\\modules\\module.py\u001b[0m in \u001b[0;36m_wrapped_call_impl\u001b[1;34m(self, *args, **kwargs)\u001b[0m\n\u001b[0;32m   1516\u001b[0m             \u001b[1;32mreturn\u001b[0m \u001b[0mself\u001b[0m\u001b[1;33m.\u001b[0m\u001b[0m_compiled_call_impl\u001b[0m\u001b[1;33m(\u001b[0m\u001b[1;33m*\u001b[0m\u001b[0margs\u001b[0m\u001b[1;33m,\u001b[0m \u001b[1;33m**\u001b[0m\u001b[0mkwargs\u001b[0m\u001b[1;33m)\u001b[0m  \u001b[1;31m# type: ignore[misc]\u001b[0m\u001b[1;33m\u001b[0m\u001b[1;33m\u001b[0m\u001b[0m\n\u001b[0;32m   1517\u001b[0m         \u001b[1;32melse\u001b[0m\u001b[1;33m:\u001b[0m\u001b[1;33m\u001b[0m\u001b[1;33m\u001b[0m\u001b[0m\n\u001b[1;32m-> 1518\u001b[1;33m             \u001b[1;32mreturn\u001b[0m \u001b[0mself\u001b[0m\u001b[1;33m.\u001b[0m\u001b[0m_call_impl\u001b[0m\u001b[1;33m(\u001b[0m\u001b[1;33m*\u001b[0m\u001b[0margs\u001b[0m\u001b[1;33m,\u001b[0m \u001b[1;33m**\u001b[0m\u001b[0mkwargs\u001b[0m\u001b[1;33m)\u001b[0m\u001b[1;33m\u001b[0m\u001b[1;33m\u001b[0m\u001b[0m\n\u001b[0m\u001b[0;32m   1519\u001b[0m \u001b[1;33m\u001b[0m\u001b[0m\n\u001b[0;32m   1520\u001b[0m     \u001b[1;32mdef\u001b[0m \u001b[0m_call_impl\u001b[0m\u001b[1;33m(\u001b[0m\u001b[0mself\u001b[0m\u001b[1;33m,\u001b[0m \u001b[1;33m*\u001b[0m\u001b[0margs\u001b[0m\u001b[1;33m,\u001b[0m \u001b[1;33m**\u001b[0m\u001b[0mkwargs\u001b[0m\u001b[1;33m)\u001b[0m\u001b[1;33m:\u001b[0m\u001b[1;33m\u001b[0m\u001b[1;33m\u001b[0m\u001b[0m\n",
      "\u001b[1;32mc:\\Users\\albbl\\Documents\\Studium\\11_Semester\\medtextclassification_repo\\.venv\\Lib\\site-packages\\torch\\nn\\modules\\module.py\u001b[0m in \u001b[0;36m_call_impl\u001b[1;34m(self, *args, **kwargs)\u001b[0m\n\u001b[0;32m   1525\u001b[0m                 \u001b[1;32mor\u001b[0m \u001b[0m_global_backward_pre_hooks\u001b[0m \u001b[1;32mor\u001b[0m \u001b[0m_global_backward_hooks\u001b[0m\u001b[1;33m\u001b[0m\u001b[1;33m\u001b[0m\u001b[0m\n\u001b[0;32m   1526\u001b[0m                 or _global_forward_hooks or _global_forward_pre_hooks):\n\u001b[1;32m-> 1527\u001b[1;33m             \u001b[1;32mreturn\u001b[0m \u001b[0mforward_call\u001b[0m\u001b[1;33m(\u001b[0m\u001b[1;33m*\u001b[0m\u001b[0margs\u001b[0m\u001b[1;33m,\u001b[0m \u001b[1;33m**\u001b[0m\u001b[0mkwargs\u001b[0m\u001b[1;33m)\u001b[0m\u001b[1;33m\u001b[0m\u001b[1;33m\u001b[0m\u001b[0m\n\u001b[0m\u001b[0;32m   1528\u001b[0m \u001b[1;33m\u001b[0m\u001b[0m\n\u001b[0;32m   1529\u001b[0m         \u001b[1;32mtry\u001b[0m\u001b[1;33m:\u001b[0m\u001b[1;33m\u001b[0m\u001b[1;33m\u001b[0m\u001b[0m\n",
      "\u001b[1;32mc:\\Users\\albbl\\Documents\\Studium\\11_Semester\\medtextclassification_repo\\.venv\\Lib\\site-packages\\transformers\\models\\bert\\modeling_bert.py\u001b[0m in \u001b[0;36mforward\u001b[1;34m(self, hidden_states, attention_mask, head_mask, encoder_hidden_states, encoder_attention_mask, past_key_value, output_attentions)\u001b[0m\n\u001b[0;32m    347\u001b[0m                 \u001b[0mattention_scores\u001b[0m \u001b[1;33m=\u001b[0m \u001b[0mattention_scores\u001b[0m \u001b[1;33m+\u001b[0m \u001b[0mrelative_position_scores_query\u001b[0m \u001b[1;33m+\u001b[0m \u001b[0mrelative_position_scores_key\u001b[0m\u001b[1;33m\u001b[0m\u001b[1;33m\u001b[0m\u001b[0m\n\u001b[0;32m    348\u001b[0m \u001b[1;33m\u001b[0m\u001b[0m\n\u001b[1;32m--> 349\u001b[1;33m         \u001b[0mattention_scores\u001b[0m \u001b[1;33m=\u001b[0m \u001b[0mattention_scores\u001b[0m \u001b[1;33m/\u001b[0m \u001b[0mmath\u001b[0m\u001b[1;33m.\u001b[0m\u001b[0msqrt\u001b[0m\u001b[1;33m(\u001b[0m\u001b[0mself\u001b[0m\u001b[1;33m.\u001b[0m\u001b[0mattention_head_size\u001b[0m\u001b[1;33m)\u001b[0m\u001b[1;33m\u001b[0m\u001b[1;33m\u001b[0m\u001b[0m\n\u001b[0m\u001b[0;32m    350\u001b[0m         \u001b[1;32mif\u001b[0m \u001b[0mattention_mask\u001b[0m \u001b[1;32mis\u001b[0m \u001b[1;32mnot\u001b[0m \u001b[1;32mNone\u001b[0m\u001b[1;33m:\u001b[0m\u001b[1;33m\u001b[0m\u001b[1;33m\u001b[0m\u001b[0m\n\u001b[0;32m    351\u001b[0m             \u001b[1;31m# Apply the attention mask is (precomputed for all layers in BertModel forward() function)\u001b[0m\u001b[1;33m\u001b[0m\u001b[1;33m\u001b[0m\u001b[0m\n",
      "\u001b[1;31mRuntimeError\u001b[0m: CUDA error: out of memory\nCUDA kernel errors might be asynchronously reported at some other API call, so the stacktrace below might be incorrect.\nFor debugging consider passing CUDA_LAUNCH_BLOCKING=1.\nCompile with `TORCH_USE_CUDA_DSA` to enable device-side assertions.\n"
     ]
    }
   ],
   "source": [
    "output = model(data[\"input_ids\"], data[\"attention_mask\"], data[\"token_type_ids\"])\n",
    "#loss_fn(output, data[\"labels\"])\n",
    "print(output)\n",
    "#print(data[\"labels\"])"
   ]
  },
  {
   "cell_type": "code",
   "execution_count": null,
   "id": "478d99e4",
   "metadata": {
    "execution": {
     "iopub.execute_input": "2024-01-08T10:03:07.329700Z",
     "iopub.status.busy": "2024-01-08T10:03:07.329089Z",
     "iopub.status.idle": "2024-01-08T10:03:07.336976Z",
     "shell.execute_reply": "2024-01-08T10:03:07.336080Z"
    },
    "papermill": {
     "duration": 0.031555,
     "end_time": "2024-01-08T10:03:07.338849",
     "exception": false,
     "start_time": "2024-01-08T10:03:07.307294",
     "status": "completed"
    },
    "tags": []
   },
   "outputs": [],
   "source": [
    "def eval_model(model, dataloader, loss_fn, device):\n",
    "    model = model.eval()\n",
    "    \n",
    "    loss = 0.0\n",
    "    correct_predictions = 0.0\n",
    "    \n",
    "    with torch.no_grad():\n",
    "        for data in dataloader:\n",
    "            input_ids = data[\"input_ids\"].to(device, dtype = torch.long)\n",
    "            attention_mask = data[\"attention_mask\"].to(device, dtype = torch.long)\n",
    "            token_type_ids = data[\"token_type_ids\"].to(device, dtype = torch.long)\n",
    "            labels = data[\"labels\"].to(device)\n",
    "            \n",
    "            outputs = model(input_ids, attention_mask, token_type_ids)\n",
    "            loss += loss_fn(outputs, labels).item()\n",
    "            \n",
    "            preds = torch.argmax(outputs, dim=1)\n",
    "            correct_predictions += torch.sum(preds == labels).item()\n",
    "            \n",
    "            \n",
    "    num_data = len(dataloader) * VAL_BATCH_SIZE\n",
    "    return correct_predictions / num_data, loss / num_data"
   ]
  },
  {
   "cell_type": "code",
   "execution_count": null,
   "id": "4485cb31",
   "metadata": {
    "execution": {
     "iopub.execute_input": "2024-01-08T10:03:07.381529Z",
     "iopub.status.busy": "2024-01-08T10:03:07.381168Z",
     "iopub.status.idle": "2024-01-08T10:03:07.393133Z",
     "shell.execute_reply": "2024-01-08T10:03:07.392283Z"
    },
    "papermill": {
     "duration": 0.035578,
     "end_time": "2024-01-08T10:03:07.394987",
     "exception": false,
     "start_time": "2024-01-08T10:03:07.359409",
     "status": "completed"
    },
    "tags": []
   },
   "outputs": [],
   "source": [
    "import random\n",
    "\n",
    "\n",
    "def train_model(model, train_dataloader, val_dataloader, loss_fn, optimizer, device, scheduler, epochs):\n",
    "    progress_bar = tqdm(range(len(train_dataloader) * epochs))\n",
    "    history = []\n",
    "    best_acc = 0\n",
    "    \n",
    "    seed = 42\n",
    "    random.seed(seed)\n",
    "    np.random.seed(seed)\n",
    "    torch.manual_seed(seed)\n",
    "    torch.cuda.manual_seed_all(seed)\n",
    "\n",
    "    for epoch_num in range(epochs):\n",
    "        print(\"_\" * 30)\n",
    "        print(f'Epoch {epoch_num} started.')\n",
    "        \n",
    "        model = model.train()\n",
    "\n",
    "        losses = []\n",
    "        total_loss = 0\n",
    "        correct_predictions = 0.0\n",
    "        \n",
    "        for i, data in enumerate(train_dataloader):\n",
    "            input_ids = data['input_ids'].to(device, dtype = torch.long)\n",
    "            attention_mask = data['attention_mask'].to(device, dtype = torch.long)\n",
    "            token_type_ids = data['token_type_ids'].to(device, dtype = torch.long)\n",
    "            labels = data['labels'].to(device)\n",
    "\n",
    "            outputs = model(input_ids, attention_mask, token_type_ids)\n",
    "            preds = torch.argmax(outputs, dim=1)\n",
    "            correct_predictions += torch.sum(preds == labels).item()\n",
    "            \n",
    "            loss = loss_fn(outputs, labels)\n",
    "            losses.append(loss)\n",
    "            total_loss += loss.item()\n",
    "            \n",
    "            optimizer.zero_grad()\n",
    "            loss.backward()\n",
    "            # to avoid exploding gradients\n",
    "            torch.nn.utils.clip_grad_norm_(model.parameters(), max_norm=1.0)\n",
    "            optimizer.step()\n",
    "            scheduler.step()\n",
    "                        \n",
    "            progress_bar.update(1)\n",
    "        \n",
    "        num_data = len(train_dataloader) * TRAIN_BATCH_SIZE\n",
    "        train_acc = correct_predictions / num_data\n",
    "        train_loss = total_loss / num_data\n",
    "        print(f'Epoch: {epoch_num}, Train Accuracy {train_acc}, Loss:  {train_loss}')\n",
    "\n",
    "        val_acc, val_loss = eval_model(model, val_dataloader, loss_fn, device)\n",
    "        print(f'Epoch: {epoch_num}, Validation Accuracy {val_acc}, Loss:  {val_loss}')\n",
    "        \n",
    "        history.append({\"train_acc\": train_acc, \"train_loss\": train_loss, \"val_acc\": val_acc, \"val_loss\": val_loss})\n",
    "        \n",
    "        if val_acc > best_acc:\n",
    "            torch.save(model.state_dict(), 'best_model.bin')\n",
    "            best_acc = val_acc\n",
    "            \n",
    "    return history"
   ]
  },
  {
   "cell_type": "code",
   "execution_count": null,
   "id": "009cdcf0",
   "metadata": {
    "execution": {
     "iopub.execute_input": "2024-01-08T10:03:07.437646Z",
     "iopub.status.busy": "2024-01-08T10:03:07.437322Z",
     "iopub.status.idle": "2024-01-08T10:40:33.381132Z",
     "shell.execute_reply": "2024-01-08T10:40:33.380189Z"
    },
    "papermill": {
     "duration": 2248.217276,
     "end_time": "2024-01-08T10:40:35.632972",
     "exception": false,
     "start_time": "2024-01-08T10:03:07.415696",
     "status": "completed"
    },
    "tags": []
   },
   "outputs": [],
   "source": [
    "from transformers import get_linear_schedule_with_warmup\n",
    "\n",
    "\n",
    "train = True\n",
    "\n",
    "work_dir = \"./\"\n",
    "model_filename = \"best_model.bin\"\n",
    "filenames = os.listdir(work_dir)\n",
    "\n",
    "if model_filename in filenames and not train:\n",
    "    model = SciBertClassifier()\n",
    "    model.load_state_dict(torch.load(work_dir + model_filename, map_location=torch.device('cpu')))\n",
    "    model.to(device)\n",
    "    print(f\"{model_filename} loaded.\")\n",
    "else:\n",
    "    print(\"No saved model found or forced to train.\")\n",
    "    torch.cuda.empty_cache()\n",
    "    \n",
    "    model = SciBertClassifier()\n",
    "    model.to(device)\n",
    "\n",
    "    optimizer = torch.optim.Adam(model.parameters(), lr=LEARNING_RATE)\n",
    "    total_steps = len(train_dataloader) * EPOCHS\n",
    "    scheduler = get_linear_schedule_with_warmup(\n",
    "      optimizer,\n",
    "      num_warmup_steps=0,\n",
    "      num_training_steps=total_steps\n",
    "    )\n",
    "    \n",
    "    history = train_model(model, train_dataloader, val_dataloader, loss_fn, optimizer, device, scheduler, EPOCHS)"
   ]
  },
  {
   "cell_type": "code",
   "execution_count": null,
   "id": "e0f57048",
   "metadata": {
    "execution": {
     "iopub.execute_input": "2024-01-08T10:40:39.968991Z",
     "iopub.status.busy": "2024-01-08T10:40:39.968076Z",
     "iopub.status.idle": "2024-01-08T10:40:40.299379Z",
     "shell.execute_reply": "2024-01-08T10:40:40.298442Z"
    },
    "papermill": {
     "duration": 2.507605,
     "end_time": "2024-01-08T10:40:40.301412",
     "exception": false,
     "start_time": "2024-01-08T10:40:37.793807",
     "status": "completed"
    },
    "tags": []
   },
   "outputs": [],
   "source": [
    "history = pd.DataFrame(history)\n",
    "\n",
    "plt.plot(history['train_acc'], label='train accuracy')\n",
    "plt.plot(history['val_acc'], label='validation accuracy')\n",
    "plt.title('Training history')\n",
    "plt.ylabel('Accuracy')\n",
    "plt.xlabel('Epoch')\n",
    "plt.legend()\n",
    "plt.ylim([0.9, 1])"
   ]
  },
  {
   "cell_type": "code",
   "execution_count": null,
   "id": "51b2e410",
   "metadata": {
    "execution": {
     "iopub.execute_input": "2024-01-08T10:40:44.674408Z",
     "iopub.status.busy": "2024-01-08T10:40:44.673584Z",
     "iopub.status.idle": "2024-01-08T10:40:44.682042Z",
     "shell.execute_reply": "2024-01-08T10:40:44.680950Z"
    },
    "papermill": {
     "duration": 2.10159,
     "end_time": "2024-01-08T10:40:44.684050",
     "exception": false,
     "start_time": "2024-01-08T10:40:42.582460",
     "status": "completed"
    },
    "tags": []
   },
   "outputs": [],
   "source": [
    "def predict(model, texts, tokenizer, max_len=512):\n",
    "    progress_bar = tqdm(range(len(texts)))\n",
    "    \n",
    "    predictions = []\n",
    "    \n",
    "    for data in texts:\n",
    "        text = str(data)\n",
    "\n",
    "        inputs = tokenizer.encode_plus(\n",
    "            text,\n",
    "            None,\n",
    "            add_special_tokens=True,\n",
    "            max_length=max_len,\n",
    "            pad_to_max_length=True,\n",
    "            return_token_type_ids=True\n",
    "        )\n",
    "        ids = torch.tensor(inputs['input_ids'], dtype=torch.long).unsqueeze(0).to(device)\n",
    "        mask = torch.tensor(inputs['attention_mask'], dtype=torch.long).unsqueeze(0).to(device)\n",
    "        token_type_ids = torch.tensor(inputs[\"token_type_ids\"], dtype=torch.long).unsqueeze(0).to(device)\n",
    "\n",
    "        with torch.no_grad():\n",
    "            output = model(ids, mask, token_type_ids)\n",
    "        \n",
    "        probabilities = torch.sigmoid(output.squeeze())\n",
    "        predictions.append(probabilities)\n",
    "        \n",
    "        progress_bar.update(1)\n",
    "\n",
    "    return predictions"
   ]
  },
  {
   "cell_type": "code",
   "execution_count": null,
   "id": "3ea3810c",
   "metadata": {
    "execution": {
     "iopub.execute_input": "2024-01-08T10:40:49.037939Z",
     "iopub.status.busy": "2024-01-08T10:40:49.037040Z",
     "iopub.status.idle": "2024-01-08T10:41:20.096582Z",
     "shell.execute_reply": "2024-01-08T10:41:20.095613Z"
    },
    "papermill": {
     "duration": 35.566405,
     "end_time": "2024-01-08T10:41:22.429140",
     "exception": false,
     "start_time": "2024-01-08T10:40:46.862735",
     "status": "completed"
    },
    "tags": []
   },
   "outputs": [],
   "source": [
    "acc, loss = eval_model(model, test_dataloader, loss_fn, device)\n",
    "print(f\"TEST dataset - Accuracy: {acc}, Loss: {loss}\")"
   ]
  },
  {
   "cell_type": "code",
   "execution_count": null,
   "id": "4d26bb7d",
   "metadata": {
    "collapsed": true,
    "execution": {
     "iopub.execute_input": "2024-01-08T10:41:26.718306Z",
     "iopub.status.busy": "2024-01-08T10:41:26.717394Z",
     "iopub.status.idle": "2024-01-08T10:42:00.879772Z",
     "shell.execute_reply": "2024-01-08T10:42:00.878790Z"
    },
    "jupyter": {
     "outputs_hidden": true
    },
    "papermill": {
     "duration": 36.280696,
     "end_time": "2024-01-08T10:42:00.881762",
     "exception": false,
     "start_time": "2024-01-08T10:41:24.601066",
     "status": "completed"
    },
    "tags": []
   },
   "outputs": [],
   "source": [
    "from sklearn.metrics import confusion_matrix, classification_report\n",
    "\n",
    "test_preds = predict(model, test_set.abstract, tokenizer)\n",
    "test_labels = test_set.labels\n",
    "preds_labels = [torch.argmax(pred).item() for pred in test_preds]\n",
    "\n",
    "classes = [\"human\", \"veterinary\"]\n",
    "\n",
    "report = classification_report(test_labels, preds_labels, target_names=classes)\n",
    "print(report)"
   ]
  },
  {
   "cell_type": "code",
   "execution_count": null,
   "id": "16d7d214",
   "metadata": {
    "execution": {
     "iopub.execute_input": "2024-01-08T10:42:05.403151Z",
     "iopub.status.busy": "2024-01-08T10:42:05.402506Z",
     "iopub.status.idle": "2024-01-08T10:42:05.680583Z",
     "shell.execute_reply": "2024-01-08T10:42:05.679676Z"
    },
    "papermill": {
     "duration": 2.462417,
     "end_time": "2024-01-08T10:42:05.682629",
     "exception": false,
     "start_time": "2024-01-08T10:42:03.220212",
     "status": "completed"
    },
    "tags": []
   },
   "outputs": [],
   "source": [
    "from sklearn.metrics import ConfusionMatrixDisplay\n",
    "\n",
    "test_classes = [\"human\" if label == 0 else \"veterinary\" for label in test_labels]\n",
    "preds_classes = [\"human\" if label == 0 else \"veterinary\" for label in preds_labels]\n",
    "disp = ConfusionMatrixDisplay.from_predictions(test_classes, preds_classes, labels=classes, normalize=\"true\", cmap=plt.cm.Blues)\n",
    "disp.ax_.set_title(\"Confusion matrix (normalized)\")\n",
    "plt.show()"
   ]
  },
  {
   "cell_type": "code",
   "execution_count": null,
   "id": "6d17d134",
   "metadata": {
    "execution": {
     "iopub.execute_input": "2024-01-08T10:42:16.764715Z",
     "iopub.status.busy": "2024-01-08T10:42:16.764346Z",
     "iopub.status.idle": "2024-01-08T10:42:16.797411Z",
     "shell.execute_reply": "2024-01-08T10:42:16.796536Z"
    },
    "papermill": {
     "duration": 2.352852,
     "end_time": "2024-01-08T10:42:16.799392",
     "exception": false,
     "start_time": "2024-01-08T10:42:14.446540",
     "status": "completed"
    },
    "tags": []
   },
   "outputs": [],
   "source": [
    "text = [\"Effects of vitamin B12 and folate deficiency on brain development in children. Folate deficiency in the periconceptional period contributes to neural tube defects; deficits in vitamin B12 (cobalamin) have negative consequences on the developing brain during infancy; and deficits of both vitamins are associated with a greater risk of depression during adulthood.\"]\n",
    "\n",
    "predict(model, text, tokenizer)"
   ]
  },
  {
   "cell_type": "markdown",
   "id": "9099d9af",
   "metadata": {
    "papermill": {
     "duration": 2.358276,
     "end_time": "2024-01-08T10:42:21.335167",
     "exception": false,
     "start_time": "2024-01-08T10:42:18.976891",
     "status": "completed"
    },
    "tags": []
   },
   "source": [
    "**Analysis of PMC Patients Dataset**"
   ]
  },
  {
   "cell_type": "code",
   "execution_count": null,
   "id": "ee86338b",
   "metadata": {
    "execution": {
     "iopub.execute_input": "2024-01-08T10:42:25.927194Z",
     "iopub.status.busy": "2024-01-08T10:42:25.926290Z",
     "iopub.status.idle": "2024-01-08T10:43:40.237941Z",
     "shell.execute_reply": "2024-01-08T10:43:40.236915Z"
    },
    "papermill": {
     "duration": 76.668333,
     "end_time": "2024-01-08T10:43:40.240295",
     "exception": false,
     "start_time": "2024-01-08T10:42:23.571962",
     "status": "completed"
    },
    "tags": []
   },
   "outputs": [],
   "source": [
    "dir = \"pmc_datasets/\"\n",
    "file_pmc_summaries = \"PMC-Patients.json\"\n",
    "file_pmc_ppr = \"PPR/PPR_corpus.jsonl\"\n",
    "file_pmc_par = \"PAR/PAR_corpus.jsonl\"\n",
    "\n",
    "patients_summaries = pd.read_json(data_path + dir + file_pmc_summaries)\n",
    "print(\"PMC Patients summaries loaded.\")\n",
    "par = pd.read_json(data_path + dir + file_pmc_par, lines = True)\n",
    "print(\"PMC Patients PAR loaded.\")\n",
    "ppr = pd.read_json(data_path + dir + file_pmc_ppr, lines = True)\n",
    "print(\"PMC Patients PPR loaded.\")"
   ]
  },
  {
   "cell_type": "code",
   "execution_count": null,
   "id": "8af2e19a",
   "metadata": {
    "execution": {
     "iopub.execute_input": "2024-01-08T10:43:44.821126Z",
     "iopub.status.busy": "2024-01-08T10:43:44.820235Z",
     "iopub.status.idle": "2024-01-08T10:43:44.835913Z",
     "shell.execute_reply": "2024-01-08T10:43:44.835026Z"
    },
    "papermill": {
     "duration": 2.210821,
     "end_time": "2024-01-08T10:43:44.838162",
     "exception": false,
     "start_time": "2024-01-08T10:43:42.627341",
     "status": "completed"
    },
    "tags": []
   },
   "outputs": [],
   "source": [
    "patients_summaries.head()"
   ]
  },
  {
   "cell_type": "code",
   "execution_count": null,
   "id": "07c5c63a",
   "metadata": {
    "execution": {
     "iopub.execute_input": "2024-01-08T10:43:49.365121Z",
     "iopub.status.busy": "2024-01-08T10:43:49.364453Z",
     "iopub.status.idle": "2024-01-08T10:43:49.374235Z",
     "shell.execute_reply": "2024-01-08T10:43:49.373409Z"
    },
    "papermill": {
     "duration": 2.202614,
     "end_time": "2024-01-08T10:43:49.376469",
     "exception": false,
     "start_time": "2024-01-08T10:43:47.173855",
     "status": "completed"
    },
    "tags": []
   },
   "outputs": [],
   "source": [
    "par.head()"
   ]
  },
  {
   "cell_type": "code",
   "execution_count": null,
   "id": "0fc9a843",
   "metadata": {
    "execution": {
     "iopub.execute_input": "2024-01-08T10:43:53.938607Z",
     "iopub.status.busy": "2024-01-08T10:43:53.938229Z",
     "iopub.status.idle": "2024-01-08T10:43:53.947794Z",
     "shell.execute_reply": "2024-01-08T10:43:53.946972Z"
    },
    "papermill": {
     "duration": 2.198144,
     "end_time": "2024-01-08T10:43:53.949788",
     "exception": false,
     "start_time": "2024-01-08T10:43:51.751644",
     "status": "completed"
    },
    "tags": []
   },
   "outputs": [],
   "source": [
    "ppr.head()"
   ]
  },
  {
   "cell_type": "code",
   "execution_count": null,
   "id": "317bbb23",
   "metadata": {
    "collapsed": true,
    "execution": {
     "iopub.execute_input": "2024-01-08T10:43:58.540396Z",
     "iopub.status.busy": "2024-01-08T10:43:58.540017Z",
     "iopub.status.idle": "2024-01-08T10:47:21.320621Z",
     "shell.execute_reply": "2024-01-08T10:47:21.319460Z"
    },
    "jupyter": {
     "outputs_hidden": true
    },
    "papermill": {
     "duration": 205.030291,
     "end_time": "2024-01-08T10:47:21.323072",
     "exception": false,
     "start_time": "2024-01-08T10:43:56.292781",
     "status": "completed"
    },
    "tags": []
   },
   "outputs": [],
   "source": [
    "summary_texts = patients_summaries.patient.sample(n=10000, random_state=42)\n",
    "summary_texts.reset_index(drop=True, inplace=True)\n",
    "summary_predictions = predict(model, summary_texts, tokenizer)"
   ]
  },
  {
   "cell_type": "code",
   "execution_count": null,
   "id": "ada05bfa",
   "metadata": {
    "collapsed": true,
    "execution": {
     "iopub.execute_input": "2024-01-08T10:47:26.836833Z",
     "iopub.status.busy": "2024-01-08T10:47:26.836486Z",
     "iopub.status.idle": "2024-01-08T10:50:50.240183Z",
     "shell.execute_reply": "2024-01-08T10:50:50.239126Z"
    },
    "jupyter": {
     "outputs_hidden": true
    },
    "papermill": {
     "duration": 206.155176,
     "end_time": "2024-01-08T10:50:50.242267",
     "exception": false,
     "start_time": "2024-01-08T10:47:24.087091",
     "status": "completed"
    },
    "tags": []
   },
   "outputs": [],
   "source": [
    "par_texts = par.text.sample(n=10000, random_state=42)\n",
    "par_texts.reset_index(drop=True, inplace=True)\n",
    "par_predictions = predict(model, par_texts, tokenizer)"
   ]
  },
  {
   "cell_type": "code",
   "execution_count": null,
   "id": "53f08b68",
   "metadata": {
    "collapsed": true,
    "execution": {
     "iopub.execute_input": "2024-01-08T10:50:56.634639Z",
     "iopub.status.busy": "2024-01-08T10:50:56.633760Z",
     "iopub.status.idle": "2024-01-08T10:54:19.553355Z",
     "shell.execute_reply": "2024-01-08T10:54:19.552283Z"
    },
    "jupyter": {
     "outputs_hidden": true
    },
    "papermill": {
     "duration": 206.107322,
     "end_time": "2024-01-08T10:54:19.555208",
     "exception": false,
     "start_time": "2024-01-08T10:50:53.447886",
     "status": "completed"
    },
    "tags": []
   },
   "outputs": [],
   "source": [
    "ppr_texts = ppr.text.sample(n=10000, random_state=42)\n",
    "ppr_texts.reset_index(drop=True, inplace=True)\n",
    "ppr_predictions = predict(model, ppr_texts, tokenizer)"
   ]
  },
  {
   "cell_type": "code",
   "execution_count": null,
   "id": "49100699",
   "metadata": {
    "execution": {
     "iopub.execute_input": "2024-01-08T10:54:27.080737Z",
     "iopub.status.busy": "2024-01-08T10:54:27.079738Z",
     "iopub.status.idle": "2024-01-08T10:54:27.087929Z",
     "shell.execute_reply": "2024-01-08T10:54:27.086997Z"
    },
    "papermill": {
     "duration": 3.672559,
     "end_time": "2024-01-08T10:54:27.089885",
     "exception": false,
     "start_time": "2024-01-08T10:54:23.417326",
     "status": "completed"
    },
    "tags": []
   },
   "outputs": [],
   "source": [
    "def save_vet_predictions_as_json(predictions, texts, filename):\n",
    "    label_preds = [torch.argmax(tensor) for tensor in predictions]\n",
    "    label_preds = torch.stack(label_preds)\n",
    "    vet_preds = (label_preds == 1).nonzero(as_tuple=True)[0].numpy(force=True)\n",
    "    vet_preds\n",
    "    vet_texts = texts.iloc[texts.index.isin(vet_preds)]\n",
    "    probs = pd.Series(torch.stack([torch.max(tensor) for tensor in predictions]).numpy(force=True), name=\"probability\")\n",
    "    probs = probs.iloc[probs.index.isin(vet_preds)]\n",
    "    vet_df = pd.concat([vet_texts, probs], axis=1)\n",
    "\n",
    "    with open(filename, 'w') as f:\n",
    "        f.write(vet_df.to_json(orient=\"records\")[1:-1].replace('},{', '} {'))\n",
    "        \n",
    "    print(f\"Predictions have been saved to {filename}.\")\n",
    "    \n",
    "    return vet_df"
   ]
  },
  {
   "cell_type": "code",
   "execution_count": null,
   "id": "734fd24e",
   "metadata": {
    "execution": {
     "iopub.execute_input": "2024-01-08T10:54:34.795149Z",
     "iopub.status.busy": "2024-01-08T10:54:34.794328Z",
     "iopub.status.idle": "2024-01-08T10:54:35.047841Z",
     "shell.execute_reply": "2024-01-08T10:54:35.046880Z"
    },
    "papermill": {
     "duration": 4.149799,
     "end_time": "2024-01-08T10:54:35.049873",
     "exception": false,
     "start_time": "2024-01-08T10:54:30.900074",
     "status": "completed"
    },
    "tags": []
   },
   "outputs": [],
   "source": [
    "vet_summaries = save_vet_predictions_as_json(summary_predictions, summary_texts, \"pmc_patients_predictions/summaries_vet.json\")\n",
    "vet_summaries"
   ]
  },
  {
   "cell_type": "code",
   "execution_count": null,
   "id": "ed2216c1",
   "metadata": {
    "execution": {
     "iopub.execute_input": "2024-01-08T10:54:42.695390Z",
     "iopub.status.busy": "2024-01-08T10:54:42.694592Z",
     "iopub.status.idle": "2024-01-08T10:54:42.945004Z",
     "shell.execute_reply": "2024-01-08T10:54:42.944058Z"
    },
    "papermill": {
     "duration": 4.012781,
     "end_time": "2024-01-08T10:54:42.946920",
     "exception": false,
     "start_time": "2024-01-08T10:54:38.934139",
     "status": "completed"
    },
    "tags": []
   },
   "outputs": [],
   "source": [
    "vet_par = save_vet_predictions_as_json(par_predictions, par_texts, \"pmc_patients_predictions/par_vet.json\")\n",
    "vet_par"
   ]
  },
  {
   "cell_type": "code",
   "execution_count": null,
   "id": "67d635a0",
   "metadata": {
    "execution": {
     "iopub.execute_input": "2024-01-08T10:54:50.346343Z",
     "iopub.status.busy": "2024-01-08T10:54:50.345635Z",
     "iopub.status.idle": "2024-01-08T10:54:50.596374Z",
     "shell.execute_reply": "2024-01-08T10:54:50.595288Z"
    },
    "papermill": {
     "duration": 3.954623,
     "end_time": "2024-01-08T10:54:50.598380",
     "exception": false,
     "start_time": "2024-01-08T10:54:46.643757",
     "status": "completed"
    },
    "tags": []
   },
   "outputs": [],
   "source": [
    "vet_ppr = save_vet_predictions_as_json(ppr_predictions, par_texts, \"pmc_patients_predictions/ppr_vet.json\")\n",
    "vet_ppr"
   ]
  },
  {
   "cell_type": "markdown",
   "id": "4d72e989",
   "metadata": {},
   "source": [
    "Interpretability"
   ]
  },
  {
   "cell_type": "code",
   "execution_count": null,
   "id": "28bcdb22",
   "metadata": {},
   "outputs": [],
   "source": [
    "from captum.attr import TokenReferenceBase, LayerIntegratedGradients\n",
    "from captum.attr import visualization as viz\n",
    "\n",
    "def interpret_text(model_for_pred, model_for_embeddings, text, tokenizer, true_class):\n",
    "\n",
    "    tokenized_input = tokenizer.encode_plus(\n",
    "                                    text,\n",
    "                                    None,\n",
    "                                    add_special_tokens=True,\n",
    "                                    max_length=MAX_LEN,\n",
    "                                    #padding='max_length',\n",
    "                                    truncation=True,\n",
    "                                    return_token_type_ids=False,\n",
    "                                    return_attention_mask=True,\n",
    "                                    return_tensors=\"pt\"\n",
    "                                    )\n",
    "    \n",
    "    input_ids = tokenized_input[\"input_ids\"]\n",
    "    attention_mask = tokenized_input[\"attention_mask\"]\n",
    "    token_list = tokenizer.convert_ids_to_tokens(input_ids[0])\n",
    "\n",
    "    baseline_ids = TokenReferenceBase(reference_token_idx=tokenizer.pad_token_id).generate_reference(\n",
    "                                                                                        sequence_length=len(input_ids[0]), \n",
    "                                                                                        device=\"cpu\"\n",
    "                                                                                        ).unsqueeze(0)\n",
    "    baseline_ids[0] = tokenizer.cls_token_id \n",
    "    baseline_ids[-1] = tokenizer.sep_token_id\n",
    "\n",
    "    lig = LayerIntegratedGradients(\n",
    "                lambda *inputs, **kwargs: model_for_pred(*inputs, **kwargs)[0],\n",
    "                model_for_embeddings.embeddings\n",
    "                )\n",
    "\n",
    "    model_for_pred.zero_grad()\n",
    "    attributions, delta = lig.attribute(inputs=input_ids,\n",
    "                                    baselines=baseline_ids,\n",
    "                                    additional_forward_args=(attention_mask, ),\n",
    "                                    return_convergence_delta=True,\n",
    "                                    internal_batch_size=1\n",
    "                                    )\n",
    "    \n",
    "    attributions_sum = attributions.sum(dim=-1).squeeze(0) \n",
    "    attributions_sum = attributions_sum / torch.norm(attributions_sum)\n",
    "\n",
    "    pred = predict(model_for_pred, [text], tokenizer)[0]\n",
    "    print(pred)\n",
    "    score_vis = viz.VisualizationDataRecord(\n",
    "                        word_attributions = attributions_sum,\n",
    "                        pred_prob = torch.max(pred),\n",
    "                        pred_class = torch.argmax(pred).numpy(),\n",
    "                        true_class = true_class,\n",
    "                        attr_class = text,\n",
    "                        attr_score = attributions_sum.sum(),       \n",
    "                        raw_input_ids = token_list,\n",
    "                        convergence_score = delta)\n",
    "\n",
    "    viz.visualize_text([score_vis])"
   ]
  },
  {
   "cell_type": "code",
   "execution_count": null,
   "id": "23599ae4",
   "metadata": {},
   "outputs": [],
   "source": [
    "text = \"A 5-year-old male castrated (MC) DSH cat was presented for evaluation of chronic cough and 1 week of tachypnea. Its environment was exclusively indoors with clumping clay cat litter noted as a potential inhalant exposure. Physical examination identified increased bronchovesicular sounds with a respiratory rate of 70 breaths per minute. Thoracic radiographs disclosed a moderate diffuse bronchointerstitial pattern, patchy areas of unstructured to structured (with ill-defined contours) interstitial pattern, and repeatable hypoinflation on all views (Figure A, B). On echocardiography, no evidence of pulmonary hypertension was found. On thoracic CT, multifocal subpleural linear opacities, parenchymal bands, and bronchiolectasis with no air trapping on expiratory breath-hold images were observed (Figure C, D). Bronchoalveolar lavage (BAL) cytology identified 45% nondegenerate neutrophils, and aerobic and anaerobic cultures were negative. Lung biopsy (Figure A-C) disclosed marked inflammation within and around terminal and respiratory bronchioles, with most severe inflammation in subpleural regions. Away from the severe fibrosis and inflammation, inflammation was centered upon respiratory bronchioles. Many of these bronchioles were lined by hyperplastic epithelium and surrounded by thickened smooth muscle. Rarely, small numbers of acicular particles suggestive of mineral origin were noted in macrophages and epithelial cells (not shown). Additional comments regarding mineral dust airway disease are presented in Box .\"\n",
    "true_class = 1\n",
    "device = \"cpu\"\n",
    "interpret_text(model, model.scibert, text, tokenizer, true_class)"
   ]
  },
  {
   "cell_type": "code",
   "execution_count": null,
   "id": "ab8b7cf5",
   "metadata": {},
   "outputs": [],
   "source": [
    "text = \"A 30-year-old man presented in October 2010 following a dog bite around his left superotemporal orbit. No ocular trauma was found on examination; however, an upper lid laceration had been previously repaired leaving a scar on the upper tarsus. The patient immediately complained of vertical diplopia following the attack; however, despite an extended period of observation lasting 9 months, he remained symptomatic. Visual acuity was 6\\/6 OU, and he maintained single vision by using a chin-up head position. His ophthalmic examination was unremarkable. An orthoptist examination confirmed a marked restriction of upgaze. The patient was able to look up beyond the midline (see Hess Charts) (fig. ). There was no increase in intraocular pressure on attempted elevation. Prism cover testing was performed at distance fixation and showed a 40-prism diopter (PD) left hypotropia in upgaze, 35 PD in the primary position, and 3 PD hypophoria on the downgaze. He was binocular in downgaze, measuring 85\\u2019 in depression using the Frisby test. On the MRI scan, the SR was grossly intact; however, motion blurring meant that it was not possible to exclude small abnormalities. Despite the absence of imaging confirmation, a diagnosis of isolated SR injury, secondary to the dog bite, was suspected. Forced duction testing under general anaesthetic was free in all positions, indicating that an elevating force was required. A left Knapp procedure was performed. The surgery was uneventful with scar tissue found around the SR. An ophthalmic examination 3 months following surgery showed a visual acuity of 6\\/6 OU, and it also showed that the patient had a residual 20 PD hypotropia in the upgaze; he was, however, orthophoric in both primary positions and in the downgaze (fig. ). The patient was discharged with him being asymptomatic in the majority of his daily activities.\"\n",
    "true_class = 0\n",
    "device = \"cpu\"\n",
    "interpret_text(model, model.scibert, text, tokenizer, true_class)"
   ]
  },
  {
   "cell_type": "code",
   "execution_count": null,
   "id": "dd7c310e",
   "metadata": {},
   "outputs": [],
   "source": [
    "text = \"Visceral leishmaniasis is a zoonotic vector-borne disease caused by Leishmania infantum. The infection often remains asymptomatic, though clinical forms may occur in immunosuppressed individuals. Although data on leishmaniasis in humans are available worldwide, the exposure to L. infantum of workers conducting outdoor activities has been scantly investigated, and it is limited to military personnel operating in endemic regions. This study aimed to assess the seroprevalence of L. infantum in different groups of outdoor workers and the occupational risk factors. The cross-sectional study was performed on 229 workers including forestry guards, farmers, veterinarians, geologists and agronomists from three regions of southern Italy (i.e., Apulia, Basilicata and Campania). All serum samples were screened for L. infantum-specific IgG/IgM by using automated indirect chemiluminescent immunoassays. Overall, 5.7% (13/229) of workers was positive to anti-L. infantum antibodies, with the highest seroprevalence in veterinarians (13.6%). An increased occupational health surveillance for L. infantum infection in outdoor workers is essential to better understand the risk of exposure in specific jobs. Furthermore, guidelines and education along with a One Health collaboration among veterinarians, physicians, parasitologists and occupational health care professionals are crucial for the prevention of this disease.\"\n",
    "true_class = 0\n",
    "device = \"cpu\"\n",
    "interpret_text(model, model.scibert, text, tokenizer, true_class)"
   ]
  },
  {
   "cell_type": "code",
   "execution_count": null,
   "id": "50e14aa9",
   "metadata": {},
   "outputs": [],
   "source": [
    "text = \"A man came to hospital because he had been bitten by a dog and needed medication.\"\n",
    "true_class = 0\n",
    "device = \"cpu\"\n",
    "interpret_text(model, model.scibert, text, tokenizer, true_class)"
   ]
  },
  {
   "cell_type": "code",
   "execution_count": null,
   "id": "2fe2f4d9",
   "metadata": {},
   "outputs": [],
   "source": [
    "text = \"A man came to hospital because he had been bitten by a dog and needed medication.\"\n",
    "true_class = 1\n",
    "device = \"cpu\"\n",
    "interpret_text(model, model.scibert, text, tokenizer, true_class)"
   ]
  }
 ],
 "metadata": {
  "kaggle": {
   "accelerator": "gpu",
   "dataSources": [
    {
     "datasetId": 4141319,
     "sourceId": 7168342,
     "sourceType": "datasetVersion"
    },
    {
     "datasetId": 4108002,
     "sourceId": 7201785,
     "sourceType": "datasetVersion"
    },
    {
     "datasetId": 4108000,
     "sourceId": 7201802,
     "sourceType": "datasetVersion"
    },
    {
     "datasetId": 4265835,
     "sourceId": 7346299,
     "sourceType": "datasetVersion"
    },
    {
     "datasetId": 4265837,
     "sourceId": 7346301,
     "sourceType": "datasetVersion"
    },
    {
     "datasetId": 4265839,
     "sourceId": 7346304,
     "sourceType": "datasetVersion"
    },
    {
     "datasetId": 4265840,
     "sourceId": 7346305,
     "sourceType": "datasetVersion"
    },
    {
     "datasetId": 4265843,
     "sourceId": 7346308,
     "sourceType": "datasetVersion"
    },
    {
     "datasetId": 4265844,
     "sourceId": 7346310,
     "sourceType": "datasetVersion"
    },
    {
     "datasetId": 4265845,
     "sourceId": 7346311,
     "sourceType": "datasetVersion"
    },
    {
     "datasetId": 4265848,
     "sourceId": 7346314,
     "sourceType": "datasetVersion"
    },
    {
     "datasetId": 4273577,
     "sourceId": 7357775,
     "sourceType": "datasetVersion"
    }
   ],
   "dockerImageVersionId": 30587,
   "isGpuEnabled": true,
   "isInternetEnabled": true,
   "language": "python",
   "sourceType": "notebook"
  },
  "kernelspec": {
   "display_name": "Python 3",
   "language": "python",
   "name": "python3"
  },
  "language_info": {
   "codemirror_mode": {
    "name": "ipython",
    "version": 3
   },
   "file_extension": ".py",
   "mimetype": "text/x-python",
   "name": "python",
   "nbconvert_exporter": "python",
   "pygments_lexer": "ipython3",
   "version": "3.11.6"
  },
  "papermill": {
   "default_parameters": {},
   "duration": 3213.841059,
   "end_time": "2024-01-08T10:54:57.430617",
   "environment_variables": {},
   "exception": null,
   "input_path": "__notebook__.ipynb",
   "output_path": "__notebook__.ipynb",
   "parameters": {},
   "start_time": "2024-01-08T10:01:23.589558",
   "version": "2.4.0"
  },
  "widgets": {
   "application/vnd.jupyter.widget-state+json": {
    "state": {
     "0ac53d4653394cd299d6b9c123602153": {
      "model_module": "@jupyter-widgets/controls",
      "model_module_version": "1.5.0",
      "model_name": "DescriptionStyleModel",
      "state": {
       "_model_module": "@jupyter-widgets/controls",
       "_model_module_version": "1.5.0",
       "_model_name": "DescriptionStyleModel",
       "_view_count": null,
       "_view_module": "@jupyter-widgets/base",
       "_view_module_version": "1.2.0",
       "_view_name": "StyleView",
       "description_width": ""
      }
     },
     "0f545259302e49229a8413d3906ff0e0": {
      "model_module": "@jupyter-widgets/base",
      "model_module_version": "1.2.0",
      "model_name": "LayoutModel",
      "state": {
       "_model_module": "@jupyter-widgets/base",
       "_model_module_version": "1.2.0",
       "_model_name": "LayoutModel",
       "_view_count": null,
       "_view_module": "@jupyter-widgets/base",
       "_view_module_version": "1.2.0",
       "_view_name": "LayoutView",
       "align_content": null,
       "align_items": null,
       "align_self": null,
       "border": null,
       "bottom": null,
       "display": null,
       "flex": null,
       "flex_flow": null,
       "grid_area": null,
       "grid_auto_columns": null,
       "grid_auto_flow": null,
       "grid_auto_rows": null,
       "grid_column": null,
       "grid_gap": null,
       "grid_row": null,
       "grid_template_areas": null,
       "grid_template_columns": null,
       "grid_template_rows": null,
       "height": null,
       "justify_content": null,
       "justify_items": null,
       "left": null,
       "margin": null,
       "max_height": null,
       "max_width": null,
       "min_height": null,
       "min_width": null,
       "object_fit": null,
       "object_position": null,
       "order": null,
       "overflow": null,
       "overflow_x": null,
       "overflow_y": null,
       "padding": null,
       "right": null,
       "top": null,
       "visibility": null,
       "width": null
      }
     },
     "16a1e22546724a88afea63597c059bfc": {
      "model_module": "@jupyter-widgets/controls",
      "model_module_version": "1.5.0",
      "model_name": "FloatProgressModel",
      "state": {
       "_dom_classes": [],
       "_model_module": "@jupyter-widgets/controls",
       "_model_module_version": "1.5.0",
       "_model_name": "FloatProgressModel",
       "_view_count": null,
       "_view_module": "@jupyter-widgets/controls",
       "_view_module_version": "1.5.0",
       "_view_name": "ProgressView",
       "bar_style": "success",
       "description": "",
       "description_tooltip": null,
       "layout": "IPY_MODEL_9b8d877e43d14b0d8a9dded72d8cf059",
       "max": 227845,
       "min": 0,
       "orientation": "horizontal",
       "style": "IPY_MODEL_bb9be0f5b57b4c3289ab0d54d10d55db",
       "value": 227845
      }
     },
     "1f8b00d5916847f9bc4eb08a377237b9": {
      "model_module": "@jupyter-widgets/controls",
      "model_module_version": "1.5.0",
      "model_name": "HTMLModel",
      "state": {
       "_dom_classes": [],
       "_model_module": "@jupyter-widgets/controls",
       "_model_module_version": "1.5.0",
       "_model_name": "HTMLModel",
       "_view_count": null,
       "_view_module": "@jupyter-widgets/controls",
       "_view_module_version": "1.5.0",
       "_view_name": "HTMLView",
       "description": "",
       "description_tooltip": null,
       "layout": "IPY_MODEL_bcde103d08e34909898cba7c3fa63619",
       "placeholder": "​",
       "style": "IPY_MODEL_eba5816dbec841a3886e11cc93a4b4c1",
       "value": "Downloading vocab.txt: 100%"
      }
     },
     "2017785da10e42ff930bc1a7edf41114": {
      "model_module": "@jupyter-widgets/controls",
      "model_module_version": "1.5.0",
      "model_name": "DescriptionStyleModel",
      "state": {
       "_model_module": "@jupyter-widgets/controls",
       "_model_module_version": "1.5.0",
       "_model_name": "DescriptionStyleModel",
       "_view_count": null,
       "_view_module": "@jupyter-widgets/base",
       "_view_module_version": "1.2.0",
       "_view_name": "StyleView",
       "description_width": ""
      }
     },
     "20e12835b89f4e71bfa2cd69e275e524": {
      "model_module": "@jupyter-widgets/controls",
      "model_module_version": "1.5.0",
      "model_name": "HTMLModel",
      "state": {
       "_dom_classes": [],
       "_model_module": "@jupyter-widgets/controls",
       "_model_module_version": "1.5.0",
       "_model_name": "HTMLModel",
       "_view_count": null,
       "_view_module": "@jupyter-widgets/controls",
       "_view_module_version": "1.5.0",
       "_view_name": "HTMLView",
       "description": "",
       "description_tooltip": null,
       "layout": "IPY_MODEL_36f0ae0cf1f44a5c86bda839ef7490a1",
       "placeholder": "​",
       "style": "IPY_MODEL_8e9797864ae9419abcc6a815d2b220bc",
       "value": "Downloading config.json: 100%"
      }
     },
     "2e25ac2e9a2046718792e8e006967c11": {
      "model_module": "@jupyter-widgets/controls",
      "model_module_version": "1.5.0",
      "model_name": "ProgressStyleModel",
      "state": {
       "_model_module": "@jupyter-widgets/controls",
       "_model_module_version": "1.5.0",
       "_model_name": "ProgressStyleModel",
       "_view_count": null,
       "_view_module": "@jupyter-widgets/base",
       "_view_module_version": "1.2.0",
       "_view_name": "StyleView",
       "bar_color": null,
       "description_width": ""
      }
     },
     "308809058b084ebf8f4a3303d7a9a95c": {
      "model_module": "@jupyter-widgets/controls",
      "model_module_version": "1.5.0",
      "model_name": "DescriptionStyleModel",
      "state": {
       "_model_module": "@jupyter-widgets/controls",
       "_model_module_version": "1.5.0",
       "_model_name": "DescriptionStyleModel",
       "_view_count": null,
       "_view_module": "@jupyter-widgets/base",
       "_view_module_version": "1.2.0",
       "_view_name": "StyleView",
       "description_width": ""
      }
     },
     "36dddcbafa12480580f597aed1c40558": {
      "model_module": "@jupyter-widgets/controls",
      "model_module_version": "1.5.0",
      "model_name": "HBoxModel",
      "state": {
       "_dom_classes": [],
       "_model_module": "@jupyter-widgets/controls",
       "_model_module_version": "1.5.0",
       "_model_name": "HBoxModel",
       "_view_count": null,
       "_view_module": "@jupyter-widgets/controls",
       "_view_module_version": "1.5.0",
       "_view_name": "HBoxView",
       "box_style": "",
       "children": [
        "IPY_MODEL_20e12835b89f4e71bfa2cd69e275e524",
        "IPY_MODEL_671b95db66644bfcb6d83e0050c52dd6",
        "IPY_MODEL_58f840b776624f36a9544082662b4086"
       ],
       "layout": "IPY_MODEL_e0455b1bc1e647f9a2cf52e78fc7edbe"
      }
     },
     "36f0ae0cf1f44a5c86bda839ef7490a1": {
      "model_module": "@jupyter-widgets/base",
      "model_module_version": "1.2.0",
      "model_name": "LayoutModel",
      "state": {
       "_model_module": "@jupyter-widgets/base",
       "_model_module_version": "1.2.0",
       "_model_name": "LayoutModel",
       "_view_count": null,
       "_view_module": "@jupyter-widgets/base",
       "_view_module_version": "1.2.0",
       "_view_name": "LayoutView",
       "align_content": null,
       "align_items": null,
       "align_self": null,
       "border": null,
       "bottom": null,
       "display": null,
       "flex": null,
       "flex_flow": null,
       "grid_area": null,
       "grid_auto_columns": null,
       "grid_auto_flow": null,
       "grid_auto_rows": null,
       "grid_column": null,
       "grid_gap": null,
       "grid_row": null,
       "grid_template_areas": null,
       "grid_template_columns": null,
       "grid_template_rows": null,
       "height": null,
       "justify_content": null,
       "justify_items": null,
       "left": null,
       "margin": null,
       "max_height": null,
       "max_width": null,
       "min_height": null,
       "min_width": null,
       "object_fit": null,
       "object_position": null,
       "order": null,
       "overflow": null,
       "overflow_x": null,
       "overflow_y": null,
       "padding": null,
       "right": null,
       "top": null,
       "visibility": null,
       "width": null
      }
     },
     "55e71908529c429182fbf9ce620af941": {
      "model_module": "@jupyter-widgets/controls",
      "model_module_version": "1.5.0",
      "model_name": "HBoxModel",
      "state": {
       "_dom_classes": [],
       "_model_module": "@jupyter-widgets/controls",
       "_model_module_version": "1.5.0",
       "_model_name": "HBoxModel",
       "_view_count": null,
       "_view_module": "@jupyter-widgets/controls",
       "_view_module_version": "1.5.0",
       "_view_name": "HBoxView",
       "box_style": "",
       "children": [
        "IPY_MODEL_1f8b00d5916847f9bc4eb08a377237b9",
        "IPY_MODEL_16a1e22546724a88afea63597c059bfc",
        "IPY_MODEL_95202798c1a94e949d404e081a53868f"
       ],
       "layout": "IPY_MODEL_e1c9586cca2c49b1aa0eaa3cc3326d32"
      }
     },
     "58f840b776624f36a9544082662b4086": {
      "model_module": "@jupyter-widgets/controls",
      "model_module_version": "1.5.0",
      "model_name": "HTMLModel",
      "state": {
       "_dom_classes": [],
       "_model_module": "@jupyter-widgets/controls",
       "_model_module_version": "1.5.0",
       "_model_name": "HTMLModel",
       "_view_count": null,
       "_view_module": "@jupyter-widgets/controls",
       "_view_module_version": "1.5.0",
       "_view_name": "HTMLView",
       "description": "",
       "description_tooltip": null,
       "layout": "IPY_MODEL_0f545259302e49229a8413d3906ff0e0",
       "placeholder": "​",
       "style": "IPY_MODEL_5b00548000164abaae1d2030dc4ad43b",
       "value": " 385/385 [00:00&lt;00:00, 32.2kB/s]"
      }
     },
     "5b00548000164abaae1d2030dc4ad43b": {
      "model_module": "@jupyter-widgets/controls",
      "model_module_version": "1.5.0",
      "model_name": "DescriptionStyleModel",
      "state": {
       "_model_module": "@jupyter-widgets/controls",
       "_model_module_version": "1.5.0",
       "_model_name": "DescriptionStyleModel",
       "_view_count": null,
       "_view_module": "@jupyter-widgets/base",
       "_view_module_version": "1.2.0",
       "_view_name": "StyleView",
       "description_width": ""
      }
     },
     "671b95db66644bfcb6d83e0050c52dd6": {
      "model_module": "@jupyter-widgets/controls",
      "model_module_version": "1.5.0",
      "model_name": "FloatProgressModel",
      "state": {
       "_dom_classes": [],
       "_model_module": "@jupyter-widgets/controls",
       "_model_module_version": "1.5.0",
       "_model_name": "FloatProgressModel",
       "_view_count": null,
       "_view_module": "@jupyter-widgets/controls",
       "_view_module_version": "1.5.0",
       "_view_name": "ProgressView",
       "bar_style": "success",
       "description": "",
       "description_tooltip": null,
       "layout": "IPY_MODEL_9da4fd1f343c4a568385cde8a859fff0",
       "max": 385,
       "min": 0,
       "orientation": "horizontal",
       "style": "IPY_MODEL_2e25ac2e9a2046718792e8e006967c11",
       "value": 385
      }
     },
     "6f71353e9cb94fd5bc511a3531d614b3": {
      "model_module": "@jupyter-widgets/base",
      "model_module_version": "1.2.0",
      "model_name": "LayoutModel",
      "state": {
       "_model_module": "@jupyter-widgets/base",
       "_model_module_version": "1.2.0",
       "_model_name": "LayoutModel",
       "_view_count": null,
       "_view_module": "@jupyter-widgets/base",
       "_view_module_version": "1.2.0",
       "_view_name": "LayoutView",
       "align_content": null,
       "align_items": null,
       "align_self": null,
       "border": null,
       "bottom": null,
       "display": null,
       "flex": null,
       "flex_flow": null,
       "grid_area": null,
       "grid_auto_columns": null,
       "grid_auto_flow": null,
       "grid_auto_rows": null,
       "grid_column": null,
       "grid_gap": null,
       "grid_row": null,
       "grid_template_areas": null,
       "grid_template_columns": null,
       "grid_template_rows": null,
       "height": null,
       "justify_content": null,
       "justify_items": null,
       "left": null,
       "margin": null,
       "max_height": null,
       "max_width": null,
       "min_height": null,
       "min_width": null,
       "object_fit": null,
       "object_position": null,
       "order": null,
       "overflow": null,
       "overflow_x": null,
       "overflow_y": null,
       "padding": null,
       "right": null,
       "top": null,
       "visibility": null,
       "width": null
      }
     },
     "7299dbe92f58435994028f73c7dbda7b": {
      "model_module": "@jupyter-widgets/controls",
      "model_module_version": "1.5.0",
      "model_name": "FloatProgressModel",
      "state": {
       "_dom_classes": [],
       "_model_module": "@jupyter-widgets/controls",
       "_model_module_version": "1.5.0",
       "_model_name": "FloatProgressModel",
       "_view_count": null,
       "_view_module": "@jupyter-widgets/controls",
       "_view_module_version": "1.5.0",
       "_view_name": "ProgressView",
       "bar_style": "success",
       "description": "",
       "description_tooltip": null,
       "layout": "IPY_MODEL_c2db1a1832d1444098eebc9ad45b8072",
       "max": 442221694,
       "min": 0,
       "orientation": "horizontal",
       "style": "IPY_MODEL_bb3e52aee82b42c48948189aad1f1cf5",
       "value": 442221694
      }
     },
     "8e9797864ae9419abcc6a815d2b220bc": {
      "model_module": "@jupyter-widgets/controls",
      "model_module_version": "1.5.0",
      "model_name": "DescriptionStyleModel",
      "state": {
       "_model_module": "@jupyter-widgets/controls",
       "_model_module_version": "1.5.0",
       "_model_name": "DescriptionStyleModel",
       "_view_count": null,
       "_view_module": "@jupyter-widgets/base",
       "_view_module_version": "1.2.0",
       "_view_name": "StyleView",
       "description_width": ""
      }
     },
     "95202798c1a94e949d404e081a53868f": {
      "model_module": "@jupyter-widgets/controls",
      "model_module_version": "1.5.0",
      "model_name": "HTMLModel",
      "state": {
       "_dom_classes": [],
       "_model_module": "@jupyter-widgets/controls",
       "_model_module_version": "1.5.0",
       "_model_name": "HTMLModel",
       "_view_count": null,
       "_view_module": "@jupyter-widgets/controls",
       "_view_module_version": "1.5.0",
       "_view_name": "HTMLView",
       "description": "",
       "description_tooltip": null,
       "layout": "IPY_MODEL_a2eb3d05ddc24ce5b27bb4d9deefa0f6",
       "placeholder": "​",
       "style": "IPY_MODEL_2017785da10e42ff930bc1a7edf41114",
       "value": " 228k/228k [00:00&lt;00:00, 1.77MB/s]"
      }
     },
     "9b8d877e43d14b0d8a9dded72d8cf059": {
      "model_module": "@jupyter-widgets/base",
      "model_module_version": "1.2.0",
      "model_name": "LayoutModel",
      "state": {
       "_model_module": "@jupyter-widgets/base",
       "_model_module_version": "1.2.0",
       "_model_name": "LayoutModel",
       "_view_count": null,
       "_view_module": "@jupyter-widgets/base",
       "_view_module_version": "1.2.0",
       "_view_name": "LayoutView",
       "align_content": null,
       "align_items": null,
       "align_self": null,
       "border": null,
       "bottom": null,
       "display": null,
       "flex": null,
       "flex_flow": null,
       "grid_area": null,
       "grid_auto_columns": null,
       "grid_auto_flow": null,
       "grid_auto_rows": null,
       "grid_column": null,
       "grid_gap": null,
       "grid_row": null,
       "grid_template_areas": null,
       "grid_template_columns": null,
       "grid_template_rows": null,
       "height": null,
       "justify_content": null,
       "justify_items": null,
       "left": null,
       "margin": null,
       "max_height": null,
       "max_width": null,
       "min_height": null,
       "min_width": null,
       "object_fit": null,
       "object_position": null,
       "order": null,
       "overflow": null,
       "overflow_x": null,
       "overflow_y": null,
       "padding": null,
       "right": null,
       "top": null,
       "visibility": null,
       "width": null
      }
     },
     "9cd8cc1857d4497b8fec34604d364081": {
      "model_module": "@jupyter-widgets/base",
      "model_module_version": "1.2.0",
      "model_name": "LayoutModel",
      "state": {
       "_model_module": "@jupyter-widgets/base",
       "_model_module_version": "1.2.0",
       "_model_name": "LayoutModel",
       "_view_count": null,
       "_view_module": "@jupyter-widgets/base",
       "_view_module_version": "1.2.0",
       "_view_name": "LayoutView",
       "align_content": null,
       "align_items": null,
       "align_self": null,
       "border": null,
       "bottom": null,
       "display": null,
       "flex": null,
       "flex_flow": null,
       "grid_area": null,
       "grid_auto_columns": null,
       "grid_auto_flow": null,
       "grid_auto_rows": null,
       "grid_column": null,
       "grid_gap": null,
       "grid_row": null,
       "grid_template_areas": null,
       "grid_template_columns": null,
       "grid_template_rows": null,
       "height": null,
       "justify_content": null,
       "justify_items": null,
       "left": null,
       "margin": null,
       "max_height": null,
       "max_width": null,
       "min_height": null,
       "min_width": null,
       "object_fit": null,
       "object_position": null,
       "order": null,
       "overflow": null,
       "overflow_x": null,
       "overflow_y": null,
       "padding": null,
       "right": null,
       "top": null,
       "visibility": null,
       "width": null
      }
     },
     "9da4fd1f343c4a568385cde8a859fff0": {
      "model_module": "@jupyter-widgets/base",
      "model_module_version": "1.2.0",
      "model_name": "LayoutModel",
      "state": {
       "_model_module": "@jupyter-widgets/base",
       "_model_module_version": "1.2.0",
       "_model_name": "LayoutModel",
       "_view_count": null,
       "_view_module": "@jupyter-widgets/base",
       "_view_module_version": "1.2.0",
       "_view_name": "LayoutView",
       "align_content": null,
       "align_items": null,
       "align_self": null,
       "border": null,
       "bottom": null,
       "display": null,
       "flex": null,
       "flex_flow": null,
       "grid_area": null,
       "grid_auto_columns": null,
       "grid_auto_flow": null,
       "grid_auto_rows": null,
       "grid_column": null,
       "grid_gap": null,
       "grid_row": null,
       "grid_template_areas": null,
       "grid_template_columns": null,
       "grid_template_rows": null,
       "height": null,
       "justify_content": null,
       "justify_items": null,
       "left": null,
       "margin": null,
       "max_height": null,
       "max_width": null,
       "min_height": null,
       "min_width": null,
       "object_fit": null,
       "object_position": null,
       "order": null,
       "overflow": null,
       "overflow_x": null,
       "overflow_y": null,
       "padding": null,
       "right": null,
       "top": null,
       "visibility": null,
       "width": null
      }
     },
     "a2eb3d05ddc24ce5b27bb4d9deefa0f6": {
      "model_module": "@jupyter-widgets/base",
      "model_module_version": "1.2.0",
      "model_name": "LayoutModel",
      "state": {
       "_model_module": "@jupyter-widgets/base",
       "_model_module_version": "1.2.0",
       "_model_name": "LayoutModel",
       "_view_count": null,
       "_view_module": "@jupyter-widgets/base",
       "_view_module_version": "1.2.0",
       "_view_name": "LayoutView",
       "align_content": null,
       "align_items": null,
       "align_self": null,
       "border": null,
       "bottom": null,
       "display": null,
       "flex": null,
       "flex_flow": null,
       "grid_area": null,
       "grid_auto_columns": null,
       "grid_auto_flow": null,
       "grid_auto_rows": null,
       "grid_column": null,
       "grid_gap": null,
       "grid_row": null,
       "grid_template_areas": null,
       "grid_template_columns": null,
       "grid_template_rows": null,
       "height": null,
       "justify_content": null,
       "justify_items": null,
       "left": null,
       "margin": null,
       "max_height": null,
       "max_width": null,
       "min_height": null,
       "min_width": null,
       "object_fit": null,
       "object_position": null,
       "order": null,
       "overflow": null,
       "overflow_x": null,
       "overflow_y": null,
       "padding": null,
       "right": null,
       "top": null,
       "visibility": null,
       "width": null
      }
     },
     "a3ad04e13cf9439e9bae41948ad84707": {
      "model_module": "@jupyter-widgets/controls",
      "model_module_version": "1.5.0",
      "model_name": "HTMLModel",
      "state": {
       "_dom_classes": [],
       "_model_module": "@jupyter-widgets/controls",
       "_model_module_version": "1.5.0",
       "_model_name": "HTMLModel",
       "_view_count": null,
       "_view_module": "@jupyter-widgets/controls",
       "_view_module_version": "1.5.0",
       "_view_name": "HTMLView",
       "description": "",
       "description_tooltip": null,
       "layout": "IPY_MODEL_6f71353e9cb94fd5bc511a3531d614b3",
       "placeholder": "​",
       "style": "IPY_MODEL_0ac53d4653394cd299d6b9c123602153",
       "value": " 442M/442M [00:01&lt;00:00, 323MB/s]"
      }
     },
     "b225a65898cd4681a77a90aee7a12547": {
      "model_module": "@jupyter-widgets/controls",
      "model_module_version": "1.5.0",
      "model_name": "HTMLModel",
      "state": {
       "_dom_classes": [],
       "_model_module": "@jupyter-widgets/controls",
       "_model_module_version": "1.5.0",
       "_model_name": "HTMLModel",
       "_view_count": null,
       "_view_module": "@jupyter-widgets/controls",
       "_view_module_version": "1.5.0",
       "_view_name": "HTMLView",
       "description": "",
       "description_tooltip": null,
       "layout": "IPY_MODEL_c3d084f06f6d41aa8ad2062ee6b071d7",
       "placeholder": "​",
       "style": "IPY_MODEL_308809058b084ebf8f4a3303d7a9a95c",
       "value": "Downloading pytorch_model.bin: 100%"
      }
     },
     "b8bf6178873b4f41a8b09007b0206667": {
      "model_module": "@jupyter-widgets/controls",
      "model_module_version": "1.5.0",
      "model_name": "HBoxModel",
      "state": {
       "_dom_classes": [],
       "_model_module": "@jupyter-widgets/controls",
       "_model_module_version": "1.5.0",
       "_model_name": "HBoxModel",
       "_view_count": null,
       "_view_module": "@jupyter-widgets/controls",
       "_view_module_version": "1.5.0",
       "_view_name": "HBoxView",
       "box_style": "",
       "children": [
        "IPY_MODEL_b225a65898cd4681a77a90aee7a12547",
        "IPY_MODEL_7299dbe92f58435994028f73c7dbda7b",
        "IPY_MODEL_a3ad04e13cf9439e9bae41948ad84707"
       ],
       "layout": "IPY_MODEL_9cd8cc1857d4497b8fec34604d364081"
      }
     },
     "bb3e52aee82b42c48948189aad1f1cf5": {
      "model_module": "@jupyter-widgets/controls",
      "model_module_version": "1.5.0",
      "model_name": "ProgressStyleModel",
      "state": {
       "_model_module": "@jupyter-widgets/controls",
       "_model_module_version": "1.5.0",
       "_model_name": "ProgressStyleModel",
       "_view_count": null,
       "_view_module": "@jupyter-widgets/base",
       "_view_module_version": "1.2.0",
       "_view_name": "StyleView",
       "bar_color": null,
       "description_width": ""
      }
     },
     "bb9be0f5b57b4c3289ab0d54d10d55db": {
      "model_module": "@jupyter-widgets/controls",
      "model_module_version": "1.5.0",
      "model_name": "ProgressStyleModel",
      "state": {
       "_model_module": "@jupyter-widgets/controls",
       "_model_module_version": "1.5.0",
       "_model_name": "ProgressStyleModel",
       "_view_count": null,
       "_view_module": "@jupyter-widgets/base",
       "_view_module_version": "1.2.0",
       "_view_name": "StyleView",
       "bar_color": null,
       "description_width": ""
      }
     },
     "bcde103d08e34909898cba7c3fa63619": {
      "model_module": "@jupyter-widgets/base",
      "model_module_version": "1.2.0",
      "model_name": "LayoutModel",
      "state": {
       "_model_module": "@jupyter-widgets/base",
       "_model_module_version": "1.2.0",
       "_model_name": "LayoutModel",
       "_view_count": null,
       "_view_module": "@jupyter-widgets/base",
       "_view_module_version": "1.2.0",
       "_view_name": "LayoutView",
       "align_content": null,
       "align_items": null,
       "align_self": null,
       "border": null,
       "bottom": null,
       "display": null,
       "flex": null,
       "flex_flow": null,
       "grid_area": null,
       "grid_auto_columns": null,
       "grid_auto_flow": null,
       "grid_auto_rows": null,
       "grid_column": null,
       "grid_gap": null,
       "grid_row": null,
       "grid_template_areas": null,
       "grid_template_columns": null,
       "grid_template_rows": null,
       "height": null,
       "justify_content": null,
       "justify_items": null,
       "left": null,
       "margin": null,
       "max_height": null,
       "max_width": null,
       "min_height": null,
       "min_width": null,
       "object_fit": null,
       "object_position": null,
       "order": null,
       "overflow": null,
       "overflow_x": null,
       "overflow_y": null,
       "padding": null,
       "right": null,
       "top": null,
       "visibility": null,
       "width": null
      }
     },
     "c2db1a1832d1444098eebc9ad45b8072": {
      "model_module": "@jupyter-widgets/base",
      "model_module_version": "1.2.0",
      "model_name": "LayoutModel",
      "state": {
       "_model_module": "@jupyter-widgets/base",
       "_model_module_version": "1.2.0",
       "_model_name": "LayoutModel",
       "_view_count": null,
       "_view_module": "@jupyter-widgets/base",
       "_view_module_version": "1.2.0",
       "_view_name": "LayoutView",
       "align_content": null,
       "align_items": null,
       "align_self": null,
       "border": null,
       "bottom": null,
       "display": null,
       "flex": null,
       "flex_flow": null,
       "grid_area": null,
       "grid_auto_columns": null,
       "grid_auto_flow": null,
       "grid_auto_rows": null,
       "grid_column": null,
       "grid_gap": null,
       "grid_row": null,
       "grid_template_areas": null,
       "grid_template_columns": null,
       "grid_template_rows": null,
       "height": null,
       "justify_content": null,
       "justify_items": null,
       "left": null,
       "margin": null,
       "max_height": null,
       "max_width": null,
       "min_height": null,
       "min_width": null,
       "object_fit": null,
       "object_position": null,
       "order": null,
       "overflow": null,
       "overflow_x": null,
       "overflow_y": null,
       "padding": null,
       "right": null,
       "top": null,
       "visibility": null,
       "width": null
      }
     },
     "c3d084f06f6d41aa8ad2062ee6b071d7": {
      "model_module": "@jupyter-widgets/base",
      "model_module_version": "1.2.0",
      "model_name": "LayoutModel",
      "state": {
       "_model_module": "@jupyter-widgets/base",
       "_model_module_version": "1.2.0",
       "_model_name": "LayoutModel",
       "_view_count": null,
       "_view_module": "@jupyter-widgets/base",
       "_view_module_version": "1.2.0",
       "_view_name": "LayoutView",
       "align_content": null,
       "align_items": null,
       "align_self": null,
       "border": null,
       "bottom": null,
       "display": null,
       "flex": null,
       "flex_flow": null,
       "grid_area": null,
       "grid_auto_columns": null,
       "grid_auto_flow": null,
       "grid_auto_rows": null,
       "grid_column": null,
       "grid_gap": null,
       "grid_row": null,
       "grid_template_areas": null,
       "grid_template_columns": null,
       "grid_template_rows": null,
       "height": null,
       "justify_content": null,
       "justify_items": null,
       "left": null,
       "margin": null,
       "max_height": null,
       "max_width": null,
       "min_height": null,
       "min_width": null,
       "object_fit": null,
       "object_position": null,
       "order": null,
       "overflow": null,
       "overflow_x": null,
       "overflow_y": null,
       "padding": null,
       "right": null,
       "top": null,
       "visibility": null,
       "width": null
      }
     },
     "e0455b1bc1e647f9a2cf52e78fc7edbe": {
      "model_module": "@jupyter-widgets/base",
      "model_module_version": "1.2.0",
      "model_name": "LayoutModel",
      "state": {
       "_model_module": "@jupyter-widgets/base",
       "_model_module_version": "1.2.0",
       "_model_name": "LayoutModel",
       "_view_count": null,
       "_view_module": "@jupyter-widgets/base",
       "_view_module_version": "1.2.0",
       "_view_name": "LayoutView",
       "align_content": null,
       "align_items": null,
       "align_self": null,
       "border": null,
       "bottom": null,
       "display": null,
       "flex": null,
       "flex_flow": null,
       "grid_area": null,
       "grid_auto_columns": null,
       "grid_auto_flow": null,
       "grid_auto_rows": null,
       "grid_column": null,
       "grid_gap": null,
       "grid_row": null,
       "grid_template_areas": null,
       "grid_template_columns": null,
       "grid_template_rows": null,
       "height": null,
       "justify_content": null,
       "justify_items": null,
       "left": null,
       "margin": null,
       "max_height": null,
       "max_width": null,
       "min_height": null,
       "min_width": null,
       "object_fit": null,
       "object_position": null,
       "order": null,
       "overflow": null,
       "overflow_x": null,
       "overflow_y": null,
       "padding": null,
       "right": null,
       "top": null,
       "visibility": null,
       "width": null
      }
     },
     "e1c9586cca2c49b1aa0eaa3cc3326d32": {
      "model_module": "@jupyter-widgets/base",
      "model_module_version": "1.2.0",
      "model_name": "LayoutModel",
      "state": {
       "_model_module": "@jupyter-widgets/base",
       "_model_module_version": "1.2.0",
       "_model_name": "LayoutModel",
       "_view_count": null,
       "_view_module": "@jupyter-widgets/base",
       "_view_module_version": "1.2.0",
       "_view_name": "LayoutView",
       "align_content": null,
       "align_items": null,
       "align_self": null,
       "border": null,
       "bottom": null,
       "display": null,
       "flex": null,
       "flex_flow": null,
       "grid_area": null,
       "grid_auto_columns": null,
       "grid_auto_flow": null,
       "grid_auto_rows": null,
       "grid_column": null,
       "grid_gap": null,
       "grid_row": null,
       "grid_template_areas": null,
       "grid_template_columns": null,
       "grid_template_rows": null,
       "height": null,
       "justify_content": null,
       "justify_items": null,
       "left": null,
       "margin": null,
       "max_height": null,
       "max_width": null,
       "min_height": null,
       "min_width": null,
       "object_fit": null,
       "object_position": null,
       "order": null,
       "overflow": null,
       "overflow_x": null,
       "overflow_y": null,
       "padding": null,
       "right": null,
       "top": null,
       "visibility": null,
       "width": null
      }
     },
     "eba5816dbec841a3886e11cc93a4b4c1": {
      "model_module": "@jupyter-widgets/controls",
      "model_module_version": "1.5.0",
      "model_name": "DescriptionStyleModel",
      "state": {
       "_model_module": "@jupyter-widgets/controls",
       "_model_module_version": "1.5.0",
       "_model_name": "DescriptionStyleModel",
       "_view_count": null,
       "_view_module": "@jupyter-widgets/base",
       "_view_module_version": "1.2.0",
       "_view_name": "StyleView",
       "description_width": ""
      }
     }
    },
    "version_major": 2,
    "version_minor": 0
   }
  }
 },
 "nbformat": 4,
 "nbformat_minor": 5
}
