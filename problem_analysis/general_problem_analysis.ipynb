{
 "cells": [
  {
   "cell_type": "code",
   "execution_count": 10,
   "metadata": {},
   "outputs": [
    {
     "name": "stderr",
     "output_type": "stream",
     "text": [
      "100%|██████████| 74757/74757 [12:23<00:00, 100.61it/s]  \n"
     ]
    }
   ],
   "source": [
    "import itertools\n",
    "from xml.etree.ElementTree import ElementTree\n",
    "import pandas as pd\n",
    "from tqdm import tqdm\n",
    "\n",
    "\n",
    "# Extract data from XML and create a DataFrame\n",
    "xml_files = [\"NEJM_data.xml\", \"BMJ_data.xml\", \n",
    "             \"animals_data.xml\", \n",
    "             \"caserepvetmed_data.xml\", \n",
    "             \"jvetmedsci_data.xml\", \n",
    "             \"frontvetsci_data.xml\", \n",
    "             \"jamanimhospassoc_data.xml\", \n",
    "             \"jsmallanimpract_data.xml\", \n",
    "             \"openvetj_data.xml\", \n",
    "             \"vetmedsci_data.xml\", \n",
    "             \"vetsci_data.xml\"]\n",
    "data_path = \"../data-querying/results/\"\n",
    "\n",
    "data_sets = []\n",
    "record_sets = []\n",
    "\n",
    "tree = ElementTree()\n",
    "\n",
    "lists = []\n",
    "for xml in xml_files:\n",
    "    temp = tree.parse(data_path + xml)\n",
    "    lists.append(temp.findall('.//Rec'))\n",
    "\n",
    "record_sets = list(itertools.chain(*lists))\n",
    "\n",
    "progress_bar = tqdm(range(len(record_sets)))\n",
    "\n",
    "for rec in record_sets:\n",
    "    try: \n",
    "        common = rec.find('.//Common')\n",
    "        pmid = common.find('PMID').text\n",
    "        text_types = [elem.text for elem in common.findall('Type')]\n",
    "        title = common.find('Title').text\n",
    "        abstract = common.find('Abstract').text\n",
    "        mesh_term_list = rec.find('.//MeshTermList')\n",
    "        mesh_terms = [term.text for term in mesh_term_list.findall('MeshTerm')]\n",
    "    except Exception as e:\n",
    "        print(f\"An error occurred: {e}\")\n",
    "        print(f\"Error occured for PMID: {pmid}\")\n",
    "\n",
    "    data_sets.append({'pmid': pmid, \"text_types\": text_types, 'title': title,\n",
    "                'abstract': abstract, 'meshtermlist': mesh_terms})\n",
    "    progress_bar.update(1)\n",
    "\n",
    "df = pd.DataFrame(data_sets)"
   ]
  },
  {
   "cell_type": "code",
   "execution_count": 14,
   "metadata": {},
   "outputs": [],
   "source": [
    "df_exploded = df.explode(\"text_types\")\n",
    "jour_articles_df = df_exploded[df_exploded[\"text_types\"] == \"Journal Article\"]\n",
    "case_rep_df = df_exploded[df_exploded[\"text_types\"] == \"Case Reports\"]"
   ]
  },
  {
   "cell_type": "code",
   "execution_count": 24,
   "metadata": {},
   "outputs": [
    {
     "name": "stdout",
     "output_type": "stream",
     "text": [
      "Average title length of all journal articles: 99.11309817464233\n",
      "Average abstract length of all journal articles: 1039.6407526174423\n",
      "Average abstract+title length of all journal articles: 1139.7538507920847\n"
     ]
    }
   ],
   "source": [
    "avg_title = jour_articles_df[\"title\"].str.len().mean()\n",
    "print(f\"Average title length of all journal articles: {avg_title}\")\n",
    "\n",
    "avg_abstract = jour_articles_df[\"abstract\"].str.len().mean()\n",
    "print(f\"Average abstract length of all journal articles: {avg_abstract}\")\n",
    "\n",
    "abstract_title = jour_articles_df[[\"title\", \"abstract\"]].apply(lambda row: ' '.join(row.values.astype(str)), axis=1)\n",
    "avg_abstract_title = abstract_title.str.len().mean()\n",
    "print(f\"Average abstract+title length of all journal articles: {avg_abstract_title}\")"
   ]
  },
  {
   "cell_type": "code",
   "execution_count": 25,
   "metadata": {},
   "outputs": [
    {
     "name": "stdout",
     "output_type": "stream",
     "text": [
      "Average title length of all case reports: 85.38586645286908\n",
      "Average abstract length of all case reports: 824.8643148932921\n",
      "Average abstract+title length of all case reports: 911.2501813461612\n"
     ]
    }
   ],
   "source": [
    "avg_title = case_rep_df[\"title\"].str.len().mean()\n",
    "print(f\"Average title length of all case reports: {avg_title}\")\n",
    "\n",
    "avg_abstract = case_rep_df[\"abstract\"].str.len().mean()\n",
    "print(f\"Average abstract length of all case reports: {avg_abstract}\")\n",
    "\n",
    "abstract_title = case_rep_df[[\"title\", \"abstract\"]].apply(lambda row: ' '.join(row.values.astype(str)), axis=1)\n",
    "avg_abstract_title = abstract_title.str.len().mean()\n",
    "print(f\"Average abstract+title length of all case reports: {avg_abstract_title}\")"
   ]
  },
  {
   "cell_type": "code",
   "execution_count": 26,
   "metadata": {},
   "outputs": [
    {
     "name": "stdout",
     "output_type": "stream",
     "text": [
      "Average title length of all text types: 99.15157109033268\n",
      "Average abstract length of all text types: 1037.1586741040974\n",
      "Average abstract+title length of all text types: 1137.3102451944299\n"
     ]
    }
   ],
   "source": [
    "avg_title = df[\"title\"].str.len().mean()\n",
    "print(f\"Average title length of all text types: {avg_title}\")\n",
    "\n",
    "avg_abstract = df[\"abstract\"].str.len().mean()\n",
    "print(f\"Average abstract length of all text types: {avg_abstract}\")\n",
    "\n",
    "abstract_title = df[[\"title\", \"abstract\"]].apply(lambda row: ' '.join(row.values.astype(str)), axis=1)\n",
    "avg_abstract_title = abstract_title.str.len().mean()\n",
    "print(f\"Average abstract+title length of all text types: {avg_abstract_title}\")"
   ]
  }
 ],
 "metadata": {
  "kernelspec": {
   "display_name": ".venv",
   "language": "python",
   "name": "python3"
  },
  "language_info": {
   "codemirror_mode": {
    "name": "ipython",
    "version": 3
   },
   "file_extension": ".py",
   "mimetype": "text/x-python",
   "name": "python",
   "nbconvert_exporter": "python",
   "pygments_lexer": "ipython3",
   "version": "3.11.6"
  }
 },
 "nbformat": 4,
 "nbformat_minor": 2
}
