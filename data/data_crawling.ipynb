{
 "cells": [
  {
   "cell_type": "markdown",
   "metadata": {},
   "source": [
    "XML parsing and analysis example"
   ]
  },
  {
   "cell_type": "code",
   "execution_count": 13,
   "metadata": {},
   "outputs": [
    {
     "name": "stdout",
     "output_type": "stream",
     "text": [
      "dict_keys(['@Status', '@Owner', 'PMID', 'DateCompleted', 'DateRevised', 'Article', 'MedlineJournalInfo', 'ChemicalList', 'CitationSubset', 'MeshHeadingList'])\n",
      "dict_keys(['History', 'PublicationStatus', 'ArticleIdList', 'ReferenceList'])\n"
     ]
    }
   ],
   "source": [
    "import xmltodict\n",
    "import urllib.request\n",
    "\n",
    "id = 167034\n",
    "url = f\"https://eutils.ncbi.nlm.nih.gov/entrez/eutils/efetch.fcgi?db=pubmed&id={id}&retmode=xml\"\n",
    "\n",
    "response = urllib.request.urlopen(url).read()\n",
    "site = xmltodict.parse(response)\n",
    "article = site['PubmedArticleSet']['PubmedArticle']\n",
    "\n",
    "print(article['MedlineCitation'].keys())\n",
    "print(article['PubmedData'].keys())"
   ]
  },
  {
   "cell_type": "code",
   "execution_count": 29,
   "metadata": {},
   "outputs": [
    {
     "data": {
      "text/plain": [
       "'eng'"
      ]
     },
     "execution_count": 29,
     "metadata": {},
     "output_type": "execute_result"
    }
   ],
   "source": [
    "language = article['MedlineCitation']['Article']['Language']\n",
    "language"
   ]
  },
  {
   "cell_type": "code",
   "execution_count": 25,
   "metadata": {},
   "outputs": [
    {
     "data": {
      "text/plain": [
       "\"Antagonism by dibutyryl adenosine cyclic 3',5'-monophosphate and testololactone of concanavalin A capping.\""
      ]
     },
     "execution_count": 25,
     "metadata": {},
     "output_type": "execute_result"
    }
   ],
   "source": [
    "title = article['MedlineCitation']['Article']['ArticleTitle']\n",
    "title"
   ]
  },
  {
   "cell_type": "code",
   "execution_count": 28,
   "metadata": {},
   "outputs": [
    {
     "data": {
      "text/plain": [
       "\"Exposure of CHO-K1 cells in vitro to dibutyryl adenosine cyclic 3',5'-monophosphate (DBcAMP) plus testololactone produces a rapid, reversible antagonism of ligand-induced collection of initially dispersed concanavalin A (Con A) binding sites into a caplike mass. Morphologically, as Con A capping occurs, the cells become less spread and then round completely. With prolonged Con A exposure, cells cultured in either the absence or the presence of DBcAMP plus testololactone cap and round. Capping is blocked by cold treatment and respiratory inhibitors. Colcemid at concentrations greater than 1 muM promotes both Con A capping and cell rounding. Cytochalasin B at similar concentrations inhibits both capping and cell rounding. Treatment of cells with Con A has little effect on intracellular cAMP concentration. Possible mechanisms by which cAMP may modulate the movement of Con A binding sites are discussed.\""
      ]
     },
     "execution_count": 28,
     "metadata": {},
     "output_type": "execute_result"
    }
   ],
   "source": [
    "text = article['MedlineCitation']['Article']['Abstract']['AbstractText']\n",
    "text"
   ]
  },
  {
   "cell_type": "code",
   "execution_count": 23,
   "metadata": {},
   "outputs": [
    {
     "data": {
      "text/plain": [
       "['Animals',\n",
       " 'Azides',\n",
       " 'Binding Sites, Antibody',\n",
       " 'Bucladesine',\n",
       " 'Cell Line',\n",
       " 'Colchicine',\n",
       " 'Cold Temperature',\n",
       " 'Concanavalin A',\n",
       " 'Cricetinae',\n",
       " 'Cytochalasin B',\n",
       " 'Drug Antagonism',\n",
       " 'Female',\n",
       " 'Fluoresceins',\n",
       " 'Iodoacetates',\n",
       " 'Microscopy, Electron',\n",
       " 'Ovary',\n",
       " 'Testolactone',\n",
       " 'Theophylline']"
      ]
     },
     "execution_count": 23,
     "metadata": {},
     "output_type": "execute_result"
    }
   ],
   "source": [
    "mesh_terms = [elem['DescriptorName']['#text'] for elem in article['MedlineCitation']['MeshHeadingList']['MeshHeading']]\n",
    "mesh_terms"
   ]
  }
 ],
 "metadata": {
  "kernelspec": {
   "display_name": ".venv",
   "language": "python",
   "name": "python3"
  },
  "language_info": {
   "codemirror_mode": {
    "name": "ipython",
    "version": 3
   },
   "file_extension": ".py",
   "mimetype": "text/x-python",
   "name": "python",
   "nbconvert_exporter": "python",
   "pygments_lexer": "ipython3",
   "version": "3.11.6"
  }
 },
 "nbformat": 4,
 "nbformat_minor": 2
}
