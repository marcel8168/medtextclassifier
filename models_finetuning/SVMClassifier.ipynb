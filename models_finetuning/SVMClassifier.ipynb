{
 "cells": [
  {
   "cell_type": "markdown",
   "id": "4aa3ca1a",
   "metadata": {
    "execution": {
     "iopub.execute_input": "2023-12-15T08:40:51.875348Z",
     "iopub.status.busy": "2023-12-15T08:40:51.875009Z",
     "iopub.status.idle": "2023-12-15T08:40:51.890412Z",
     "shell.execute_reply": "2023-12-15T08:40:51.887503Z",
     "shell.execute_reply.started": "2023-12-15T08:40:51.875318Z"
    },
    "papermill": {
     "duration": 0.005071,
     "end_time": "2023-12-22T08:43:06.031485",
     "exception": false,
     "start_time": "2023-12-22T08:43:06.026414",
     "status": "completed"
    },
    "tags": []
   },
   "source": [
    "Data Pre-Processing and Preparing"
   ]
  },
  {
   "cell_type": "code",
   "execution_count": 4,
   "id": "3e38974b",
   "metadata": {
    "execution": {
     "iopub.execute_input": "2023-12-22T08:43:11.339205Z",
     "iopub.status.busy": "2023-12-22T08:43:11.338400Z",
     "iopub.status.idle": "2023-12-22T08:43:19.129782Z",
     "shell.execute_reply": "2023-12-22T08:43:19.128306Z"
    },
    "papermill": {
     "duration": 7.802097,
     "end_time": "2023-12-22T08:43:19.132629",
     "exception": false,
     "start_time": "2023-12-22T08:43:11.330532",
     "status": "completed"
    },
    "tags": []
   },
   "outputs": [
    {
     "name": "stderr",
     "output_type": "stream",
     "text": [
      "  8%|▊         | 2123/26780 [00:00<00:02, 10886.89it/s]"
     ]
    },
    {
     "name": "stdout",
     "output_type": "stream",
     "text": [
      "Processing medical field: human_medicine\n"
     ]
    },
    {
     "name": "stderr",
     "output_type": "stream",
     "text": [
      " 49%|████▉     | 13175/26780 [00:01<00:01, 12700.92it/s]"
     ]
    },
    {
     "name": "stdout",
     "output_type": "stream",
     "text": [
      "Processing medical field: veterinary_medicine\n"
     ]
    },
    {
     "name": "stderr",
     "output_type": "stream",
     "text": [
      "100%|██████████| 26780/26780 [00:03<00:00, 8502.95it/s] \n"
     ]
    }
   ],
   "source": [
    "from data_preprocessing import xml_to_df\n",
    "from global_parameters import LABELS_MAP_SVM\n",
    "from data_preparing import split_data\n",
    "\n",
    "\n",
    "xml_files = [\"NEJM_data.xml\", \"animals_data.xml\"]\n",
    "data_path = \"../data-querying/results/\"\n",
    "max_size = 10000\n",
    "\n",
    "hum_df, vet_df = xml_to_df(data_path, xml_files, labels_map=LABELS_MAP_SVM)\n",
    "train_set, val_set, test_set = split_data(hum_df, vet_df, max_size)\n",
    "\n",
    "train_set[\"title_abstract\"] = train_set[[\"title\", \"abstract\"]].apply(lambda row: ' '.join(row.values.astype(str)), axis=1)\n",
    "val_set[\"title_abstract\"] = val_set[[\"title\", \"abstract\"]].apply(lambda row: ' '.join(row.values.astype(str)), axis=1)\n",
    "test_set[\"title_abstract\"] = test_set[[\"title\", \"abstract\"]].apply(lambda row: ' '.join(row.values.astype(str)), axis=1)"
   ]
  },
  {
   "cell_type": "code",
   "execution_count": 5,
   "id": "3cc0cc83",
   "metadata": {
    "execution": {
     "iopub.execute_input": "2023-12-22T08:43:19.154787Z",
     "iopub.status.busy": "2023-12-22T08:43:19.154319Z",
     "iopub.status.idle": "2023-12-22T08:43:23.723679Z",
     "shell.execute_reply": "2023-12-22T08:43:23.722501Z"
    },
    "papermill": {
     "duration": 4.584209,
     "end_time": "2023-12-22T08:43:23.727041",
     "exception": false,
     "start_time": "2023-12-22T08:43:19.142832",
     "status": "completed"
    },
    "tags": []
   },
   "outputs": [],
   "source": [
    "from sklearn.feature_extraction.text import TfidfVectorizer\n",
    "\n",
    "vectorizer = TfidfVectorizer()\n",
    "\n",
    "train_x = vectorizer.fit_transform(train_set[\"title_abstract\"])\n",
    "train_y = train_set[\"labels\"]\n",
    "\n",
    "val_x = vectorizer.transform(val_set[\"title_abstract\"])\n",
    "val_y = val_set[\"labels\"]\n",
    "\n",
    "test_x = vectorizer.transform(test_set[\"title_abstract\"])\n",
    "test_y = test_set[\"labels\"]"
   ]
  },
  {
   "cell_type": "code",
   "execution_count": 6,
   "id": "49149bde",
   "metadata": {
    "execution": {
     "iopub.execute_input": "2023-12-22T08:43:23.749249Z",
     "iopub.status.busy": "2023-12-22T08:43:23.748826Z",
     "iopub.status.idle": "2023-12-22T08:43:25.233789Z",
     "shell.execute_reply": "2023-12-22T08:43:25.232530Z"
    },
    "papermill": {
     "duration": 1.499209,
     "end_time": "2023-12-22T08:43:25.236538",
     "exception": false,
     "start_time": "2023-12-22T08:43:23.737329",
     "status": "completed"
    },
    "tags": []
   },
   "outputs": [
    {
     "name": "stderr",
     "output_type": "stream",
     "text": [
      "c:\\Users\\albbl\\Documents\\Studium\\11_Semester\\medtextclassification_repo\\.venv\\Lib\\site-packages\\sklearn\\svm\\_classes.py:32: FutureWarning: The default value of `dual` will change from `True` to `'auto'` in 1.5. Set the value of `dual` explicitly to suppress the warning.\n",
      "  warnings.warn(\n"
     ]
    },
    {
     "name": "stdout",
     "output_type": "stream",
     "text": [
      "Score:  1.0\n"
     ]
    },
    {
     "name": "stderr",
     "output_type": "stream",
     "text": [
      "c:\\Users\\albbl\\Documents\\Studium\\11_Semester\\medtextclassification_repo\\.venv\\Lib\\site-packages\\sklearn\\svm\\_classes.py:32: FutureWarning: The default value of `dual` will change from `True` to `'auto'` in 1.5. Set the value of `dual` explicitly to suppress the warning.\n",
      "  warnings.warn(\n",
      "c:\\Users\\albbl\\Documents\\Studium\\11_Semester\\medtextclassification_repo\\.venv\\Lib\\site-packages\\sklearn\\svm\\_classes.py:32: FutureWarning: The default value of `dual` will change from `True` to `'auto'` in 1.5. Set the value of `dual` explicitly to suppress the warning.\n",
      "  warnings.warn(\n",
      "c:\\Users\\albbl\\Documents\\Studium\\11_Semester\\medtextclassification_repo\\.venv\\Lib\\site-packages\\sklearn\\svm\\_classes.py:32: FutureWarning: The default value of `dual` will change from `True` to `'auto'` in 1.5. Set the value of `dual` explicitly to suppress the warning.\n",
      "  warnings.warn(\n",
      "c:\\Users\\albbl\\Documents\\Studium\\11_Semester\\medtextclassification_repo\\.venv\\Lib\\site-packages\\sklearn\\svm\\_classes.py:32: FutureWarning: The default value of `dual` will change from `True` to `'auto'` in 1.5. Set the value of `dual` explicitly to suppress the warning.\n",
      "  warnings.warn(\n",
      "c:\\Users\\albbl\\Documents\\Studium\\11_Semester\\medtextclassification_repo\\.venv\\Lib\\site-packages\\sklearn\\svm\\_classes.py:32: FutureWarning: The default value of `dual` will change from `True` to `'auto'` in 1.5. Set the value of `dual` explicitly to suppress the warning.\n",
      "  warnings.warn(\n",
      "c:\\Users\\albbl\\Documents\\Studium\\11_Semester\\medtextclassification_repo\\.venv\\Lib\\site-packages\\sklearn\\svm\\_classes.py:32: FutureWarning: The default value of `dual` will change from `True` to `'auto'` in 1.5. Set the value of `dual` explicitly to suppress the warning.\n",
      "  warnings.warn(\n",
      "c:\\Users\\albbl\\Documents\\Studium\\11_Semester\\medtextclassification_repo\\.venv\\Lib\\site-packages\\sklearn\\svm\\_classes.py:32: FutureWarning: The default value of `dual` will change from `True` to `'auto'` in 1.5. Set the value of `dual` explicitly to suppress the warning.\n",
      "  warnings.warn(\n",
      "c:\\Users\\albbl\\Documents\\Studium\\11_Semester\\medtextclassification_repo\\.venv\\Lib\\site-packages\\sklearn\\svm\\_classes.py:32: FutureWarning: The default value of `dual` will change from `True` to `'auto'` in 1.5. Set the value of `dual` explicitly to suppress the warning.\n",
      "  warnings.warn(\n",
      "c:\\Users\\albbl\\Documents\\Studium\\11_Semester\\medtextclassification_repo\\.venv\\Lib\\site-packages\\sklearn\\svm\\_classes.py:32: FutureWarning: The default value of `dual` will change from `True` to `'auto'` in 1.5. Set the value of `dual` explicitly to suppress the warning.\n",
      "  warnings.warn(\n"
     ]
    },
    {
     "name": "stdout",
     "output_type": "stream",
     "text": [
      "CV average score: 1.00\n"
     ]
    },
    {
     "name": "stderr",
     "output_type": "stream",
     "text": [
      "c:\\Users\\albbl\\Documents\\Studium\\11_Semester\\medtextclassification_repo\\.venv\\Lib\\site-packages\\sklearn\\svm\\_classes.py:32: FutureWarning: The default value of `dual` will change from `True` to `'auto'` in 1.5. Set the value of `dual` explicitly to suppress the warning.\n",
      "  warnings.warn(\n"
     ]
    }
   ],
   "source": [
    "from sklearn.svm import LinearSVC\n",
    "from sklearn.model_selection import cross_val_score\n",
    "\n",
    "lsvc = LinearSVC(verbose=0)\n",
    "\n",
    "lsvc.fit(train_x, train_y)\n",
    "\n",
    "score = lsvc.score(train_x, train_y)\n",
    "print(\"Score: \", score)\n",
    "\n",
    "cv_scores = cross_val_score(lsvc, train_x, train_y, cv=10)\n",
    "print(\"CV average score: %.2f\" % cv_scores.mean())"
   ]
  },
  {
   "cell_type": "code",
   "execution_count": 7,
   "id": "1044935b",
   "metadata": {
    "execution": {
     "iopub.execute_input": "2023-12-22T08:43:25.258993Z",
     "iopub.status.busy": "2023-12-22T08:43:25.258528Z",
     "iopub.status.idle": "2023-12-22T08:43:25.282088Z",
     "shell.execute_reply": "2023-12-22T08:43:25.280620Z"
    },
    "papermill": {
     "duration": 0.037927,
     "end_time": "2023-12-22T08:43:25.284821",
     "exception": false,
     "start_time": "2023-12-22T08:43:25.246894",
     "status": "completed"
    },
    "tags": []
   },
   "outputs": [
    {
     "name": "stdout",
     "output_type": "stream",
     "text": [
      "[[994   6]\n",
      " [  1 999]]\n",
      "              precision    recall  f1-score   support\n",
      "\n",
      "           0       1.00      0.99      1.00      1000\n",
      "           1       0.99      1.00      1.00      1000\n",
      "\n",
      "    accuracy                           1.00      2000\n",
      "   macro avg       1.00      1.00      1.00      2000\n",
      "weighted avg       1.00      1.00      1.00      2000\n",
      "\n"
     ]
    }
   ],
   "source": [
    "from sklearn.metrics import confusion_matrix, classification_report\n",
    "\n",
    "pred_y = lsvc.predict(test_x)\n",
    "\n",
    "cm = confusion_matrix(test_y, pred_y)\n",
    "print(cm)\n",
    "\n",
    "cr = classification_report(test_y, pred_y)\n",
    "print(cr) "
   ]
  },
  {
   "cell_type": "code",
   "execution_count": 8,
   "id": "1823626b",
   "metadata": {
    "execution": {
     "iopub.execute_input": "2023-12-22T08:43:25.307817Z",
     "iopub.status.busy": "2023-12-22T08:43:25.306577Z",
     "iopub.status.idle": "2023-12-22T08:43:25.667221Z",
     "shell.execute_reply": "2023-12-22T08:43:25.666346Z"
    },
    "papermill": {
     "duration": 0.374555,
     "end_time": "2023-12-22T08:43:25.669475",
     "exception": false,
     "start_time": "2023-12-22T08:43:25.294920",
     "status": "completed"
    },
    "tags": []
   },
   "outputs": [
    {
     "data": {
      "image/png": "[encoded data removed]",
      "text/plain": [
       "<Figure size 640x480 with 2 Axes>"
      ]
     },
     "metadata": {},
     "output_type": "display_data"
    }
   ],
   "source": [
    "from matplotlib import pyplot as plt\n",
    "from sklearn.metrics import ConfusionMatrixDisplay\n",
    "\n",
    "\n",
    "labels = list(LABELS_MAP_SVM.keys())\n",
    "test_classes = [labels[0] if label == 0 else labels[1] for label in test_y]\n",
    "preds_classes = [labels[0] if label == 0 else labels[1] for label in pred_y]\n",
    "disp = ConfusionMatrixDisplay.from_predictions(test_classes, preds_classes, labels=labels, normalize=\"true\", cmap=plt.cm.Blues)\n",
    "disp.ax_.set_title(\"Confusion matrix (normalized)\")\n",
    "plt.show()"
   ]
  }
 ],
 "metadata": {
  "kaggle": {
   "accelerator": "none",
   "dataSources": [
    {
     "datasetId": 4108002,
     "sourceId": 7201785,
     "sourceType": "datasetVersion"
    },
    {
     "datasetId": 4108000,
     "sourceId": 7201802,
     "sourceType": "datasetVersion"
    }
   ],
   "dockerImageVersionId": 30627,
   "isGpuEnabled": false,
   "isInternetEnabled": true,
   "language": "python",
   "sourceType": "notebook"
  },
  "kernelspec": {
   "display_name": "Python 3",
   "language": "python",
   "name": "python3"
  },
  "language_info": {
   "codemirror_mode": {
    "name": "ipython",
    "version": 3
   },
   "file_extension": ".py",
   "mimetype": "text/x-python",
   "name": "python",
   "nbconvert_exporter": "python",
   "pygments_lexer": "ipython3",
   "version": "3.11.6"
  },
  "papermill": {
   "default_parameters": {},
   "duration": 25.130896,
   "end_time": "2023-12-22T08:43:27.004931",
   "environment_variables": {},
   "exception": null,
   "input_path": "__notebook__.ipynb",
   "output_path": "__notebook__.ipynb",
   "parameters": {},
   "start_time": "2023-12-22T08:43:01.874035",
   "version": "2.4.0"
  }
 },
 "nbformat": 4,
 "nbformat_minor": 5
}
